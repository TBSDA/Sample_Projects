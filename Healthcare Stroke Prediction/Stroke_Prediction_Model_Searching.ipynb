{
 "cells": [
  {
   "cell_type": "markdown",
   "id": "african-class",
   "metadata": {},
   "source": [
    "# Stroke Prediction Model Searching"
   ]
  },
  {
   "cell_type": "markdown",
   "id": "trained-corporation",
   "metadata": {},
   "source": [
    "Let's do some research to create stroke prediction model based on the healthcare-dataset-stroke-data dataset.\n",
    "\n",
    "Source: https://www.kaggle.com/datasets/fedesoriano/stroke-prediction-dataset"
   ]
  },
  {
   "cell_type": "raw",
   "id": "christian-button",
   "metadata": {},
   "source": [
    "Acknowledgements\n",
    "(Confidential Source) - Use only for educational purposes\n",
    "If you use this dataset in your research, please credit the author."
   ]
  },
  {
   "cell_type": "markdown",
   "id": "hidden-hughes",
   "metadata": {},
   "source": [
    "Let's get together the pipelines from Stroke_Prediction_Cleansing_and_Preprocessing notebook."
   ]
  },
  {
   "cell_type": "code",
   "execution_count": 1,
   "id": "established-detective",
   "metadata": {},
   "outputs": [],
   "source": [
    "import pandas as pd\n",
    "import numpy as np\n",
    "from sklearn.model_selection import train_test_split\n",
    "from sklearn.base import BaseEstimator, TransformerMixin\n",
    "from sklearn.preprocessing import LabelBinarizer\n",
    "from sklearn.pipeline import Pipeline\n",
    "from sklearn.preprocessing import OneHotEncoder\n",
    "from sklearn.preprocessing import StandardScaler\n",
    "from sklearn.pipeline import FeatureUnion"
   ]
  },
  {
   "cell_type": "code",
   "execution_count": 2,
   "id": "bound-concrete",
   "metadata": {},
   "outputs": [],
   "source": [
    "class DataFrameSelector(BaseEstimator, TransformerMixin):\n",
    "    def __init__(self, attribute_names):\n",
    "        self.attribute_names = attribute_names\n",
    "    def fit(self, X, y=None):\n",
    "        return self\n",
    "    def transform(self, X):\n",
    "        return X[self.attribute_names]\n",
    "\n",
    "class MyLabelBinarizer(LabelBinarizer):\n",
    "    def fit_transform(self, X, y=None):\n",
    "        return super(LabelBinarizer, self).fit_transform(X)\n",
    "\n",
    "class CustomLimitedImputer(BaseEstimator, TransformerMixin):\n",
    "    ''' Simple customized imputer to change the following:\n",
    "        smoking_status to \"never smoked\" if age < 10 and smoking_status = \"Unknown\"\n",
    "        work_type to \"children\" if age < 17 and swork_type = \"Never_worked\" '''\n",
    "    def __init__(self, attribute_names):\n",
    "        assert all(attr in ['smoking_status', 'work_type'] for attr in attribute_names), 'Only smoking_status and work_type are supported'\n",
    "        self.attribute_names = attribute_names\n",
    "    def fit(self, X, y=None):\n",
    "        return self\n",
    "    def transform(self, X):\n",
    "        X = X.copy()\n",
    "        for attr in self.attribute_names:\n",
    "            if attr == 'smoking_status':\n",
    "                X.loc[(X.age < 10) & (X.smoking_status == 'Unknown'), 'smoking_status'] = 'never smoked'\n",
    "            elif attr == 'work_type':\n",
    "                X.loc[(X.age < 17) & (X.work_type == 'Never_worked'), 'work_type'] = 'children'\n",
    "        X.drop(['age'], axis=1, inplace=True)\n",
    "        return X.values\n",
    "\n",
    "# pipelines\n",
    "cat_yn_pipeline = Pipeline([\n",
    "        (\"select_bin\", DataFrameSelector(['ever_married'])),\n",
    "        (\"bin_encoder\", MyLabelBinarizer()),\n",
    "    ])\n",
    "\n",
    "# cat_cust_pipeline = Pipeline([\n",
    "#         (\"select_cat\", DataFrameSelector(['smoking_status', 'work_type', 'age'])), # age is used as a parameter\n",
    "#         (\"cat_encoder\", CustomLimitedImputer(['smoking_status', 'work_type'])),\n",
    "#     ])\n",
    "\n",
    "cat_oh_pipeline = Pipeline([\n",
    "#         (\"select_cat\", DataFrameSelector(['smoking_status', 'work_type'])),\n",
    "        (\"select_cat\", DataFrameSelector(['smoking_status', 'work_type', 'age'])), # age is used as a parameter\n",
    "        (\"imputer\", CustomLimitedImputer(['smoking_status', 'work_type'])),\n",
    "        (\"cat_encoder\", OneHotEncoder(sparse=False)),\n",
    "    ])\n",
    "\n",
    "num_pipeline = Pipeline([\n",
    "        (\"select_numeric\", DataFrameSelector(['age', 'avg_glucose_level'])),\n",
    "        (\"scale\", StandardScaler()),\n",
    "    ])\n",
    "\n",
    "# final preprocessing pipeline\n",
    "preprocess_pipeline = FeatureUnion(transformer_list=[\n",
    "        ('cat_yn_pipeline', cat_yn_pipeline),\n",
    "#         ('cat_cust_pipeline', cat_cust_pipeline),\n",
    "        ('cat_oh_pipeline', cat_oh_pipeline),\n",
    "        ('num_pipeline', num_pipeline),\n",
    "    ])"
   ]
  },
  {
   "cell_type": "code",
   "execution_count": 3,
   "id": "crude-capability",
   "metadata": {},
   "outputs": [],
   "source": [
    "data = pd.read_csv('Data/healthcare-dataset-stroke-data.csv', index_col='id')"
   ]
  },
  {
   "cell_type": "code",
   "execution_count": 4,
   "id": "alleged-revelation",
   "metadata": {},
   "outputs": [
    {
     "data": {
      "text/html": [
       "<div>\n",
       "<style scoped>\n",
       "    .dataframe tbody tr th:only-of-type {\n",
       "        vertical-align: middle;\n",
       "    }\n",
       "\n",
       "    .dataframe tbody tr th {\n",
       "        vertical-align: top;\n",
       "    }\n",
       "\n",
       "    .dataframe thead th {\n",
       "        text-align: right;\n",
       "    }\n",
       "</style>\n",
       "<table border=\"1\" class=\"dataframe\">\n",
       "  <thead>\n",
       "    <tr style=\"text-align: right;\">\n",
       "      <th></th>\n",
       "      <th>gender</th>\n",
       "      <th>age</th>\n",
       "      <th>hypertension</th>\n",
       "      <th>heart_disease</th>\n",
       "      <th>ever_married</th>\n",
       "      <th>work_type</th>\n",
       "      <th>Residence_type</th>\n",
       "      <th>avg_glucose_level</th>\n",
       "      <th>bmi</th>\n",
       "      <th>smoking_status</th>\n",
       "      <th>stroke</th>\n",
       "    </tr>\n",
       "    <tr>\n",
       "      <th>id</th>\n",
       "      <th></th>\n",
       "      <th></th>\n",
       "      <th></th>\n",
       "      <th></th>\n",
       "      <th></th>\n",
       "      <th></th>\n",
       "      <th></th>\n",
       "      <th></th>\n",
       "      <th></th>\n",
       "      <th></th>\n",
       "      <th></th>\n",
       "    </tr>\n",
       "  </thead>\n",
       "  <tbody>\n",
       "    <tr>\n",
       "      <th>9046</th>\n",
       "      <td>Male</td>\n",
       "      <td>67.0</td>\n",
       "      <td>0</td>\n",
       "      <td>1</td>\n",
       "      <td>Yes</td>\n",
       "      <td>Private</td>\n",
       "      <td>Urban</td>\n",
       "      <td>228.69</td>\n",
       "      <td>36.6</td>\n",
       "      <td>formerly smoked</td>\n",
       "      <td>1</td>\n",
       "    </tr>\n",
       "    <tr>\n",
       "      <th>51676</th>\n",
       "      <td>Female</td>\n",
       "      <td>61.0</td>\n",
       "      <td>0</td>\n",
       "      <td>0</td>\n",
       "      <td>Yes</td>\n",
       "      <td>Self-employed</td>\n",
       "      <td>Rural</td>\n",
       "      <td>202.21</td>\n",
       "      <td>NaN</td>\n",
       "      <td>never smoked</td>\n",
       "      <td>1</td>\n",
       "    </tr>\n",
       "    <tr>\n",
       "      <th>31112</th>\n",
       "      <td>Male</td>\n",
       "      <td>80.0</td>\n",
       "      <td>0</td>\n",
       "      <td>1</td>\n",
       "      <td>Yes</td>\n",
       "      <td>Private</td>\n",
       "      <td>Rural</td>\n",
       "      <td>105.92</td>\n",
       "      <td>32.5</td>\n",
       "      <td>never smoked</td>\n",
       "      <td>1</td>\n",
       "    </tr>\n",
       "    <tr>\n",
       "      <th>60182</th>\n",
       "      <td>Female</td>\n",
       "      <td>49.0</td>\n",
       "      <td>0</td>\n",
       "      <td>0</td>\n",
       "      <td>Yes</td>\n",
       "      <td>Private</td>\n",
       "      <td>Urban</td>\n",
       "      <td>171.23</td>\n",
       "      <td>34.4</td>\n",
       "      <td>smokes</td>\n",
       "      <td>1</td>\n",
       "    </tr>\n",
       "    <tr>\n",
       "      <th>1665</th>\n",
       "      <td>Female</td>\n",
       "      <td>79.0</td>\n",
       "      <td>1</td>\n",
       "      <td>0</td>\n",
       "      <td>Yes</td>\n",
       "      <td>Self-employed</td>\n",
       "      <td>Rural</td>\n",
       "      <td>174.12</td>\n",
       "      <td>24.0</td>\n",
       "      <td>never smoked</td>\n",
       "      <td>1</td>\n",
       "    </tr>\n",
       "    <tr>\n",
       "      <th>...</th>\n",
       "      <td>...</td>\n",
       "      <td>...</td>\n",
       "      <td>...</td>\n",
       "      <td>...</td>\n",
       "      <td>...</td>\n",
       "      <td>...</td>\n",
       "      <td>...</td>\n",
       "      <td>...</td>\n",
       "      <td>...</td>\n",
       "      <td>...</td>\n",
       "      <td>...</td>\n",
       "    </tr>\n",
       "    <tr>\n",
       "      <th>18234</th>\n",
       "      <td>Female</td>\n",
       "      <td>80.0</td>\n",
       "      <td>1</td>\n",
       "      <td>0</td>\n",
       "      <td>Yes</td>\n",
       "      <td>Private</td>\n",
       "      <td>Urban</td>\n",
       "      <td>83.75</td>\n",
       "      <td>NaN</td>\n",
       "      <td>never smoked</td>\n",
       "      <td>0</td>\n",
       "    </tr>\n",
       "    <tr>\n",
       "      <th>44873</th>\n",
       "      <td>Female</td>\n",
       "      <td>81.0</td>\n",
       "      <td>0</td>\n",
       "      <td>0</td>\n",
       "      <td>Yes</td>\n",
       "      <td>Self-employed</td>\n",
       "      <td>Urban</td>\n",
       "      <td>125.20</td>\n",
       "      <td>40.0</td>\n",
       "      <td>never smoked</td>\n",
       "      <td>0</td>\n",
       "    </tr>\n",
       "    <tr>\n",
       "      <th>19723</th>\n",
       "      <td>Female</td>\n",
       "      <td>35.0</td>\n",
       "      <td>0</td>\n",
       "      <td>0</td>\n",
       "      <td>Yes</td>\n",
       "      <td>Self-employed</td>\n",
       "      <td>Rural</td>\n",
       "      <td>82.99</td>\n",
       "      <td>30.6</td>\n",
       "      <td>never smoked</td>\n",
       "      <td>0</td>\n",
       "    </tr>\n",
       "    <tr>\n",
       "      <th>37544</th>\n",
       "      <td>Male</td>\n",
       "      <td>51.0</td>\n",
       "      <td>0</td>\n",
       "      <td>0</td>\n",
       "      <td>Yes</td>\n",
       "      <td>Private</td>\n",
       "      <td>Rural</td>\n",
       "      <td>166.29</td>\n",
       "      <td>25.6</td>\n",
       "      <td>formerly smoked</td>\n",
       "      <td>0</td>\n",
       "    </tr>\n",
       "    <tr>\n",
       "      <th>44679</th>\n",
       "      <td>Female</td>\n",
       "      <td>44.0</td>\n",
       "      <td>0</td>\n",
       "      <td>0</td>\n",
       "      <td>Yes</td>\n",
       "      <td>Govt_job</td>\n",
       "      <td>Urban</td>\n",
       "      <td>85.28</td>\n",
       "      <td>26.2</td>\n",
       "      <td>Unknown</td>\n",
       "      <td>0</td>\n",
       "    </tr>\n",
       "  </tbody>\n",
       "</table>\n",
       "<p>5110 rows × 11 columns</p>\n",
       "</div>"
      ],
      "text/plain": [
       "       gender   age  hypertension  heart_disease ever_married      work_type  \\\n",
       "id                                                                             \n",
       "9046     Male  67.0             0              1          Yes        Private   \n",
       "51676  Female  61.0             0              0          Yes  Self-employed   \n",
       "31112    Male  80.0             0              1          Yes        Private   \n",
       "60182  Female  49.0             0              0          Yes        Private   \n",
       "1665   Female  79.0             1              0          Yes  Self-employed   \n",
       "...       ...   ...           ...            ...          ...            ...   \n",
       "18234  Female  80.0             1              0          Yes        Private   \n",
       "44873  Female  81.0             0              0          Yes  Self-employed   \n",
       "19723  Female  35.0             0              0          Yes  Self-employed   \n",
       "37544    Male  51.0             0              0          Yes        Private   \n",
       "44679  Female  44.0             0              0          Yes       Govt_job   \n",
       "\n",
       "      Residence_type  avg_glucose_level   bmi   smoking_status  stroke  \n",
       "id                                                                      \n",
       "9046           Urban             228.69  36.6  formerly smoked       1  \n",
       "51676          Rural             202.21   NaN     never smoked       1  \n",
       "31112          Rural             105.92  32.5     never smoked       1  \n",
       "60182          Urban             171.23  34.4           smokes       1  \n",
       "1665           Rural             174.12  24.0     never smoked       1  \n",
       "...              ...                ...   ...              ...     ...  \n",
       "18234          Urban              83.75   NaN     never smoked       0  \n",
       "44873          Urban             125.20  40.0     never smoked       0  \n",
       "19723          Rural              82.99  30.6     never smoked       0  \n",
       "37544          Rural             166.29  25.6  formerly smoked       0  \n",
       "44679          Urban              85.28  26.2          Unknown       0  \n",
       "\n",
       "[5110 rows x 11 columns]"
      ]
     },
     "execution_count": 4,
     "metadata": {},
     "output_type": "execute_result"
    }
   ],
   "source": [
    "data"
   ]
  },
  {
   "cell_type": "code",
   "execution_count": 5,
   "id": "considerable-atmosphere",
   "metadata": {},
   "outputs": [],
   "source": [
    "X_train, X_test, y_train, y_test = train_test_split(data[data.columns[:-1]], data.stroke, test_size=0.2, random_state=24) #stratify=data.stroke)"
   ]
  },
  {
   "cell_type": "code",
   "execution_count": 6,
   "id": "increased-suggestion",
   "metadata": {},
   "outputs": [],
   "source": [
    "X_train = preprocess_pipeline.fit_transform(X_train)\n",
    "X_test = preprocess_pipeline.transform(X_test)"
   ]
  },
  {
   "cell_type": "markdown",
   "id": "global-capacity",
   "metadata": {},
   "source": [
    "Let's start with simple Stochastic Gradient Descent"
   ]
  },
  {
   "cell_type": "code",
   "execution_count": 7,
   "id": "optimum-paint",
   "metadata": {},
   "outputs": [],
   "source": [
    "from sklearn.linear_model import SGDClassifier"
   ]
  },
  {
   "cell_type": "code",
   "execution_count": 8,
   "id": "hollow-syndicate",
   "metadata": {},
   "outputs": [
    {
     "data": {
      "text/plain": [
       "SGDClassifier(random_state=24)"
      ]
     },
     "execution_count": 8,
     "metadata": {},
     "output_type": "execute_result"
    }
   ],
   "source": [
    "sgdc = SGDClassifier(random_state=24)\n",
    "sgdc.fit(X_train, y_train)"
   ]
  },
  {
   "cell_type": "code",
   "execution_count": 7,
   "id": "sustainable-mounting",
   "metadata": {},
   "outputs": [],
   "source": [
    "from sklearn.model_selection import cross_val_score"
   ]
  },
  {
   "cell_type": "code",
   "execution_count": 14,
   "id": "proper-trash",
   "metadata": {},
   "outputs": [
    {
     "data": {
      "text/plain": [
       "0.9505878757370919"
      ]
     },
     "execution_count": 14,
     "metadata": {},
     "output_type": "execute_result"
    }
   ],
   "source": [
    "sgdc_scores = cross_val_score(sgdc, X_train, y_train, cv=10)\n",
    "sgdc_scores.mean()"
   ]
  },
  {
   "cell_type": "raw",
   "id": "invisible-there",
   "metadata": {},
   "source": [
    "Here the first issue appears. The score seems to be pretty high but stroke results are unbalanced in the dataset.\n",
    "Assuming all zeros (no stroke) the result is:"
   ]
  },
  {
   "cell_type": "code",
   "execution_count": 11,
   "id": "humanitarian-peoples",
   "metadata": {},
   "outputs": [
    {
     "data": {
      "text/plain": [
       "0.951320939334638"
      ]
     },
     "execution_count": 11,
     "metadata": {},
     "output_type": "execute_result"
    }
   ],
   "source": [
    "np.mean(y_train == 0)"
   ]
  },
  {
   "cell_type": "markdown",
   "id": "fundamental-young",
   "metadata": {},
   "source": [
    "The results are pretty similar. \n",
    "Let's check the precision and recall metrics."
   ]
  },
  {
   "cell_type": "code",
   "execution_count": 8,
   "id": "taken-eleven",
   "metadata": {},
   "outputs": [],
   "source": [
    "from sklearn.model_selection import cross_val_predict"
   ]
  },
  {
   "cell_type": "code",
   "execution_count": 18,
   "id": "collectible-feelings",
   "metadata": {},
   "outputs": [],
   "source": [
    "sgdc_scores = cross_val_predict(sgdc, X_train, y_train, cv=10)"
   ]
  },
  {
   "cell_type": "code",
   "execution_count": 9,
   "id": "elegant-canadian",
   "metadata": {},
   "outputs": [],
   "source": [
    "from sklearn.metrics import confusion_matrix"
   ]
  },
  {
   "cell_type": "code",
   "execution_count": 20,
   "id": "prospective-major",
   "metadata": {},
   "outputs": [
    {
     "data": {
      "text/plain": [
       "array([[3883,    6],\n",
       "       [ 196,    3]], dtype=int64)"
      ]
     },
     "execution_count": 20,
     "metadata": {},
     "output_type": "execute_result"
    }
   ],
   "source": [
    "confusion_matrix(y_train, sgdc_scores)"
   ]
  },
  {
   "cell_type": "code",
   "execution_count": 10,
   "id": "accepting-circuit",
   "metadata": {},
   "outputs": [],
   "source": [
    "from sklearn.metrics import precision_score, recall_score"
   ]
  },
  {
   "cell_type": "code",
   "execution_count": 22,
   "id": "diagnostic-immunology",
   "metadata": {},
   "outputs": [
    {
     "data": {
      "text/plain": [
       "0.01507537688442211"
      ]
     },
     "execution_count": 22,
     "metadata": {},
     "output_type": "execute_result"
    }
   ],
   "source": [
    "recall_score(y_train, sgdc_scores)"
   ]
  },
  {
   "cell_type": "code",
   "execution_count": 23,
   "id": "dress-charleston",
   "metadata": {},
   "outputs": [
    {
     "data": {
      "text/plain": [
       "0.3333333333333333"
      ]
     },
     "execution_count": 23,
     "metadata": {},
     "output_type": "execute_result"
    }
   ],
   "source": [
    "precision_score(y_train, sgdc_scores)"
   ]
  },
  {
   "cell_type": "markdown",
   "id": "complimentary-payment",
   "metadata": {},
   "source": [
    "Due to the problem nautre the model is predicting the recall metric will be a good choice. The model has to predict as much strokes as it can. Nothing wrong will happen if some false positive cases will be taken under observation by a doctor."
   ]
  },
  {
   "cell_type": "markdown",
   "id": "fresh-amount",
   "metadata": {},
   "source": [
    "The data is really unbalanced what reflects the reality. Let's then focus on decision tree-based models which are more tolerant for such data."
   ]
  },
  {
   "cell_type": "markdown",
   "id": "supported-telescope",
   "metadata": {},
   "source": [
    "Decision Tree Classifier."
   ]
  },
  {
   "cell_type": "code",
   "execution_count": 11,
   "id": "brutal-township",
   "metadata": {},
   "outputs": [],
   "source": [
    "from sklearn.tree import DecisionTreeClassifier"
   ]
  },
  {
   "cell_type": "code",
   "execution_count": 25,
   "id": "adolescent-princeton",
   "metadata": {},
   "outputs": [
    {
     "data": {
      "text/plain": [
       "DecisionTreeClassifier(random_state=24)"
      ]
     },
     "execution_count": 25,
     "metadata": {},
     "output_type": "execute_result"
    }
   ],
   "source": [
    "dtc = DecisionTreeClassifier(random_state=24)\n",
    "# dtc.fit(X_train, y_train)"
   ]
  },
  {
   "cell_type": "code",
   "execution_count": 26,
   "id": "approved-persian",
   "metadata": {},
   "outputs": [
    {
     "data": {
      "text/plain": [
       "0.19657894736842102"
      ]
     },
     "execution_count": 26,
     "metadata": {},
     "output_type": "execute_result"
    }
   ],
   "source": [
    "dtc_scores = cross_val_score(dtc, X_train, y_train, cv=10, scoring='recall')\n",
    "dtc_scores.mean()"
   ]
  },
  {
   "cell_type": "markdown",
   "id": "extended-profession",
   "metadata": {},
   "source": [
    "Extra Trees Classifier"
   ]
  },
  {
   "cell_type": "code",
   "execution_count": 27,
   "id": "irish-threshold",
   "metadata": {},
   "outputs": [],
   "source": [
    "from sklearn.ensemble import ExtraTreesClassifier"
   ]
  },
  {
   "cell_type": "code",
   "execution_count": 28,
   "id": "choice-roommate",
   "metadata": {},
   "outputs": [
    {
     "data": {
      "text/plain": [
       "ExtraTreesClassifier(random_state=24)"
      ]
     },
     "execution_count": 28,
     "metadata": {},
     "output_type": "execute_result"
    }
   ],
   "source": [
    "etc = ExtraTreesClassifier(random_state=24)\n",
    "# etc.fit(X_train, y_train)"
   ]
  },
  {
   "cell_type": "code",
   "execution_count": 29,
   "id": "industrial-exclusive",
   "metadata": {},
   "outputs": [
    {
     "data": {
      "text/plain": [
       "0.13026315789473683"
      ]
     },
     "execution_count": 29,
     "metadata": {},
     "output_type": "execute_result"
    }
   ],
   "source": [
    "etc_scores = cross_val_score(etc, X_train, y_train, cv=10, scoring='recall')\n",
    "etc_scores.mean()"
   ]
  },
  {
   "cell_type": "markdown",
   "id": "limited-content",
   "metadata": {},
   "source": [
    "AdaBoost Classifier"
   ]
  },
  {
   "cell_type": "code",
   "execution_count": 30,
   "id": "southwest-petroleum",
   "metadata": {},
   "outputs": [],
   "source": [
    "from sklearn.ensemble import AdaBoostClassifier"
   ]
  },
  {
   "cell_type": "code",
   "execution_count": 31,
   "id": "brave-aruba",
   "metadata": {},
   "outputs": [
    {
     "data": {
      "text/plain": [
       "AdaBoostClassifier(random_state=24)"
      ]
     },
     "execution_count": 31,
     "metadata": {},
     "output_type": "execute_result"
    }
   ],
   "source": [
    "abc = AdaBoostClassifier(random_state=24)\n",
    "# abc.fit(X_train, y_train)"
   ]
  },
  {
   "cell_type": "code",
   "execution_count": 32,
   "id": "ongoing-asset",
   "metadata": {},
   "outputs": [
    {
     "data": {
      "text/plain": [
       "0.005"
      ]
     },
     "execution_count": 32,
     "metadata": {},
     "output_type": "execute_result"
    }
   ],
   "source": [
    "abc_scores = cross_val_score(abc, X_train, y_train, cv=10, scoring='recall')\n",
    "abc_scores.mean()"
   ]
  },
  {
   "cell_type": "markdown",
   "id": "extra-indian",
   "metadata": {},
   "source": [
    "Random Forest Classifier"
   ]
  },
  {
   "cell_type": "code",
   "execution_count": 11,
   "id": "hidden-empire",
   "metadata": {},
   "outputs": [],
   "source": [
    "from sklearn.ensemble import RandomForestClassifier"
   ]
  },
  {
   "cell_type": "code",
   "execution_count": 34,
   "id": "regular-lodging",
   "metadata": {},
   "outputs": [
    {
     "data": {
      "text/plain": [
       "RandomForestClassifier(random_state=24)"
      ]
     },
     "execution_count": 34,
     "metadata": {},
     "output_type": "execute_result"
    }
   ],
   "source": [
    "rfc = RandomForestClassifier(random_state=24)\n",
    "# rfc.fit(X_train, y_train)"
   ]
  },
  {
   "cell_type": "code",
   "execution_count": 35,
   "id": "combined-syracuse",
   "metadata": {},
   "outputs": [
    {
     "data": {
      "text/plain": [
       "0.11026315789473684"
      ]
     },
     "execution_count": 35,
     "metadata": {},
     "output_type": "execute_result"
    }
   ],
   "source": [
    "rfc_scores = cross_val_score(rfc, X_train, y_train, cv=10, scoring='recall')\n",
    "rfc_scores.mean()"
   ]
  },
  {
   "cell_type": "code",
   "execution_count": 45,
   "id": "angry-orange",
   "metadata": {},
   "outputs": [],
   "source": [
    "from sklearn.ensemble import GradientBoostingClassifier"
   ]
  },
  {
   "cell_type": "code",
   "execution_count": 46,
   "id": "assured-deficit",
   "metadata": {},
   "outputs": [
    {
     "data": {
      "text/plain": [
       "GradientBoostingClassifier(random_state=24)"
      ]
     },
     "execution_count": 46,
     "metadata": {},
     "output_type": "execute_result"
    }
   ],
   "source": [
    "gbc = GradientBoostingClassifier(random_state=24)\n",
    "# gbc.fit(X_train, y_train)"
   ]
  },
  {
   "cell_type": "code",
   "execution_count": 47,
   "id": "acting-disclosure",
   "metadata": {},
   "outputs": [
    {
     "data": {
      "text/plain": [
       "0.015263157894736843"
      ]
     },
     "execution_count": 47,
     "metadata": {},
     "output_type": "execute_result"
    }
   ],
   "source": [
    "gbc_scores = cross_val_score(gbc, X_train, y_train, cv=10, scoring='recall')\n",
    "gbc_scores.mean()"
   ]
  },
  {
   "cell_type": "code",
   "execution_count": 54,
   "id": "atlantic-scenario",
   "metadata": {},
   "outputs": [],
   "source": [
    "from sklearn.experimental import enable_hist_gradient_boosting\n",
    "from sklearn.ensemble import HistGradientBoostingClassifier"
   ]
  },
  {
   "cell_type": "code",
   "execution_count": 55,
   "id": "living-albert",
   "metadata": {},
   "outputs": [
    {
     "data": {
      "text/plain": [
       "HistGradientBoostingClassifier(random_state=24)"
      ]
     },
     "execution_count": 55,
     "metadata": {},
     "output_type": "execute_result"
    }
   ],
   "source": [
    "hgbc = HistGradientBoostingClassifier(random_state=24)\n",
    "# hgbc.fit(X_train, y_train)"
   ]
  },
  {
   "cell_type": "code",
   "execution_count": 56,
   "id": "abstract-setting",
   "metadata": {},
   "outputs": [
    {
     "data": {
      "text/plain": [
       "0.05026315789473686"
      ]
     },
     "execution_count": 56,
     "metadata": {},
     "output_type": "execute_result"
    }
   ],
   "source": [
    "hgbc_scores = cross_val_score(hgbc, X_train, y_train, cv=10, scoring='recall')\n",
    "hgbc_scores.mean()"
   ]
  },
  {
   "cell_type": "raw",
   "id": "informal-dining",
   "metadata": {},
   "source": [
    "Top 3 with default hiperparameters are:\n",
    "Model\t\t\t\t\tRecall\n",
    "DecisionTreeClassifier\t0.197\n",
    "ExtraTreesClassifier\t0.13\n",
    "RandomForestClassifier\t0.11"
   ]
  },
  {
   "cell_type": "markdown",
   "id": "light-juvenile",
   "metadata": {},
   "source": [
    "Let's use the GridSearchCV to find better hiperparameters."
   ]
  },
  {
   "cell_type": "code",
   "execution_count": 12,
   "id": "baking-newman",
   "metadata": {},
   "outputs": [],
   "source": [
    "from sklearn.model_selection import GridSearchCV"
   ]
  },
  {
   "cell_type": "markdown",
   "id": "aggregate-niger",
   "metadata": {},
   "source": [
    "Decision Tree Classifier"
   ]
  },
  {
   "cell_type": "code",
   "execution_count": 72,
   "id": "pretty-veteran",
   "metadata": {},
   "outputs": [],
   "source": [
    "param_grid = [\n",
    "    {'max_depth': [None]+[x for x in range(1, 20)],\n",
    "     'min_samples_leaf': [1, 2, 3, 4],\n",
    "     'max_features': [None]+['auto', 'sqrt', 'log2'],\n",
    "    }]"
   ]
  },
  {
   "cell_type": "code",
   "execution_count": 73,
   "id": "worthy-rating",
   "metadata": {},
   "outputs": [
    {
     "data": {
      "text/plain": [
       "GridSearchCV(cv=10, estimator=DecisionTreeClassifier(random_state=24),\n",
       "             param_grid=[{'max_depth': [None, 1, 2, 3, 4, 5, 6, 7, 8, 9, 10, 11,\n",
       "                                        12, 13, 14, 15, 16, 17, 18, 19],\n",
       "                          'max_features': [None, 'auto', 'sqrt', 'log2'],\n",
       "                          'min_samples_leaf': [1, 2, 3, 4]}],\n",
       "             scoring='recall')"
      ]
     },
     "execution_count": 73,
     "metadata": {},
     "output_type": "execute_result"
    }
   ],
   "source": [
    "dt_clf = DecisionTreeClassifier(random_state=24)\n",
    "grid_search = GridSearchCV(dt_clf, param_grid, cv=10, scoring='recall')\n",
    "grid_search.fit(X_train, y_train)"
   ]
  },
  {
   "cell_type": "code",
   "execution_count": 74,
   "id": "armed-health",
   "metadata": {},
   "outputs": [
    {
     "data": {
      "text/plain": [
       "DecisionTreeClassifier(max_features='auto', random_state=24)"
      ]
     },
     "execution_count": 74,
     "metadata": {},
     "output_type": "execute_result"
    }
   ],
   "source": [
    "grid_search.best_estimator_"
   ]
  },
  {
   "cell_type": "code",
   "execution_count": 71,
   "id": "foreign-myanmar",
   "metadata": {},
   "outputs": [
    {
     "data": {
      "text/plain": [
       "0.20131578947368425"
      ]
     },
     "execution_count": 71,
     "metadata": {},
     "output_type": "execute_result"
    }
   ],
   "source": [
    "dtc = DecisionTreeClassifier(max_features='auto', random_state=24)\n",
    "# dtc.fit(X_train, y_train)\n",
    "\n",
    "dtc_scores = cross_val_score(dtc, X_train, y_train, cv=10, scoring='recall')\n",
    "dtc_scores.mean()"
   ]
  },
  {
   "cell_type": "markdown",
   "id": "framed-plaintiff",
   "metadata": {},
   "source": [
    "Just slightly better."
   ]
  },
  {
   "cell_type": "markdown",
   "id": "exciting-junction",
   "metadata": {},
   "source": [
    "Extra Trees Classifier"
   ]
  },
  {
   "cell_type": "code",
   "execution_count": 230,
   "id": "light-reaction",
   "metadata": {},
   "outputs": [],
   "source": [
    "param_grid = [\n",
    "    {'n_estimators': [x for x in range(172, 193, 10)],\n",
    "     'criterion': ['gini', 'entropy'], #, 'log_loss'],\n",
    "#      'max_depth': [None]+[x for x in range(1, 20)],\n",
    "#      'max_depth': [None]+[20, 40],\n",
    "#      'min_samples_split': [2, 3, 4],\n",
    "#      'min_samples_leaf': [1, 5, 10, 15],\n",
    "#      'max_features': [None]+['auto', 'sqrt', 'log2'],\n",
    "     'max_features': [None, 'sqrt'],\n",
    "#      'max_leaf_nodes': [None, 4, 8, 16]\n",
    "#      'bootstrap': [True, False],\n",
    "#      'max_samples': [None, 1000, 1500, 2000],\n",
    "     'class_weight': [None, 'balanced', 'balanced_subsample']\n",
    "    }]"
   ]
  },
  {
   "cell_type": "code",
   "execution_count": 231,
   "id": "executed-nerve",
   "metadata": {},
   "outputs": [
    {
     "data": {
      "text/plain": [
       "GridSearchCV(cv=10, estimator=ExtraTreesClassifier(random_state=24),\n",
       "             param_grid=[{'class_weight': [None, 'balanced',\n",
       "                                           'balanced_subsample'],\n",
       "                          'criterion': ['gini', 'entropy'],\n",
       "                          'max_features': [None, 'sqrt'],\n",
       "                          'n_estimators': [172, 182, 192]}],\n",
       "             scoring='recall')"
      ]
     },
     "execution_count": 231,
     "metadata": {},
     "output_type": "execute_result"
    }
   ],
   "source": [
    "et_clf = ExtraTreesClassifier(random_state=24)\n",
    "grid_search = GridSearchCV(et_clf, param_grid, cv=10, scoring='recall')\n",
    "grid_search.fit(X_train, y_train)"
   ]
  },
  {
   "cell_type": "code",
   "execution_count": 232,
   "id": "hairy-disclosure",
   "metadata": {},
   "outputs": [
    {
     "data": {
      "text/plain": [
       "ExtraTreesClassifier(criterion='entropy', max_features=None, n_estimators=172,\n",
       "                     random_state=24)"
      ]
     },
     "execution_count": 232,
     "metadata": {},
     "output_type": "execute_result"
    }
   ],
   "source": [
    "grid_search.best_estimator_"
   ]
  },
  {
   "cell_type": "code",
   "execution_count": 145,
   "id": "relative-semester",
   "metadata": {},
   "outputs": [
    {
     "data": {
      "text/plain": [
       "0.16026315789473683"
      ]
     },
     "execution_count": 145,
     "metadata": {},
     "output_type": "execute_result"
    }
   ],
   "source": [
    "# etc = ExtraTreesClassifier(max_depth=20, n_estimators=200, random_state=24)\n",
    "# etc = ExtraTreesClassifier(n_estimators=188, random_state=24)\n",
    "# etc = ExtraTreesClassifier(max_features=None, n_estimators=188, random_state=24)\n",
    "# etc = ExtraTreesClassifier(criterion='entropy', max_features=None, n_estimators=184, random_state=24)\n",
    "etc = ExtraTreesClassifier(criterion='entropy', max_features=None, n_estimators=172, random_state=24)\n",
    "# etc.fit(X_train, y_train)\n",
    "\n",
    "etc_scores = cross_val_score(etc, X_train, y_train, cv=10, scoring='recall')\n",
    "etc_scores.mean()"
   ]
  },
  {
   "cell_type": "raw",
   "id": "leading-nickel",
   "metadata": {},
   "source": [
    "0.13552631578947366 ExtraTreesClassifier(n_estimators=190, random_state=24)\n",
    "0.1405263157894737 ExtraTreesClassifier(n_estimators=188, random_state=24)\n",
    "0.15552631578947368 ExtraTreesClassifier(max_features=None, n_estimators=188, random_state=24)\n",
    "0.16026315789473683 ExtraTreesClassifier(criterion='entropy', max_features=None, n_estimators=184, random_state=24)"
   ]
  },
  {
   "cell_type": "markdown",
   "id": "published-feature",
   "metadata": {},
   "source": [
    "A lot of searching for 23% improvement 0.13 -> 0.16."
   ]
  },
  {
   "cell_type": "code",
   "execution_count": null,
   "id": "crude-simulation",
   "metadata": {},
   "outputs": [],
   "source": [
    "Random Forest Classifier"
   ]
  },
  {
   "cell_type": "code",
   "execution_count": 210,
   "id": "stock-ideal",
   "metadata": {},
   "outputs": [],
   "source": [
    "param_grid = [\n",
    "    {'n_estimators': [x for x in range(380, 391, 10)],\n",
    "#      'criterion': ['gini', 'entropy', 'log_loss'],\n",
    "     'criterion': ['entropy'],\n",
    "#      'max_depth': [None]+[x for x in range(1, 20)],\n",
    "#      'max_depth': [None]+[1, 10, 20],\n",
    "#      'min_samples_split': [2, 3, 4],\n",
    "#      'min_samples_leaf': [1, 2, 3, 4],\n",
    "#      'max_features': [None]+['auto', 'sqrt', 'log2'],\n",
    "#      'bootstrap': [True, False],\n",
    "     'bootstrap': [False],\n",
    "#      'max_samples': [None, 1000, 1500, 2000],\n",
    "#      'class_weight': [None, 'balanced', 'balanced_subsample']\n",
    "    }]"
   ]
  },
  {
   "cell_type": "code",
   "execution_count": 211,
   "id": "adjacent-sociology",
   "metadata": {},
   "outputs": [
    {
     "name": "stdout",
     "output_type": "stream",
     "text": [
      "Wall time: 1min 34s\n"
     ]
    },
    {
     "data": {
      "text/plain": [
       "GridSearchCV(cv=10, estimator=RandomForestClassifier(random_state=24),\n",
       "             param_grid=[{'bootstrap': [False],\n",
       "                          'class_weight': [None, 'balanced',\n",
       "                                           'balanced_subsample'],\n",
       "                          'criterion': ['entropy'],\n",
       "                          'n_estimators': [380, 390]}],\n",
       "             scoring='recall')"
      ]
     },
     "execution_count": 211,
     "metadata": {},
     "output_type": "execute_result"
    }
   ],
   "source": [
    "%%time\n",
    "rf_clf = RandomForestClassifier(random_state=24)\n",
    "grid_search = GridSearchCV(rf_clf, param_grid, cv=10, scoring='recall')\n",
    "grid_search.fit(X_train, y_train)"
   ]
  },
  {
   "cell_type": "code",
   "execution_count": 212,
   "id": "technical-cliff",
   "metadata": {},
   "outputs": [
    {
     "data": {
      "text/plain": [
       "RandomForestClassifier(bootstrap=False, criterion='entropy', n_estimators=380,\n",
       "                       random_state=24)"
      ]
     },
     "execution_count": 212,
     "metadata": {},
     "output_type": "execute_result"
    }
   ],
   "source": [
    "grid_search.best_estimator_"
   ]
  },
  {
   "cell_type": "code",
   "execution_count": 302,
   "id": "unavailable-alexander",
   "metadata": {},
   "outputs": [
    {
     "data": {
      "text/plain": [
       "0.16052631578947368"
      ]
     },
     "execution_count": 302,
     "metadata": {},
     "output_type": "execute_result"
    }
   ],
   "source": [
    "rfc = RandomForestClassifier(bootstrap=False, criterion='entropy', n_estimators=380, random_state=24)\n",
    "rfc.fit(X_train, y_train)\n",
    "\n",
    "rfc_scores = cross_val_score(rfc, X_train, y_train, cv=10, scoring='recall')\n",
    "rfc_scores.mean()"
   ]
  },
  {
   "cell_type": "raw",
   "id": "wired-corner",
   "metadata": {},
   "source": [
    "0.13026315789473686 RandomForestClassifier(n_estimators=410, random_state=24)\n",
    "0.15052631578947367 RandomForestClassifier(bootstrap=False, n_estimators=380, random_state=24)\n",
    "0.16052631578947368 RandomForestClassifier(bootstrap=False, criterion='entropy', n_estimators=380, random_state=24)"
   ]
  },
  {
   "cell_type": "raw",
   "id": "spoken-coupon",
   "metadata": {},
   "source": [
    "The research led to some improvements, but the results are still poor. The best recall score is about 20%. It is far away from desired results. \n",
    "A couple things can be considered as a further steps:\n",
    "Resampling - oversampling, SMOTE, undersampling\n",
    "Changing metric - AUC, Kappa\n",
    "Other algorithms - C5, anomaly detection, change detection"
   ]
  },
  {
   "cell_type": "markdown",
   "id": "controlled-criminal",
   "metadata": {},
   "source": [
    "Let's give a chance for oversampling."
   ]
  },
  {
   "cell_type": "code",
   "execution_count": 14,
   "id": "featured-framing",
   "metadata": {},
   "outputs": [],
   "source": [
    "from sklearn.utils import resample"
   ]
  },
  {
   "cell_type": "code",
   "execution_count": 12,
   "id": "lined-directory",
   "metadata": {},
   "outputs": [],
   "source": [
    "# double the stroke examples\n",
    "X_oversampled, y_oversampled = resample(X_train[y_train == 1],\n",
    "                                        y_train[y_train == 1],\n",
    "                                        replace=True,\n",
    "                                        n_samples=y_train[y_train == 1].shape[0],\n",
    "                                        random_state=24)"
   ]
  },
  {
   "cell_type": "code",
   "execution_count": 13,
   "id": "analyzed-hayes",
   "metadata": {},
   "outputs": [],
   "source": [
    "X_train_os = np.vstack((X_train, X_oversampled))\n",
    "y_train_os = np.hstack((y_train, y_oversampled))"
   ]
  },
  {
   "cell_type": "code",
   "execution_count": 249,
   "id": "conceptual-trash",
   "metadata": {},
   "outputs": [
    {
     "data": {
      "text/plain": [
       "((4287, 12), (4088, 12))"
      ]
     },
     "execution_count": 249,
     "metadata": {},
     "output_type": "execute_result"
    }
   ],
   "source": [
    "X_train_os.shape, X_train.shape"
   ]
  },
  {
   "cell_type": "code",
   "execution_count": 250,
   "id": "ideal-kinase",
   "metadata": {},
   "outputs": [
    {
     "data": {
      "text/plain": [
       "((4287,), (4088,))"
      ]
     },
     "execution_count": 250,
     "metadata": {},
     "output_type": "execute_result"
    }
   ],
   "source": [
    "y_train_os.shape, y_train.shape"
   ]
  },
  {
   "cell_type": "code",
   "execution_count": 263,
   "id": "suspected-birthday",
   "metadata": {},
   "outputs": [
    {
     "data": {
      "text/plain": [
       "(0    3889\n",
       " 1     199\n",
       " Name: stroke, dtype: int64,\n",
       " array([3889,  398], dtype=int64))"
      ]
     },
     "execution_count": 263,
     "metadata": {},
     "output_type": "execute_result"
    }
   ],
   "source": [
    "y_train.value_counts(), np.bincount(y_train_os)"
   ]
  },
  {
   "cell_type": "code",
   "execution_count": 16,
   "id": "brutal-expense",
   "metadata": {},
   "outputs": [
    {
     "data": {
      "text/plain": [
       "0.8474999999999999"
      ]
     },
     "execution_count": 16,
     "metadata": {},
     "output_type": "execute_result"
    }
   ],
   "source": [
    "dtc_os = DecisionTreeClassifier(max_features='auto', random_state=24)\n",
    "# dtc_os.fit(X_train_os, y_train_os)\n",
    "\n",
    "dtc_scores_os = cross_val_score(dtc_os, X_train_os, y_train_os, cv=10, scoring='recall')\n",
    "dtc_scores_os.mean()"
   ]
  },
  {
   "cell_type": "code",
   "execution_count": 294,
   "id": "governing-degree",
   "metadata": {},
   "outputs": [
    {
     "data": {
      "text/plain": [
       "0.845"
      ]
     },
     "execution_count": 294,
     "metadata": {},
     "output_type": "execute_result"
    }
   ],
   "source": [
    "etc_os = ExtraTreesClassifier(criterion='entropy', max_features=None, n_estimators=172, random_state=24)\n",
    "# etc_os.fit(X_train_os, y_train_os)\n",
    "\n",
    "etc_scores_os = cross_val_score(etc_os, X_train_os, y_train_os, cv=10, scoring='recall')\n",
    "etc_scores_os.mean()"
   ]
  },
  {
   "cell_type": "code",
   "execution_count": 301,
   "id": "plastic-tongue",
   "metadata": {},
   "outputs": [
    {
     "data": {
      "text/plain": [
       "0.8550000000000001"
      ]
     },
     "execution_count": 301,
     "metadata": {},
     "output_type": "execute_result"
    }
   ],
   "source": [
    "rfc_os = RandomForestClassifier(bootstrap=False, criterion='entropy', n_estimators=380, random_state=24)\n",
    "rfc_os.fit(X_train_os, y_train_os)\n",
    "\n",
    "rfc_scores_os = cross_val_score(rfc_os, X_train_os, y_train_os, cv=10, scoring='recall')\n",
    "rfc_scores_os.mean()"
   ]
  },
  {
   "cell_type": "markdown",
   "id": "subjective-subscriber",
   "metadata": {},
   "source": [
    "Wow! By increasing the stroke examples in the test set by 2 times the recall become almost 533% better."
   ]
  },
  {
   "cell_type": "code",
   "execution_count": 16,
   "id": "breeding-impact",
   "metadata": {},
   "outputs": [],
   "source": [
    "# triple the stroke examples\n",
    "X_oversampled3, y_oversampled3 = resample(X_train[y_train == 1],\n",
    "                                        y_train[y_train == 1],\n",
    "                                        replace=True,\n",
    "                                        n_samples=2*y_train[y_train == 1].shape[0],\n",
    "                                        random_state=24)"
   ]
  },
  {
   "cell_type": "code",
   "execution_count": 17,
   "id": "blocked-match",
   "metadata": {},
   "outputs": [],
   "source": [
    "X_train_os3 = np.vstack((X_train, X_oversampled3))\n",
    "y_train_os3 = np.hstack((y_train, y_oversampled3))"
   ]
  },
  {
   "cell_type": "code",
   "execution_count": 18,
   "id": "sweet-jefferson",
   "metadata": {},
   "outputs": [
    {
     "data": {
      "text/plain": [
       "((4486, 12), (4088, 12))"
      ]
     },
     "execution_count": 18,
     "metadata": {},
     "output_type": "execute_result"
    }
   ],
   "source": [
    "X_train_os3.shape, X_train.shape"
   ]
  },
  {
   "cell_type": "code",
   "execution_count": 19,
   "id": "immediate-panel",
   "metadata": {},
   "outputs": [
    {
     "data": {
      "text/plain": [
       "((4486,), (4088,))"
      ]
     },
     "execution_count": 19,
     "metadata": {},
     "output_type": "execute_result"
    }
   ],
   "source": [
    "y_train_os3.shape, y_train.shape"
   ]
  },
  {
   "cell_type": "code",
   "execution_count": 276,
   "id": "vertical-potential",
   "metadata": {},
   "outputs": [
    {
     "data": {
      "text/plain": [
       "0.9616666666666667"
      ]
     },
     "execution_count": 276,
     "metadata": {},
     "output_type": "execute_result"
    }
   ],
   "source": [
    "dtc_os2 = DecisionTreeClassifier(max_features='auto', random_state=24)\n",
    "# dtc_os2.fit(X_train_os3, y_train_os3)\n",
    "\n",
    "dtc_scores_os2 = cross_val_score(dtc_os2, X_train_os3, y_train_os3, cv=10, scoring='recall')\n",
    "dtc_scores_os2.mean()"
   ]
  },
  {
   "cell_type": "code",
   "execution_count": 275,
   "id": "german-orange",
   "metadata": {},
   "outputs": [
    {
     "data": {
      "text/plain": [
       "0.96"
      ]
     },
     "execution_count": 275,
     "metadata": {},
     "output_type": "execute_result"
    }
   ],
   "source": [
    "etc_os2 = ExtraTreesClassifier(criterion='entropy', max_features=None, n_estimators=172, random_state=24)\n",
    "# etc_os2.fit(X_train_os3, y_train_os3)\n",
    "\n",
    "etc_scores_os2 = cross_val_score(etc_os2, X_train_os3, y_train_os3, cv=10, scoring='recall')\n",
    "etc_scores_os2.mean()"
   ]
  },
  {
   "cell_type": "code",
   "execution_count": 20,
   "id": "strong-eating",
   "metadata": {},
   "outputs": [
    {
     "data": {
      "text/plain": [
       "0.9633333333333333"
      ]
     },
     "execution_count": 20,
     "metadata": {},
     "output_type": "execute_result"
    }
   ],
   "source": [
    "rfc_os2 = RandomForestClassifier(bootstrap=False, criterion='entropy', n_estimators=380, random_state=24)\n",
    "rfc_os2.fit(X_train_os3, y_train_os3)\n",
    "\n",
    "rfc_scores_os2 = cross_val_score(rfc_os2, X_train_os3, y_train_os3, cv=10, scoring='recall')\n",
    "rfc_scores_os2.mean()"
   ]
  },
  {
   "cell_type": "raw",
   "id": "powered-function",
   "metadata": {},
   "source": [
    "Wow again! By increasing the stroke examples in the test set by 3 times the recall become even 600% better.\n",
    "The best results:\n",
    "roc_auc is 0.98871\n",
    "recall is 0.96333"
   ]
  },
  {
   "cell_type": "markdown",
   "id": "regional-inventory",
   "metadata": {},
   "source": [
    "Would be good to take a look on the confusion_matrix "
   ]
  },
  {
   "cell_type": "code",
   "execution_count": 21,
   "id": "apart-surname",
   "metadata": {},
   "outputs": [
    {
     "data": {
      "text/plain": [
       "array([[3777,  112],\n",
       "       [  22,  575]], dtype=int64)"
      ]
     },
     "execution_count": 21,
     "metadata": {},
     "output_type": "execute_result"
    }
   ],
   "source": [
    "rfc_pred_os = cross_val_predict(rfc_os2, X_train_os3, y_train_os3, cv=10)\n",
    "confusion_matrix(y_train_os3, rfc_pred_os)"
   ]
  },
  {
   "cell_type": "raw",
   "id": "everyday-winter",
   "metadata": {},
   "source": [
    "22 of 597 stroke have been omitted by the model.\n",
    "112 of 3889 no-stroke have been marked as stroke. It is 2.88%, not so big part referring to 96.3% of successfully predicted strokes."
   ]
  },
  {
   "cell_type": "markdown",
   "id": "favorite-enlargement",
   "metadata": {},
   "source": [
    "Let's take a breath and verify the models on the test data."
   ]
  },
  {
   "cell_type": "code",
   "execution_count": 22,
   "id": "simple-hepatitis",
   "metadata": {},
   "outputs": [],
   "source": [
    "y_pred = rfc_os2.predict(X_test)"
   ]
  },
  {
   "cell_type": "code",
   "execution_count": 23,
   "id": "brazilian-dutch",
   "metadata": {},
   "outputs": [
    {
     "data": {
      "text/plain": [
       "array([[948,  24],\n",
       "       [ 48,   2]], dtype=int64)"
      ]
     },
     "execution_count": 23,
     "metadata": {},
     "output_type": "execute_result"
    }
   ],
   "source": [
    "confusion_matrix(y_test, y_pred)"
   ]
  },
  {
   "cell_type": "code",
   "execution_count": 24,
   "id": "affected-tiger",
   "metadata": {},
   "outputs": [
    {
     "data": {
      "text/plain": [
       "0.04"
      ]
     },
     "execution_count": 24,
     "metadata": {},
     "output_type": "execute_result"
    }
   ],
   "source": [
    "recall_score(y_test, y_pred)"
   ]
  },
  {
   "cell_type": "markdown",
   "id": "outer-cooling",
   "metadata": {},
   "source": [
    "4% not so good anymore huh? After oversampling the train data the model became overfitted."
   ]
  },
  {
   "cell_type": "markdown",
   "id": "compressed-democracy",
   "metadata": {},
   "source": [
    "Let's give the SMOTE a chance "
   ]
  },
  {
   "cell_type": "code",
   "execution_count": 14,
   "id": "flush-gates",
   "metadata": {},
   "outputs": [],
   "source": [
    "from imblearn.over_sampling import SMOTE"
   ]
  },
  {
   "cell_type": "code",
   "execution_count": 30,
   "id": "general-topic",
   "metadata": {},
   "outputs": [],
   "source": [
    "oversample = SMOTE(sampling_strategy=0.1, random_state=24)\n",
    "X_smote, y_smote = oversample.fit_resample(X_train, y_train)"
   ]
  },
  {
   "cell_type": "code",
   "execution_count": 31,
   "id": "prostate-chicago",
   "metadata": {},
   "outputs": [
    {
     "data": {
      "text/plain": [
       "((4277, 12), (4088, 12))"
      ]
     },
     "execution_count": 31,
     "metadata": {},
     "output_type": "execute_result"
    }
   ],
   "source": [
    "X_smote.shape, X_train.shape"
   ]
  },
  {
   "cell_type": "code",
   "execution_count": 32,
   "id": "reported-fruit",
   "metadata": {},
   "outputs": [
    {
     "data": {
      "text/plain": [
       "((4277,), (4088,))"
      ]
     },
     "execution_count": 32,
     "metadata": {},
     "output_type": "execute_result"
    }
   ],
   "source": [
    "y_smote.shape, y_train.shape"
   ]
  },
  {
   "cell_type": "code",
   "execution_count": 33,
   "id": "adjustable-effectiveness",
   "metadata": {},
   "outputs": [
    {
     "data": {
      "text/plain": [
       "(0    3889\n",
       " 1     199\n",
       " Name: stroke, dtype: int64,\n",
       " array([3889,  388], dtype=int64))"
      ]
     },
     "execution_count": 33,
     "metadata": {},
     "output_type": "execute_result"
    }
   ],
   "source": [
    "y_train.value_counts(), np.bincount(y_smote)"
   ]
  },
  {
   "cell_type": "markdown",
   "id": "bearing-baptist",
   "metadata": {},
   "source": [
    "Let's see the results for \"smoted\" data."
   ]
  },
  {
   "cell_type": "code",
   "execution_count": 47,
   "id": "coated-record",
   "metadata": {},
   "outputs": [
    {
     "data": {
      "text/plain": [
       "0.4854925775978408"
      ]
     },
     "execution_count": 47,
     "metadata": {},
     "output_type": "execute_result"
    }
   ],
   "source": [
    "rfc_smote = RandomForestClassifier(bootstrap=False, criterion='entropy', n_estimators=380, random_state=24)\n",
    "rfc_smote.fit(X_smote, y_smote)\n",
    "\n",
    "rfc_scores_smote = cross_val_score(rfc_smote, X_smote, y_smote, cv=10, scoring='recall')\n",
    "rfc_scores_smote.mean()"
   ]
  },
  {
   "cell_type": "markdown",
   "id": "insured-mechanism",
   "metadata": {},
   "source": [
    "Let's see the impact of higher minority class sample generation ratio."
   ]
  },
  {
   "cell_type": "code",
   "execution_count": 48,
   "id": "proper-excess",
   "metadata": {},
   "outputs": [],
   "source": [
    "oversample = SMOTE(sampling_strategy=0.2, random_state=24)\n",
    "X_train_smote, y_train_smote = oversample.fit_resample(X_train, y_train)"
   ]
  },
  {
   "cell_type": "code",
   "execution_count": 49,
   "id": "mexican-roads",
   "metadata": {},
   "outputs": [
    {
     "data": {
      "text/plain": [
       "('X', (4666, 12), (4088, 12), 'y', (4666,), (4088,))"
      ]
     },
     "execution_count": 49,
     "metadata": {},
     "output_type": "execute_result"
    }
   ],
   "source": [
    "'X', X_train_smote.shape, X_train.shape, 'y', y_train_smote.shape, y_train.shape"
   ]
  },
  {
   "cell_type": "code",
   "execution_count": 50,
   "id": "certain-pocket",
   "metadata": {},
   "outputs": [
    {
     "data": {
      "text/plain": [
       "(0    3889\n",
       " 1     199\n",
       " Name: stroke, dtype: int64,\n",
       " array([3889,  777], dtype=int64))"
      ]
     },
     "execution_count": 50,
     "metadata": {},
     "output_type": "execute_result"
    }
   ],
   "source": [
    "y_train.value_counts(), np.bincount(y_train_smote)"
   ]
  },
  {
   "cell_type": "code",
   "execution_count": 55,
   "id": "novel-overhead",
   "metadata": {},
   "outputs": [
    {
     "data": {
      "text/plain": [
       "0.6824841824841825"
      ]
     },
     "execution_count": 55,
     "metadata": {},
     "output_type": "execute_result"
    }
   ],
   "source": [
    "rfc_smote2 = RandomForestClassifier(bootstrap=False, criterion='entropy', n_estimators=380, random_state=24)\n",
    "rfc_smote2.fit(X_train_smote, y_train_smote)\n",
    "\n",
    "rfc_scores_smote2 = cross_val_score(rfc_smote2, X_train_smote, y_train_smote, cv=10, scoring='recall')\n",
    "rfc_scores_smote2.mean()"
   ]
  },
  {
   "cell_type": "code",
   "execution_count": 78,
   "id": "ecological-content",
   "metadata": {},
   "outputs": [
    {
     "data": {
      "text/plain": [
       "0.1"
      ]
     },
     "execution_count": 78,
     "metadata": {},
     "output_type": "execute_result"
    }
   ],
   "source": [
    "y_pred = rfc_smote2.predict(X_test)\n",
    "recall_score(y_test, y_pred)"
   ]
  },
  {
   "cell_type": "markdown",
   "id": "opposed-african",
   "metadata": {},
   "source": [
    "What about double it?"
   ]
  },
  {
   "cell_type": "code",
   "execution_count": 99,
   "id": "scenic-veteran",
   "metadata": {},
   "outputs": [],
   "source": [
    "oversample = SMOTE(sampling_strategy=0.4, random_state=24)\n",
    "X_train_smote2, y_train_smote2 = oversample.fit_resample(X_train, y_train)"
   ]
  },
  {
   "cell_type": "code",
   "execution_count": 100,
   "id": "supreme-bidding",
   "metadata": {},
   "outputs": [
    {
     "data": {
      "text/plain": [
       "('X', (5444, 12), (4088, 12), 'y', (5444,), (4088,))"
      ]
     },
     "execution_count": 100,
     "metadata": {},
     "output_type": "execute_result"
    }
   ],
   "source": [
    "'X', X_train_smote2.shape, X_train.shape, 'y', y_train_smote2.shape, y_train.shape"
   ]
  },
  {
   "cell_type": "code",
   "execution_count": 101,
   "id": "aerial-excellence",
   "metadata": {},
   "outputs": [
    {
     "data": {
      "text/plain": [
       "(0    3889\n",
       " 1     199\n",
       " Name: stroke, dtype: int64,\n",
       " array([3889, 1555], dtype=int64))"
      ]
     },
     "execution_count": 101,
     "metadata": {},
     "output_type": "execute_result"
    }
   ],
   "source": [
    "y_train.value_counts(), np.bincount(y_train_smote2)"
   ]
  },
  {
   "cell_type": "code",
   "execution_count": 87,
   "id": "existing-indication",
   "metadata": {},
   "outputs": [
    {
     "data": {
      "text/plain": [
       "0.8271505376344086"
      ]
     },
     "execution_count": 87,
     "metadata": {},
     "output_type": "execute_result"
    }
   ],
   "source": [
    "rfc_smote3 = RandomForestClassifier(bootstrap=False, criterion='entropy', n_estimators=380, random_state=24)\n",
    "rfc_smote3.fit(X_train_smote2, y_train_smote2)\n",
    "\n",
    "rfc_scores_smote3 = cross_val_score(rfc_smote3, X_train_smote2, y_train_smote2, cv=10, scoring='recall')\n",
    "rfc_scores_smote3.mean()"
   ]
  },
  {
   "cell_type": "code",
   "execution_count": 88,
   "id": "expressed-translator",
   "metadata": {},
   "outputs": [
    {
     "data": {
      "text/plain": [
       "0.14"
      ]
     },
     "execution_count": 88,
     "metadata": {},
     "output_type": "execute_result"
    }
   ],
   "source": [
    "y_pred = rfc_smote3.predict(X_test)\n",
    "recall_score(y_test, y_pred)"
   ]
  },
  {
   "cell_type": "markdown",
   "id": "tender-advertising",
   "metadata": {},
   "source": [
    "Let's jump to 1:1 ratio."
   ]
  },
  {
   "cell_type": "code",
   "execution_count": 94,
   "id": "eight-trigger",
   "metadata": {},
   "outputs": [],
   "source": [
    "oversample = SMOTE(sampling_strategy=1, random_state=24)\n",
    "X_train_smote11, y_train_smote11 = oversample.fit_resample(X_train, y_train)"
   ]
  },
  {
   "cell_type": "code",
   "execution_count": 95,
   "id": "athletic-utility",
   "metadata": {},
   "outputs": [
    {
     "data": {
      "text/plain": [
       "('X', (7778, 12), (4088, 12), 'y', (7778,), (4088,))"
      ]
     },
     "execution_count": 95,
     "metadata": {},
     "output_type": "execute_result"
    }
   ],
   "source": [
    "'X', X_train_smote11.shape, X_train.shape, 'y', y_train_smote11.shape, y_train.shape"
   ]
  },
  {
   "cell_type": "code",
   "execution_count": 96,
   "id": "brutal-collaboration",
   "metadata": {},
   "outputs": [
    {
     "data": {
      "text/plain": [
       "(0    3889\n",
       " 1     199\n",
       " Name: stroke, dtype: int64,\n",
       " array([3889, 3889], dtype=int64))"
      ]
     },
     "execution_count": 96,
     "metadata": {},
     "output_type": "execute_result"
    }
   ],
   "source": [
    "y_train.value_counts(), np.bincount(y_train_smote11)"
   ]
  },
  {
   "cell_type": "code",
   "execution_count": 155,
   "id": "quantitative-survival",
   "metadata": {},
   "outputs": [
    {
     "data": {
      "text/plain": [
       "0.9318573927331514"
      ]
     },
     "execution_count": 155,
     "metadata": {},
     "output_type": "execute_result"
    }
   ],
   "source": [
    "rfc_smote11 = RandomForestClassifier(bootstrap=False, criterion='entropy', n_estimators=380, random_state=24)\n",
    "rfc_smote11.fit(X_train_smote11, y_train_smote11)\n",
    "\n",
    "rfc_scores_smote11 = cross_val_score(rfc_smote11, X_train_smote11, y_train_smote11, cv=10, scoring='recall')\n",
    "rfc_scores_smote11.mean()"
   ]
  },
  {
   "cell_type": "code",
   "execution_count": 156,
   "id": "rough-inventory",
   "metadata": {},
   "outputs": [
    {
     "data": {
      "text/plain": [
       "0.16"
      ]
     },
     "execution_count": 156,
     "metadata": {},
     "output_type": "execute_result"
    }
   ],
   "source": [
    "y_pred = rfc_smote11.predict(X_test)\n",
    "recall_score(y_test, y_pred)"
   ]
  },
  {
   "cell_type": "markdown",
   "id": "labeled-fraud",
   "metadata": {},
   "source": [
    "There is not too much improvement above 0.3 (checked silently). The issue can be with hiperparameters so let's run a GridSearchCV for the train dataset with new genereted Stroke examples for SMOTE sampling ratio 0.4. "
   ]
  },
  {
   "cell_type": "code",
   "execution_count": 150,
   "id": "technical-murder",
   "metadata": {},
   "outputs": [],
   "source": [
    "param_grid = [\n",
    "    {'n_estimators': [x for x in range(400, 401, 10)],\n",
    "#      'criterion': ['gini', 'entropy'], #, 'log_loss'],\n",
    "#      'criterion': ['entropy'],\n",
    "#      'max_depth': [None]+[x for x in range(1, 20)],\n",
    "#      'max_depth': [None]+[1, 10, 20],\n",
    "#      'max_depth': [5, 15, 25],\n",
    "     'max_depth': [14, 15, 16],\n",
    "#      'min_samples_split': [5, 20, 45],\n",
    "     'min_samples_split': [2, 3, 4],\n",
    "#      'min_samples_leaf': [1, 2, 3, 4],\n",
    "#      'max_features': [None]+['auto', 'sqrt', 'log2'],\n",
    "#      'bootstrap': [True, False],\n",
    "     'bootstrap': [False],\n",
    "#      'max_samples': [None, 1000, 1500, 2000],\n",
    "#      'class_weight': [None, 'balanced', 'balanced_subsample']\n",
    "    }]"
   ]
  },
  {
   "cell_type": "code",
   "execution_count": 151,
   "id": "necessary-stick",
   "metadata": {},
   "outputs": [
    {
     "name": "stdout",
     "output_type": "stream",
     "text": [
      "Wall time: 2min 54s\n"
     ]
    },
    {
     "data": {
      "text/plain": [
       "GridSearchCV(cv=10, estimator=RandomForestClassifier(random_state=24),\n",
       "             param_grid=[{'bootstrap': [False], 'max_depth': [14, 15, 16],\n",
       "                          'min_samples_split': [2, 3, 4],\n",
       "                          'n_estimators': [400]}],\n",
       "             scoring='recall')"
      ]
     },
     "execution_count": 151,
     "metadata": {},
     "output_type": "execute_result"
    }
   ],
   "source": [
    "%%time\n",
    "rf_clf = RandomForestClassifier(random_state=24)\n",
    "grid_search = GridSearchCV(rf_clf, param_grid, cv=10, scoring='recall')\n",
    "grid_search.fit(X_train_smote2, y_train_smote2)"
   ]
  },
  {
   "cell_type": "raw",
   "id": "structured-account",
   "metadata": {},
   "source": [
    "Wall time: 18h 24min 39s\n",
    "GridSearchCV(cv=10, estimator=RandomForestClassifier(random_state=24),\n",
    "             param_grid=[{'bootstrap': [True, False],\n",
    "                          'criterion': ['gini', 'entropy'],\n",
    "                          'max_depth': [5, 15, 25],\n",
    "                          'max_features': [None, 'auto', 'sqrt', 'log2'],\n",
    "                          'max_samples': [None, 1000, 1500, 2000],\n",
    "                          'min_samples_leaf': [1, 2, 3, 4],\n",
    "                          'min_samples_split': [5, 20, 45],\n",
    "                          'n_estimators': [400, 410, 420]}],\n",
    "             scoring='recall')\n",
    "RandomForestClassifier(bootstrap=False, max_depth=15, min_samples_split=5,\n",
    "                       n_estimators=400, random_state=24)"
   ]
  },
  {
   "cell_type": "code",
   "execution_count": 152,
   "id": "through-evans",
   "metadata": {},
   "outputs": [
    {
     "data": {
      "text/plain": [
       "RandomForestClassifier(bootstrap=False, max_depth=15, min_samples_split=4,\n",
       "                       n_estimators=400, random_state=24)"
      ]
     },
     "execution_count": 152,
     "metadata": {},
     "output_type": "execute_result"
    }
   ],
   "source": [
    "grid_search.best_estimator_"
   ]
  },
  {
   "cell_type": "code",
   "execution_count": 153,
   "id": "breathing-impression",
   "metadata": {},
   "outputs": [
    {
     "data": {
      "text/plain": [
       "0.850281224152192"
      ]
     },
     "execution_count": 153,
     "metadata": {},
     "output_type": "execute_result"
    }
   ],
   "source": [
    "# rfc_smote3 = RandomForestClassifier(n_estimators=410, random_state=24) \n",
    "# rfc_smote3 = RandomForestClassifier(criterion='entropy', n_estimators=400, random_state=24)\n",
    "# rfc_smote3 = RandomForestClassifier(max_depth=20, n_estimators=400, random_state=24)\n",
    "# rfc_smote3 = RandomForestClassifier(max_depth=15, n_estimators=400, random_state=24)\n",
    "# rfc_smote3 = RandomForestClassifier(min_samples_split=20, n_estimators=420, random_state=24)\n",
    "# rfc_smote3 = RandomForestClassifier(bootstrap=False, max_depth=15, min_samples_split=5, n_estimators=400, random_state=24)\n",
    "# rfc_smote3 = RandomForestClassifier(bootstrap=False, max_depth=15, min_samples_split=3, n_estimators=400, random_state=24)\n",
    "rfc_smote3 = RandomForestClassifier(bootstrap=False, max_depth=15, min_samples_split=4, n_estimators=400, random_state=24)\n",
    "rfc_smote3.fit(X_train_smote2, y_train_smote2) \n",
    "# rfc_smote3.fit(X_train_smote11, y_train_smote11)\n",
    "\n",
    "rfc_scores_smote3 = cross_val_score(rfc_smote3, X_train_smote2, y_train_smote2, cv=10, scoring='recall')\n",
    "# rfc_scores_smote3 = cross_val_score(rfc_smote3, X_train_smote11, y_train_smote11, cv=10, scoring='recall')\n",
    "rfc_scores_smote3.mean()"
   ]
  },
  {
   "cell_type": "code",
   "execution_count": 154,
   "id": "jewish-disney",
   "metadata": {},
   "outputs": [
    {
     "data": {
      "text/plain": [
       "0.18"
      ]
     },
     "execution_count": 154,
     "metadata": {},
     "output_type": "execute_result"
    }
   ],
   "source": [
    "y_pred = rfc_smote3.predict(X_test)\n",
    "recall_score(y_test, y_pred)"
   ]
  },
  {
   "cell_type": "raw",
   "id": "united-sugar",
   "metadata": {},
   "source": [
    "0.842 RandomForestClassifier(n_estimators=410, random_state=24) \n",
    "0.844 RandomForestClassifier(criterion='entropy', n_estimators=400, random_state=24)\n",
    "0.85  RandomForestClassifier(max_depth=20, n_estimators=400, random_state=24)\n",
    "0.852 RandomForestClassifier(max_depth=15, n_estimators=400, random_state=24)\n",
    "0.848 RandomForestClassifier(max_depth=14, n_estimators=410, random_state=24)\n",
    "0.801 RandomForestClassifier(min_samples_split=20, n_estimators=420, random_state=24)\n",
    "0.846 RandomForestClassifier(bootstrap=False, max_depth=15, min_samples_split=5, n_estimators=400, random_state=24)\n",
    "0.850 RandomForestClassifier(bootstrap=False, max_depth=15, min_samples_split=3, n_estimators=400, random_state=24) | best recall for test set\n",
    "0.850 RandomForestClassifier(bootstrap=False, max_depth=15, min_samples_split=4, n_estimators=400, random_state=24) | best recall for test set"
   ]
  },
  {
   "cell_type": "raw",
   "id": "fitting-insurance",
   "metadata": {},
   "source": [
    "There is an improvement for 0.4 ratio. From 14% of recall on test data to 18%.\n",
    "\n",
    "Let's check the result for the data with 1:1 ratio using the same hyperparameters."
   ]
  },
  {
   "cell_type": "code",
   "execution_count": 161,
   "id": "spoken-electronics",
   "metadata": {},
   "outputs": [
    {
     "data": {
      "text/plain": [
       "0.9532021042588715"
      ]
     },
     "execution_count": 161,
     "metadata": {},
     "output_type": "execute_result"
    }
   ],
   "source": [
    "# checked for min_samples_split= 3, 4, 5\n",
    "rfc_smote11 = RandomForestClassifier(bootstrap=False, max_depth=15, min_samples_split=5, n_estimators=400, random_state=24)\n",
    "rfc_smote11.fit(X_train_smote11, y_train_smote11)\n",
    "\n",
    "rfc_scores_smote11 = cross_val_score(rfc_smote11, X_train_smote11, y_train_smote11, cv=10, scoring='recall')\n",
    "rfc_scores_smote11.mean()"
   ]
  },
  {
   "cell_type": "code",
   "execution_count": 162,
   "id": "limited-utility",
   "metadata": {},
   "outputs": [
    {
     "data": {
      "text/plain": [
       "0.3"
      ]
     },
     "execution_count": 162,
     "metadata": {},
     "output_type": "execute_result"
    }
   ],
   "source": [
    "y_pred = rfc_smote11.predict(X_test)\n",
    "recall_score(y_test, y_pred)"
   ]
  },
  {
   "cell_type": "code",
   "execution_count": 163,
   "id": "second-handbook",
   "metadata": {},
   "outputs": [
    {
     "data": {
      "text/plain": [
       "array([[852, 120],\n",
       "       [ 35,  15]], dtype=int64)"
      ]
     },
     "execution_count": 163,
     "metadata": {},
     "output_type": "execute_result"
    }
   ],
   "source": [
    "confusion_matrix(y_test, y_pred)"
   ]
  },
  {
   "cell_type": "markdown",
   "id": "dedicated-front",
   "metadata": {},
   "source": [
    "30% is better than previous 16% but still not so good."
   ]
  },
  {
   "cell_type": "markdown",
   "id": "identified-bronze",
   "metadata": {},
   "source": [
    "Let's combine the SMOTE and undersampling (for majority class)."
   ]
  },
  {
   "cell_type": "code",
   "execution_count": 13,
   "id": "modern-point",
   "metadata": {},
   "outputs": [],
   "source": [
    "from imblearn.under_sampling import RandomUnderSampler\n",
    "from imblearn.pipeline import Pipeline as imPipeline"
   ]
  },
  {
   "cell_type": "code",
   "execution_count": 216,
   "id": "dirty-bidder",
   "metadata": {},
   "outputs": [],
   "source": [
    "# smote 0.4 & under 0.6 24%\n",
    "# smote 0.6 & under 0.8 28%\n",
    "# smote 0.6 & under 1 30%\n",
    "# smote 0.4 & under 0.8 30%\n",
    "# smote 0.4 & under 1 36%\n",
    "# smote 0.5 & under 1 30%\n",
    "# smote 0.8 & under 1 32%\n",
    "# smote 0.45 & under 1 30%\n",
    "\n",
    "oversample = SMOTE(sampling_strategy=0.4, random_state=24)\n",
    "undersample = RandomUnderSampler(sampling_strategy=1, random_state=24)\n",
    "resample_pipeline = imPipeline([('smote', oversample), ('undersample', undersample)])\n",
    "X_train_ou, y_train_ou = resample_pipeline.fit_resample(X_train, y_train)"
   ]
  },
  {
   "cell_type": "code",
   "execution_count": 217,
   "id": "numeric-terrorism",
   "metadata": {},
   "outputs": [
    {
     "data": {
      "text/plain": [
       "('X', (3110, 12), (4088, 12), 'y', (3110,), (4088,))"
      ]
     },
     "execution_count": 217,
     "metadata": {},
     "output_type": "execute_result"
    }
   ],
   "source": [
    "'X', X_train_ou.shape, X_train.shape, 'y', y_train_ou.shape, y_train.shape"
   ]
  },
  {
   "cell_type": "code",
   "execution_count": 218,
   "id": "damaged-attitude",
   "metadata": {},
   "outputs": [
    {
     "data": {
      "text/plain": [
       "(0    3889\n",
       " 1     199\n",
       " Name: stroke, dtype: int64,\n",
       " array([1555, 1555], dtype=int64))"
      ]
     },
     "execution_count": 218,
     "metadata": {},
     "output_type": "execute_result"
    }
   ],
   "source": [
    "y_train.value_counts(), np.bincount(y_train_ou)"
   ]
  },
  {
   "cell_type": "code",
   "execution_count": 219,
   "id": "decent-willow",
   "metadata": {},
   "outputs": [
    {
     "data": {
      "text/plain": [
       "0.9169354838709678"
      ]
     },
     "execution_count": 219,
     "metadata": {},
     "output_type": "execute_result"
    }
   ],
   "source": [
    "rfc_ou = RandomForestClassifier(bootstrap=False, max_depth=15, min_samples_split=5, n_estimators=400, random_state=24)\n",
    "rfc_ou.fit(X_train_ou, y_train_ou)\n",
    "\n",
    "rfc_scores_ou = cross_val_score(rfc_ou, X_train_ou, y_train_ou, cv=10, scoring='recall')\n",
    "rfc_scores_ou.mean()"
   ]
  },
  {
   "cell_type": "code",
   "execution_count": 220,
   "id": "narrow-subdivision",
   "metadata": {},
   "outputs": [
    {
     "data": {
      "text/plain": [
       "0.36"
      ]
     },
     "execution_count": 220,
     "metadata": {},
     "output_type": "execute_result"
    }
   ],
   "source": [
    "y_pred = rfc_ou.predict(X_test)\n",
    "recall_score(y_test, y_pred)"
   ]
  },
  {
   "cell_type": "markdown",
   "id": "weird-summer",
   "metadata": {},
   "source": [
    "SMOTE has a k_neighbors argument which define the number of nearest neighbors used for new samples generation. Let's run some test for previous setup."
   ]
  },
  {
   "cell_type": "code",
   "execution_count": 227,
   "id": "impaired-process",
   "metadata": {},
   "outputs": [],
   "source": [
    "for kn_no in range(1, 14):\n",
    "    print('k_neighbors:', kn_no)\n",
    "    oversample = SMOTE(sampling_strategy=0.4, k_neighbors=kn_no, random_state=24)\n",
    "    undersample = RandomUnderSampler(sampling_strategy=1, random_state=24)\n",
    "    resample_pipeline = imPipeline([('smote', oversample), ('undersample', undersample)])\n",
    "    X_train_ou, y_train_ou = resample_pipeline.fit_resample(X_train, y_train)\n",
    "    \n",
    "    rfc_ou = RandomForestClassifier(bootstrap=False, max_depth=15, min_samples_split=5, n_estimators=400, random_state=24)\n",
    "    rfc_ou.fit(X_train_ou, y_train_ou)\n",
    "\n",
    "    rfc_scores_ou = cross_val_score(rfc_ou, X_train_ou, y_train_ou, cv=10, scoring='recall')\n",
    "    print('Train recall mean', rfc_scores_ou.mean())\n",
    "    \n",
    "    y_pred = rfc_ou.predict(X_test)\n",
    "    print('Test recall mean', recall_score(y_test, y_pred))"
   ]
  },
  {
   "cell_type": "raw",
   "id": "colored-shower",
   "metadata": {},
   "source": [
    "k_neighbors: 1\n",
    "Train recall mean 0.9337014061207609\n",
    "Test recall mean 0.22\n",
    "k_neighbors: 2\n",
    "Train recall mean 0.9285153019023985\n",
    "Test recall mean 0.3\n",
    "k_neighbors: 3\n",
    "Train recall mean 0.9266046319272127\n",
    "Test recall mean 0.32\n",
    "k_neighbors: 4\n",
    "Train recall mean 0.9304921422663357\n",
    "Test recall mean 0.36\n",
    "k_neighbors: 5\n",
    "Train recall mean 0.9169354838709678\n",
    "Test recall mean 0.36\n",
    "k_neighbors: 6\n",
    "Train recall mean 0.9188875103391231\n",
    "Test recall mean 0.32\n",
    "k_neighbors: 7\n",
    "Train recall mean 0.9053804797353184\n",
    "Test recall mean 0.32\n",
    "k_neighbors: 8\n",
    "Train recall mean 0.9137303556658395\n",
    "Test recall mean 0.28\n",
    "k_neighbors: 9\n",
    "Train recall mean 0.9111497105045491\n",
    "Test recall mean 0.4\n",
    "k_neighbors: 10\n",
    "Train recall mean 0.9111290322580645\n",
    "Test recall mean 0.46\n",
    "k_neighbors: 11\n",
    "Train recall mean 0.9150248138957815\n",
    "Test recall mean 0.38\n",
    "k_neighbors: 12\n",
    "Train recall mean 0.9163316790736145\n",
    "Test recall mean 0.32\n",
    "k_neighbors: 13\n",
    "Train recall mean 0.9130727874276261\n",
    "Test recall mean 0.34"
   ]
  },
  {
   "cell_type": "markdown",
   "id": "coastal-laundry",
   "metadata": {},
   "source": [
    "The best result is for k_neighbors=10"
   ]
  },
  {
   "cell_type": "code",
   "execution_count": 15,
   "id": "liberal-attack",
   "metadata": {},
   "outputs": [
    {
     "name": "stdout",
     "output_type": "stream",
     "text": [
      "Train recall mean 0.9111290322580645\n",
      "Test recall mean 0.46\n"
     ]
    }
   ],
   "source": [
    "oversample = SMOTE(sampling_strategy=0.4, k_neighbors=10, random_state=24)\n",
    "undersample = RandomUnderSampler(sampling_strategy=1, random_state=24)\n",
    "resample_pipeline = imPipeline([('smote', oversample), ('undersample', undersample)])\n",
    "X_train_ou, y_train_ou = resample_pipeline.fit_resample(X_train, y_train)\n",
    "\n",
    "rfc_ou = RandomForestClassifier(bootstrap=False, max_depth=15, min_samples_split=5, n_estimators=400, random_state=24)\n",
    "rfc_ou.fit(X_train_ou, y_train_ou)\n",
    "\n",
    "rfc_scores_ou = cross_val_score(rfc_ou, X_train_ou, y_train_ou, cv=10, scoring='recall')\n",
    "print('Train recall mean', rfc_scores_ou.mean())\n",
    "\n",
    "y_pred = rfc_ou.predict(X_test)\n",
    "print('Test recall mean', recall_score(y_test, y_pred))"
   ]
  },
  {
   "cell_type": "markdown",
   "id": "blocked-lemon",
   "metadata": {},
   "source": [
    "It is 46%. Almost 12 times more that on initial imbalanced data."
   ]
  },
  {
   "cell_type": "markdown",
   "id": "indie-substance",
   "metadata": {},
   "source": [
    "Another thing to consider is changing cv to have stratified data in each splitted partition. "
   ]
  },
  {
   "cell_type": "code",
   "execution_count": 16,
   "id": "together-blond",
   "metadata": {},
   "outputs": [],
   "source": [
    "from sklearn.model_selection import RepeatedStratifiedKFold"
   ]
  },
  {
   "cell_type": "code",
   "execution_count": 17,
   "id": "certified-sullivan",
   "metadata": {},
   "outputs": [],
   "source": [
    "splitter = RepeatedStratifiedKFold(n_splits=10, n_repeats=5, random_state=1)"
   ]
  },
  {
   "cell_type": "code",
   "execution_count": 18,
   "id": "surgical-delay",
   "metadata": {},
   "outputs": [
    {
     "name": "stdout",
     "output_type": "stream",
     "text": [
      "Train recall mean 0.9120347394540943\n",
      "Test recall mean 0.46\n"
     ]
    }
   ],
   "source": [
    "rfc_ou = RandomForestClassifier(bootstrap=False, max_depth=15, min_samples_split=5, n_estimators=400, random_state=24)\n",
    "rfc_ou.fit(X_train_ou, y_train_ou)\n",
    "\n",
    "rfc_scores_ou = cross_val_score(rfc_ou, X_train_ou, y_train_ou, cv=splitter, scoring='recall')\n",
    "print('Train recall mean', rfc_scores_ou.mean())\n",
    "\n",
    "y_pred = rfc_ou.predict(X_test)\n",
    "print('Test recall mean', recall_score(y_test, y_pred))"
   ]
  },
  {
   "cell_type": "markdown",
   "id": "rubber-replacement",
   "metadata": {},
   "source": [
    "Seems the difference is barely noticeable."
   ]
  },
  {
   "cell_type": "markdown",
   "id": "impossible-priority",
   "metadata": {},
   "source": [
    "The best result so far is 46%. Let's take a look on confusion matrix."
   ]
  },
  {
   "cell_type": "code",
   "execution_count": 236,
   "id": "corresponding-finding",
   "metadata": {},
   "outputs": [
    {
     "data": {
      "text/plain": [
       "array([[821, 151],\n",
       "       [ 27,  23]], dtype=int64)"
      ]
     },
     "execution_count": 236,
     "metadata": {},
     "output_type": "execute_result"
    }
   ],
   "source": [
    "confusion_matrix(y_test, y_pred)"
   ]
  },
  {
   "cell_type": "markdown",
   "id": "chronic-regulation",
   "metadata": {},
   "source": [
    "Does not look good. There is 151 wrongly predicted strokes and just 23 from 50 actual strokes."
   ]
  },
  {
   "cell_type": "raw",
   "id": "sixth-command",
   "metadata": {},
   "source": [
    "Getting back to the list of things to consider:\n",
    "Resampling - oversampling, SMOTE, undersampling\n",
    "Changing metric - AUC, Kappa\n",
    "Other algorithms - C5, anomaly detection, change detection\n",
    "\n",
    "The Resampling has been checked. Combining the SMOTE and undersampling gave good improvement. From 4% to 46%.\n",
    "Let's focus on the Changing metric part."
   ]
  },
  {
   "cell_type": "markdown",
   "id": "quiet-photograph",
   "metadata": {},
   "source": [
    "Changing metric from \"recall\" to \"roc_auc\"."
   ]
  },
  {
   "cell_type": "code",
   "execution_count": 21,
   "id": "graphic-portugal",
   "metadata": {},
   "outputs": [],
   "source": [
    "from sklearn.metrics import roc_auc_score"
   ]
  },
  {
   "cell_type": "code",
   "execution_count": null,
   "id": "actual-format",
   "metadata": {},
   "outputs": [],
   "source": [
    "# splitter = RepeatedStratifiedKFold(n_splits=10, n_repeats=5, random_state=24)"
   ]
  },
  {
   "cell_type": "code",
   "execution_count": 239,
   "id": "joint-rebound",
   "metadata": {},
   "outputs": [
    {
     "name": "stdout",
     "output_type": "stream",
     "text": [
      "Train roc_auc mean 0.9549619520264682\n",
      "Test roc_auc mean 0.6523251028806585\n"
     ]
    }
   ],
   "source": [
    "rfc_ou = RandomForestClassifier(bootstrap=False, max_depth=15, min_samples_split=5, n_estimators=400, random_state=24)\n",
    "rfc_ou.fit(X_train_ou, y_train_ou)\n",
    "\n",
    "rfc_scores_ou = cross_val_score(rfc_ou, X_train_ou, y_train_ou, cv=splitter, scoring='roc_auc')\n",
    "print('Train roc_auc mean', rfc_scores_ou.mean())\n",
    "\n",
    "y_pred = rfc_ou.predict(X_test)\n",
    "print('Test roc_auc mean', roc_auc_score(y_test, y_pred))"
   ]
  },
  {
   "cell_type": "markdown",
   "id": "interstate-mississippi",
   "metadata": {},
   "source": [
    "Let's perform a GridSearchCV "
   ]
  },
  {
   "cell_type": "code",
   "execution_count": 266,
   "id": "charged-length",
   "metadata": {},
   "outputs": [],
   "source": [
    "param_grid = [\n",
    "    {'n_estimators': [x for x in range(370, 771, 20)],\n",
    "#      'criterion': ['gini', 'entropy'], #, 'log_loss'],\n",
    "     'criterion': ['entropy'],\n",
    "#      'max_depth': [None]+[x for x in range(1, 20)],\n",
    "#      'max_depth': [None]+[1, 10, 20],\n",
    "#      'max_depth': [5, 15, 25],\n",
    "#      'max_depth': [14, 15, 16],\n",
    "#      'min_samples_split': [5, 20, 45],\n",
    "#      'min_samples_split': [2, 3, 4],\n",
    "#      'min_samples_leaf': [1, 2, 3, 4],\n",
    "#      'max_features': [None]+['auto', 'sqrt', 'log2'],\n",
    "#      'bootstrap': [True, False],\n",
    "#      'bootstrap': [False],\n",
    "#      'max_samples': [None, 1000, 1500, 2000],\n",
    "#      'class_weight': [None, 'balanced', 'balanced_subsample']\n",
    "    }]"
   ]
  },
  {
   "cell_type": "code",
   "execution_count": 267,
   "id": "unknown-renaissance",
   "metadata": {},
   "outputs": [
    {
     "name": "stdout",
     "output_type": "stream",
     "text": [
      "Wall time: 35min 47s\n"
     ]
    },
    {
     "data": {
      "text/plain": [
       "GridSearchCV(cv=RepeatedStratifiedKFold(n_repeats=5, n_splits=10, random_state=1),\n",
       "             estimator=RandomForestClassifier(random_state=24),\n",
       "             param_grid=[{'criterion': ['entropy'],\n",
       "                          'n_estimators': [370, 390, 410, 430, 450, 470, 490,\n",
       "                                           510, 530, 550, 570, 590, 610, 630,\n",
       "                                           650, 670, 690, 710, 730, 750,\n",
       "                                           770]}],\n",
       "             scoring='roc_auc')"
      ]
     },
     "execution_count": 267,
     "metadata": {},
     "output_type": "execute_result"
    }
   ],
   "source": [
    "%%time\n",
    "rf_clf = RandomForestClassifier(random_state=24)\n",
    "grid_search = GridSearchCV(rf_clf, param_grid, cv=splitter, scoring='roc_auc')\n",
    "grid_search.fit(X_train_ou, y_train_ou)"
   ]
  },
  {
   "cell_type": "code",
   "execution_count": 268,
   "id": "cardiovascular-preserve",
   "metadata": {},
   "outputs": [
    {
     "data": {
      "text/plain": [
       "RandomForestClassifier(criterion='entropy', n_estimators=710, random_state=24)"
      ]
     },
     "execution_count": 268,
     "metadata": {},
     "output_type": "execute_result"
    }
   ],
   "source": [
    "grid_search.best_estimator_"
   ]
  },
  {
   "cell_type": "code",
   "execution_count": 19,
   "id": "manual-fairy",
   "metadata": {},
   "outputs": [],
   "source": [
    "def get_train_test_roc_auc(rfc_ou):\n",
    "    rfc_ou.fit(X_train_ou, y_train_ou)\n",
    "\n",
    "    rfc_scores_ou = cross_val_score(rfc_ou, X_train_ou, y_train_ou, cv=splitter, scoring='roc_auc')\n",
    "    print('Train roc_auc mean', rfc_scores_ou.mean())\n",
    "\n",
    "    y_pred = rfc_ou.predict(X_test)\n",
    "    print('Test roc_auc mean', roc_auc_score(y_test, y_pred))"
   ]
  },
  {
   "cell_type": "code",
   "execution_count": 269,
   "id": "computational-verification",
   "metadata": {},
   "outputs": [
    {
     "name": "stdout",
     "output_type": "stream",
     "text": [
      "Train roc_auc mean 0.9547220843672456\n",
      "Test roc_auc mean 0.626954732510288\n"
     ]
    }
   ],
   "source": [
    "get_train_test_roc_auc(grid_search.best_estimator_)"
   ]
  },
  {
   "cell_type": "code",
   "execution_count": 22,
   "id": "fiscal-attribute",
   "metadata": {},
   "outputs": [
    {
     "name": "stdout",
     "output_type": "stream",
     "text": [
      "Train roc_auc mean 0.9547220843672456\n",
      "Test roc_auc mean 0.626954732510288\n"
     ]
    }
   ],
   "source": [
    "get_train_test_roc_auc(RandomForestClassifier(criterion='entropy', n_estimators=710, random_state=24))"
   ]
  },
  {
   "cell_type": "raw",
   "id": "dramatic-column",
   "metadata": {},
   "source": [
    "Train/test auc      Model\n",
    "0.95/0.62           RandomForestClassifier(n_estimators=900, random_state=24)\n",
    "0.95/0.61           RandomForestClassifier(criterion='entropy', min_samples_split=4, n_estimators=880, random_state=24)\n",
    "0.95/0.63           RandomForestClassifier(criterion='entropy', n_estimators=880, random_state=24)\n",
    "0.95/0.64           RandomForestClassifier(criterion='entropy', n_estimators=450, random_state=24)\n",
    "0.95/0.63           RandomForestClassifier(criterion='entropy', n_estimators=710, random_state=24)"
   ]
  },
  {
   "cell_type": "raw",
   "id": "animal-sleeping",
   "metadata": {},
   "source": [
    "Seems in all cases the data are overfitted. The training set is close to 1 but the test set not even 0.65 (where 0.5 means random, totally ineffective).\n",
    "The searching should not be driven by test set results because that can impact the model performence in production.\n",
    "Below the hyperparameters adjustment for overfitted data give some improvement for test set."
   ]
  },
  {
   "cell_type": "code",
   "execution_count": 26,
   "id": "behind-willow",
   "metadata": {},
   "outputs": [
    {
     "name": "stdout",
     "output_type": "stream",
     "text": [
      "Train roc_auc mean 0.9046600496277916\n",
      "Test roc_auc mean 0.7074485596707819\n"
     ]
    }
   ],
   "source": [
    "get_train_test_roc_auc(RandomForestClassifier(n_estimators=1200, max_features=0.5, max_depth=4, min_samples_leaf=5, random_state=24))"
   ]
  },
  {
   "cell_type": "markdown",
   "id": "conceptual-alabama",
   "metadata": {},
   "source": [
    "Let's start the searching over. This time separate the data into train, validation and test set. The last one will be locked until the model and hyperparameters will be chosen."
   ]
  }
 ],
 "metadata": {
  "kernelspec": {
   "display_name": "Python 3",
   "language": "python",
   "name": "python3"
  },
  "language_info": {
   "codemirror_mode": {
    "name": "ipython",
    "version": 3
   },
   "file_extension": ".py",
   "mimetype": "text/x-python",
   "name": "python",
   "nbconvert_exporter": "python",
   "pygments_lexer": "ipython3",
   "version": "3.7.6"
  }
 },
 "nbformat": 4,
 "nbformat_minor": 5
}
