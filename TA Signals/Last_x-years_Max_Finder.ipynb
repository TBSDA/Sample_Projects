{
 "cells": [
  {
   "cell_type": "markdown",
   "id": "seasonal-wright",
   "metadata": {},
   "source": [
    "# Last x-years max finder"
   ]
  },
  {
   "cell_type": "markdown",
   "id": "experienced-reproduction",
   "metadata": {},
   "source": [
    "The idea is really similar to the \"ATH finder\", but instead of looking for ATH the script find if the x-year max has been beaten. Let's focus on WIG20, mWIG40 and sWIG80 here."
   ]
  },
  {
   "cell_type": "code",
   "execution_count": 1,
   "id": "furnished-thriller",
   "metadata": {},
   "outputs": [],
   "source": [
    "import pandas as pd\n",
    "from yahoofinancials import YahooFinancials\n",
    "import numpy as np\n",
    "import re\n",
    "from datetime import datetime, timedelta\n",
    "from dateutil.relativedelta import relativedelta\n",
    "import os"
   ]
  },
  {
   "cell_type": "markdown",
   "id": "sustained-motion",
   "metadata": {},
   "source": [
    "Read the tickers from file (ATH_Data/WIG_tickers.txt)."
   ]
  },
  {
   "cell_type": "code",
   "execution_count": 2,
   "id": "improved-spokesman",
   "metadata": {},
   "outputs": [],
   "source": [
    "with open(\"ATH_Data/WIG_tickers.txt\", \"r\") as file:\n",
    "    three_wigs_tickers = file.read().splitlines()"
   ]
  },
  {
   "cell_type": "markdown",
   "id": "acting-cathedral",
   "metadata": {},
   "source": [
    "Get data."
   ]
  },
  {
   "cell_type": "code",
   "execution_count": 3,
   "id": "vocational-marker",
   "metadata": {},
   "outputs": [],
   "source": [
    "def get_data(start_date, end_date, tickers, interval):\n",
    "    yahoo_financials = YahooFinancials(tickers)\n",
    "    stats = yahoo_financials.get_historical_price_data(start_date, end_date, time_interval=interval)\n",
    "    return stats"
   ]
  },
  {
   "cell_type": "markdown",
   "id": "useful-alpha",
   "metadata": {},
   "source": [
    "The starting date needs to be set as yesterday - x years and the ending date as yesterday."
   ]
  },
  {
   "cell_type": "code",
   "execution_count": 4,
   "id": "swiss-floating",
   "metadata": {},
   "outputs": [],
   "source": [
    "def get_start_end_date(years):\n",
    "    end = datetime.today() - timedelta(days=1)\n",
    "    start = end - relativedelta(years=years)\n",
    "    return start.strftime('%Y-%m-%d'), end.strftime('%Y-%m-%d')"
   ]
  },
  {
   "cell_type": "code",
   "execution_count": 5,
   "id": "athletic-cruise",
   "metadata": {},
   "outputs": [],
   "source": [
    "x_years = 10\n",
    "start_date, end_date = get_start_end_date(x_years)\n",
    "interval = 'daily'\n",
    "data = get_data(start_date, end_date, three_wigs_tickers, interval)"
   ]
  },
  {
   "cell_type": "markdown",
   "id": "instrumental-shock",
   "metadata": {},
   "source": [
    "Create the combined data with close prices."
   ]
  },
  {
   "cell_type": "code",
   "execution_count": 6,
   "id": "refined-lender",
   "metadata": {},
   "outputs": [],
   "source": [
    "def get_close_df(dist_data):\n",
    "    df_f = pd.DataFrame()\n",
    "    for ticker, hist_data in dist_data.items():\n",
    "        if 'prices' in hist_data.keys(): \n",
    "            df = pd.DataFrame(hist_data['prices'], columns=['close', 'formatted_date'])\n",
    "            df.set_index('formatted_date', inplace=True)\n",
    "            df.index = pd.to_datetime(df.index)\n",
    "            df.rename(columns={'close': f'{ticker}'}, inplace=True)\n",
    "            df_f = pd.concat([df_f, df], axis=1)\n",
    "    return df_f"
   ]
  },
  {
   "cell_type": "code",
   "execution_count": 7,
   "id": "alert-birmingham",
   "metadata": {},
   "outputs": [],
   "source": [
    "close_df = get_close_df(data)"
   ]
  },
  {
   "cell_type": "code",
   "execution_count": 8,
   "id": "inner-terrain",
   "metadata": {},
   "outputs": [
    {
     "data": {
      "text/html": [
       "<div>\n",
       "<style scoped>\n",
       "    .dataframe tbody tr th:only-of-type {\n",
       "        vertical-align: middle;\n",
       "    }\n",
       "\n",
       "    .dataframe tbody tr th {\n",
       "        vertical-align: top;\n",
       "    }\n",
       "\n",
       "    .dataframe thead th {\n",
       "        text-align: right;\n",
       "    }\n",
       "</style>\n",
       "<table border=\"1\" class=\"dataframe\">\n",
       "  <thead>\n",
       "    <tr style=\"text-align: right;\">\n",
       "      <th></th>\n",
       "      <th>ALE.WA</th>\n",
       "      <th>ACP.WA</th>\n",
       "      <th>CCC.WA</th>\n",
       "      <th>CDR.WA</th>\n",
       "      <th>CPS.WA</th>\n",
       "      <th>DNP.WA</th>\n",
       "      <th>JSW.WA</th>\n",
       "      <th>KGH.WA</th>\n",
       "      <th>LTS.WA</th>\n",
       "      <th>LPP.WA</th>\n",
       "      <th>...</th>\n",
       "      <th>TOA.WA</th>\n",
       "      <th>TRK.WA</th>\n",
       "      <th>UNT.WA</th>\n",
       "      <th>VRC.WA</th>\n",
       "      <th>VGO.WA</th>\n",
       "      <th>VOX.WA</th>\n",
       "      <th>VRG.WA</th>\n",
       "      <th>WWL.WA</th>\n",
       "      <th>WLT.WA</th>\n",
       "      <th>ZEP.WA</th>\n",
       "    </tr>\n",
       "    <tr>\n",
       "      <th>formatted_date</th>\n",
       "      <th></th>\n",
       "      <th></th>\n",
       "      <th></th>\n",
       "      <th></th>\n",
       "      <th></th>\n",
       "      <th></th>\n",
       "      <th></th>\n",
       "      <th></th>\n",
       "      <th></th>\n",
       "      <th></th>\n",
       "      <th></th>\n",
       "      <th></th>\n",
       "      <th></th>\n",
       "      <th></th>\n",
       "      <th></th>\n",
       "      <th></th>\n",
       "      <th></th>\n",
       "      <th></th>\n",
       "      <th></th>\n",
       "      <th></th>\n",
       "      <th></th>\n",
       "    </tr>\n",
       "  </thead>\n",
       "  <tbody>\n",
       "    <tr>\n",
       "      <th>2012-05-03</th>\n",
       "      <td>NaN</td>\n",
       "      <td>46.730000</td>\n",
       "      <td>59.700001</td>\n",
       "      <td>5.390000</td>\n",
       "      <td>13.900000</td>\n",
       "      <td>NaN</td>\n",
       "      <td>92.000000</td>\n",
       "      <td>138.000000</td>\n",
       "      <td>25.797001</td>\n",
       "      <td>2820.0</td>\n",
       "      <td>...</td>\n",
       "      <td>2.88</td>\n",
       "      <td>8.72</td>\n",
       "      <td>NaN</td>\n",
       "      <td>NaN</td>\n",
       "      <td>NaN</td>\n",
       "      <td>13.750000</td>\n",
       "      <td>1.039531</td>\n",
       "      <td>563.0</td>\n",
       "      <td>3.14</td>\n",
       "      <td>NaN</td>\n",
       "    </tr>\n",
       "    <tr>\n",
       "      <th>2012-05-04</th>\n",
       "      <td>NaN</td>\n",
       "      <td>46.500000</td>\n",
       "      <td>63.000000</td>\n",
       "      <td>5.060000</td>\n",
       "      <td>13.500000</td>\n",
       "      <td>NaN</td>\n",
       "      <td>91.250000</td>\n",
       "      <td>135.199997</td>\n",
       "      <td>25.581575</td>\n",
       "      <td>2900.0</td>\n",
       "      <td>...</td>\n",
       "      <td>2.90</td>\n",
       "      <td>8.56</td>\n",
       "      <td>NaN</td>\n",
       "      <td>NaN</td>\n",
       "      <td>NaN</td>\n",
       "      <td>13.700000</td>\n",
       "      <td>0.990030</td>\n",
       "      <td>563.0</td>\n",
       "      <td>3.15</td>\n",
       "      <td>NaN</td>\n",
       "    </tr>\n",
       "    <tr>\n",
       "      <th>2012-05-07</th>\n",
       "      <td>NaN</td>\n",
       "      <td>47.950001</td>\n",
       "      <td>61.000000</td>\n",
       "      <td>5.100000</td>\n",
       "      <td>14.040000</td>\n",
       "      <td>NaN</td>\n",
       "      <td>93.400002</td>\n",
       "      <td>134.000000</td>\n",
       "      <td>25.491817</td>\n",
       "      <td>2850.5</td>\n",
       "      <td>...</td>\n",
       "      <td>2.86</td>\n",
       "      <td>8.48</td>\n",
       "      <td>NaN</td>\n",
       "      <td>NaN</td>\n",
       "      <td>NaN</td>\n",
       "      <td>13.550000</td>\n",
       "      <td>0.970229</td>\n",
       "      <td>546.5</td>\n",
       "      <td>3.04</td>\n",
       "      <td>NaN</td>\n",
       "    </tr>\n",
       "    <tr>\n",
       "      <th>2012-05-08</th>\n",
       "      <td>NaN</td>\n",
       "      <td>46.950001</td>\n",
       "      <td>60.599998</td>\n",
       "      <td>5.250000</td>\n",
       "      <td>13.840000</td>\n",
       "      <td>NaN</td>\n",
       "      <td>92.000000</td>\n",
       "      <td>130.100006</td>\n",
       "      <td>24.459578</td>\n",
       "      <td>2860.0</td>\n",
       "      <td>...</td>\n",
       "      <td>2.75</td>\n",
       "      <td>8.40</td>\n",
       "      <td>NaN</td>\n",
       "      <td>NaN</td>\n",
       "      <td>NaN</td>\n",
       "      <td>13.250000</td>\n",
       "      <td>0.980130</td>\n",
       "      <td>550.0</td>\n",
       "      <td>3.04</td>\n",
       "      <td>NaN</td>\n",
       "    </tr>\n",
       "    <tr>\n",
       "      <th>2012-05-09</th>\n",
       "      <td>NaN</td>\n",
       "      <td>47.209999</td>\n",
       "      <td>59.250000</td>\n",
       "      <td>5.200000</td>\n",
       "      <td>13.540000</td>\n",
       "      <td>NaN</td>\n",
       "      <td>90.150002</td>\n",
       "      <td>128.399994</td>\n",
       "      <td>23.382458</td>\n",
       "      <td>2875.0</td>\n",
       "      <td>...</td>\n",
       "      <td>2.78</td>\n",
       "      <td>9.04</td>\n",
       "      <td>NaN</td>\n",
       "      <td>NaN</td>\n",
       "      <td>NaN</td>\n",
       "      <td>13.000000</td>\n",
       "      <td>0.990030</td>\n",
       "      <td>550.0</td>\n",
       "      <td>3.08</td>\n",
       "      <td>NaN</td>\n",
       "    </tr>\n",
       "    <tr>\n",
       "      <th>...</th>\n",
       "      <td>...</td>\n",
       "      <td>...</td>\n",
       "      <td>...</td>\n",
       "      <td>...</td>\n",
       "      <td>...</td>\n",
       "      <td>...</td>\n",
       "      <td>...</td>\n",
       "      <td>...</td>\n",
       "      <td>...</td>\n",
       "      <td>...</td>\n",
       "      <td>...</td>\n",
       "      <td>...</td>\n",
       "      <td>...</td>\n",
       "      <td>...</td>\n",
       "      <td>...</td>\n",
       "      <td>...</td>\n",
       "      <td>...</td>\n",
       "      <td>...</td>\n",
       "      <td>...</td>\n",
       "      <td>...</td>\n",
       "      <td>...</td>\n",
       "    </tr>\n",
       "    <tr>\n",
       "      <th>2022-04-26</th>\n",
       "      <td>24.615000</td>\n",
       "      <td>75.000000</td>\n",
       "      <td>50.700001</td>\n",
       "      <td>127.959999</td>\n",
       "      <td>25.799999</td>\n",
       "      <td>314.799988</td>\n",
       "      <td>65.220001</td>\n",
       "      <td>138.600006</td>\n",
       "      <td>67.580002</td>\n",
       "      <td>9920.0</td>\n",
       "      <td>...</td>\n",
       "      <td>6.01</td>\n",
       "      <td>1.71</td>\n",
       "      <td>46.500000</td>\n",
       "      <td>45.299999</td>\n",
       "      <td>684.0</td>\n",
       "      <td>40.099998</td>\n",
       "      <td>3.740000</td>\n",
       "      <td>462.0</td>\n",
       "      <td>7.10</td>\n",
       "      <td>16.000000</td>\n",
       "    </tr>\n",
       "    <tr>\n",
       "      <th>2022-04-27</th>\n",
       "      <td>24.049999</td>\n",
       "      <td>75.000000</td>\n",
       "      <td>50.599998</td>\n",
       "      <td>129.119995</td>\n",
       "      <td>25.260000</td>\n",
       "      <td>313.899994</td>\n",
       "      <td>66.720001</td>\n",
       "      <td>143.500000</td>\n",
       "      <td>67.400002</td>\n",
       "      <td>9700.0</td>\n",
       "      <td>...</td>\n",
       "      <td>6.00</td>\n",
       "      <td>1.69</td>\n",
       "      <td>46.599998</td>\n",
       "      <td>42.000000</td>\n",
       "      <td>678.0</td>\n",
       "      <td>39.299999</td>\n",
       "      <td>3.710000</td>\n",
       "      <td>461.0</td>\n",
       "      <td>7.02</td>\n",
       "      <td>16.240000</td>\n",
       "    </tr>\n",
       "    <tr>\n",
       "      <th>2022-04-28</th>\n",
       "      <td>24.350000</td>\n",
       "      <td>76.199997</td>\n",
       "      <td>53.980000</td>\n",
       "      <td>123.480003</td>\n",
       "      <td>25.559999</td>\n",
       "      <td>302.600006</td>\n",
       "      <td>69.900002</td>\n",
       "      <td>142.850006</td>\n",
       "      <td>67.900002</td>\n",
       "      <td>9830.0</td>\n",
       "      <td>...</td>\n",
       "      <td>5.91</td>\n",
       "      <td>1.69</td>\n",
       "      <td>47.000000</td>\n",
       "      <td>42.400002</td>\n",
       "      <td>666.0</td>\n",
       "      <td>39.700001</td>\n",
       "      <td>3.780000</td>\n",
       "      <td>458.0</td>\n",
       "      <td>7.00</td>\n",
       "      <td>16.500000</td>\n",
       "    </tr>\n",
       "    <tr>\n",
       "      <th>2022-04-29</th>\n",
       "      <td>23.035000</td>\n",
       "      <td>77.949997</td>\n",
       "      <td>52.259998</td>\n",
       "      <td>120.980003</td>\n",
       "      <td>24.219999</td>\n",
       "      <td>288.100006</td>\n",
       "      <td>67.620003</td>\n",
       "      <td>144.949997</td>\n",
       "      <td>69.400002</td>\n",
       "      <td>9405.0</td>\n",
       "      <td>...</td>\n",
       "      <td>5.82</td>\n",
       "      <td>1.69</td>\n",
       "      <td>47.000000</td>\n",
       "      <td>41.200001</td>\n",
       "      <td>668.0</td>\n",
       "      <td>39.599998</td>\n",
       "      <td>3.780000</td>\n",
       "      <td>451.0</td>\n",
       "      <td>7.00</td>\n",
       "      <td>16.740000</td>\n",
       "    </tr>\n",
       "    <tr>\n",
       "      <th>2022-05-02</th>\n",
       "      <td>22.934999</td>\n",
       "      <td>77.300003</td>\n",
       "      <td>50.580002</td>\n",
       "      <td>119.419998</td>\n",
       "      <td>24.200001</td>\n",
       "      <td>286.799988</td>\n",
       "      <td>66.540001</td>\n",
       "      <td>139.949997</td>\n",
       "      <td>66.800003</td>\n",
       "      <td>9340.0</td>\n",
       "      <td>...</td>\n",
       "      <td>5.80</td>\n",
       "      <td>1.61</td>\n",
       "      <td>45.150002</td>\n",
       "      <td>39.500000</td>\n",
       "      <td>638.0</td>\n",
       "      <td>39.099998</td>\n",
       "      <td>3.750000</td>\n",
       "      <td>465.0</td>\n",
       "      <td>6.99</td>\n",
       "      <td>16.799999</td>\n",
       "    </tr>\n",
       "  </tbody>\n",
       "</table>\n",
       "<p>2593 rows × 140 columns</p>\n",
       "</div>"
      ],
      "text/plain": [
       "                   ALE.WA     ACP.WA     CCC.WA      CDR.WA     CPS.WA  \\\n",
       "formatted_date                                                           \n",
       "2012-05-03            NaN  46.730000  59.700001    5.390000  13.900000   \n",
       "2012-05-04            NaN  46.500000  63.000000    5.060000  13.500000   \n",
       "2012-05-07            NaN  47.950001  61.000000    5.100000  14.040000   \n",
       "2012-05-08            NaN  46.950001  60.599998    5.250000  13.840000   \n",
       "2012-05-09            NaN  47.209999  59.250000    5.200000  13.540000   \n",
       "...                   ...        ...        ...         ...        ...   \n",
       "2022-04-26      24.615000  75.000000  50.700001  127.959999  25.799999   \n",
       "2022-04-27      24.049999  75.000000  50.599998  129.119995  25.260000   \n",
       "2022-04-28      24.350000  76.199997  53.980000  123.480003  25.559999   \n",
       "2022-04-29      23.035000  77.949997  52.259998  120.980003  24.219999   \n",
       "2022-05-02      22.934999  77.300003  50.580002  119.419998  24.200001   \n",
       "\n",
       "                    DNP.WA     JSW.WA      KGH.WA     LTS.WA  LPP.WA  ...  \\\n",
       "formatted_date                                                        ...   \n",
       "2012-05-03             NaN  92.000000  138.000000  25.797001  2820.0  ...   \n",
       "2012-05-04             NaN  91.250000  135.199997  25.581575  2900.0  ...   \n",
       "2012-05-07             NaN  93.400002  134.000000  25.491817  2850.5  ...   \n",
       "2012-05-08             NaN  92.000000  130.100006  24.459578  2860.0  ...   \n",
       "2012-05-09             NaN  90.150002  128.399994  23.382458  2875.0  ...   \n",
       "...                    ...        ...         ...        ...     ...  ...   \n",
       "2022-04-26      314.799988  65.220001  138.600006  67.580002  9920.0  ...   \n",
       "2022-04-27      313.899994  66.720001  143.500000  67.400002  9700.0  ...   \n",
       "2022-04-28      302.600006  69.900002  142.850006  67.900002  9830.0  ...   \n",
       "2022-04-29      288.100006  67.620003  144.949997  69.400002  9405.0  ...   \n",
       "2022-05-02      286.799988  66.540001  139.949997  66.800003  9340.0  ...   \n",
       "\n",
       "                TOA.WA  TRK.WA     UNT.WA     VRC.WA  VGO.WA     VOX.WA  \\\n",
       "formatted_date                                                            \n",
       "2012-05-03        2.88    8.72        NaN        NaN     NaN  13.750000   \n",
       "2012-05-04        2.90    8.56        NaN        NaN     NaN  13.700000   \n",
       "2012-05-07        2.86    8.48        NaN        NaN     NaN  13.550000   \n",
       "2012-05-08        2.75    8.40        NaN        NaN     NaN  13.250000   \n",
       "2012-05-09        2.78    9.04        NaN        NaN     NaN  13.000000   \n",
       "...                ...     ...        ...        ...     ...        ...   \n",
       "2022-04-26        6.01    1.71  46.500000  45.299999   684.0  40.099998   \n",
       "2022-04-27        6.00    1.69  46.599998  42.000000   678.0  39.299999   \n",
       "2022-04-28        5.91    1.69  47.000000  42.400002   666.0  39.700001   \n",
       "2022-04-29        5.82    1.69  47.000000  41.200001   668.0  39.599998   \n",
       "2022-05-02        5.80    1.61  45.150002  39.500000   638.0  39.099998   \n",
       "\n",
       "                  VRG.WA  WWL.WA  WLT.WA     ZEP.WA  \n",
       "formatted_date                                       \n",
       "2012-05-03      1.039531   563.0    3.14        NaN  \n",
       "2012-05-04      0.990030   563.0    3.15        NaN  \n",
       "2012-05-07      0.970229   546.5    3.04        NaN  \n",
       "2012-05-08      0.980130   550.0    3.04        NaN  \n",
       "2012-05-09      0.990030   550.0    3.08        NaN  \n",
       "...                  ...     ...     ...        ...  \n",
       "2022-04-26      3.740000   462.0    7.10  16.000000  \n",
       "2022-04-27      3.710000   461.0    7.02  16.240000  \n",
       "2022-04-28      3.780000   458.0    7.00  16.500000  \n",
       "2022-04-29      3.780000   451.0    7.00  16.740000  \n",
       "2022-05-02      3.750000   465.0    6.99  16.799999  \n",
       "\n",
       "[2593 rows x 140 columns]"
      ]
     },
     "execution_count": 8,
     "metadata": {},
     "output_type": "execute_result"
    }
   ],
   "source": [
    "close_df"
   ]
  },
  {
   "cell_type": "markdown",
   "id": "dressed-dollar",
   "metadata": {},
   "source": [
    "Create the x-years list based on historical data."
   ]
  },
  {
   "cell_type": "code",
   "execution_count": 9,
   "id": "first-exploration",
   "metadata": {},
   "outputs": [],
   "source": [
    "max_ser = close_df.max()"
   ]
  },
  {
   "cell_type": "code",
   "execution_count": 10,
   "id": "excess-carolina",
   "metadata": {},
   "outputs": [
    {
     "data": {
      "text/plain": [
       "ALE.WA      94.639999\n",
       "ACP.WA      99.199997\n",
       "CCC.WA     309.000000\n",
       "CDR.WA     460.799988\n",
       "CPS.WA      37.860001\n",
       "             ...     \n",
       "VOX.WA      55.599998\n",
       "VRG.WA       5.280000\n",
       "WWL.WA    1459.000000\n",
       "WLT.WA      18.320000\n",
       "ZEP.WA      33.500000\n",
       "Length: 140, dtype: float64"
      ]
     },
     "execution_count": 10,
     "metadata": {},
     "output_type": "execute_result"
    }
   ],
   "source": [
    "max_ser"
   ]
  },
  {
   "cell_type": "markdown",
   "id": "ruled-instrument",
   "metadata": {},
   "source": [
    "Get data from today. Make sure the market is already closed."
   ]
  },
  {
   "cell_type": "code",
   "execution_count": 11,
   "id": "satisfactory-spirituality",
   "metadata": {},
   "outputs": [],
   "source": [
    "def get_current_prices_dict(tickers):\n",
    "    yahoo_financials = YahooFinancials(tickers)\n",
    "    return yahoo_financials.get_current_price()"
   ]
  },
  {
   "cell_type": "code",
   "execution_count": 12,
   "id": "dramatic-convert",
   "metadata": {},
   "outputs": [],
   "source": [
    "today_price_dict = get_current_prices_dict(three_wigs_tickers)"
   ]
  },
  {
   "cell_type": "code",
   "execution_count": 13,
   "id": "accredited-establishment",
   "metadata": {},
   "outputs": [
    {
     "data": {
      "text/plain": [
       "140"
      ]
     },
     "execution_count": 13,
     "metadata": {},
     "output_type": "execute_result"
    }
   ],
   "source": [
    "len(today_price_dict)"
   ]
  },
  {
   "cell_type": "markdown",
   "id": "prerequisite-photograph",
   "metadata": {},
   "source": [
    "Compare with x-year max table and show new x-year max (if any)."
   ]
  },
  {
   "cell_type": "code",
   "execution_count": 14,
   "id": "british-attendance",
   "metadata": {},
   "outputs": [],
   "source": [
    "def get_new_maxs(cur_max_ser, new_prices_dict):\n",
    "    mask = cur_max_ser.loc[new_prices_dict.keys()] < list(new_prices_dict.values())\n",
    "    return list(cur_max_ser.loc[new_prices_dict.keys()][mask].index)"
   ]
  },
  {
   "cell_type": "code",
   "execution_count": 15,
   "id": "agreed-doctrine",
   "metadata": {},
   "outputs": [
    {
     "data": {
      "text/plain": [
       "\"There is new 10 years max for: ['ATC.WA']\""
      ]
     },
     "execution_count": 15,
     "metadata": {},
     "output_type": "execute_result"
    }
   ],
   "source": [
    "new_max = get_new_maxs(max_ser, today_price_dict)\n",
    "f'There is new {x_years} years max for: {new_max}'"
   ]
  },
  {
   "cell_type": "markdown",
   "id": "attended-universal",
   "metadata": {},
   "source": [
    "Let's create the log to keep the track of new maxs. It is enough to have it in txt file with following scheme --> Date, Ticker, Years, Old_max, New_max."
   ]
  },
  {
   "cell_type": "code",
   "execution_count": 16,
   "id": "eligible-directive",
   "metadata": {},
   "outputs": [],
   "source": [
    "def round_2(x):\n",
    "    return round(x, 2)"
   ]
  },
  {
   "cell_type": "code",
   "execution_count": 17,
   "id": "shaped-tomorrow",
   "metadata": {},
   "outputs": [],
   "source": [
    "def update_log_file(max_ser, new_prices_dict, new_max_tickers):\n",
    "    today = datetime.today().strftime('%Y-%m-%d')\n",
    "    with open('ATH_Data/x_years_max.txt', 'a') as file:\n",
    "        for ticker in new_max_tickers:\n",
    "            file.write(f'{today}, {ticker}, {x_years}, {round_2(max_ser[ticker])}, {round_2(new_prices_dict[ticker])}\\n')"
   ]
  },
  {
   "cell_type": "code",
   "execution_count": 18,
   "id": "temporal-mechanics",
   "metadata": {},
   "outputs": [],
   "source": [
    "update_log_file(max_ser, today_price_dict, new_max)"
   ]
  },
  {
   "cell_type": "markdown",
   "id": "arranged-magazine",
   "metadata": {},
   "source": [
    "All in one (the functions have to be already defined)."
   ]
  },
  {
   "cell_type": "code",
   "execution_count": null,
   "id": "revolutionary-modern",
   "metadata": {},
   "outputs": [],
   "source": [
    "x_years = 10\n",
    "start_date, end_date = get_start_end_date(x_years)\n",
    "interval = 'daily'\n",
    "data = get_data(start_date, end_date, three_wigs_tickers, interval)\n",
    "close_df = get_close_df(data)\n",
    "max_ser = close_df.max()\n",
    "today_price_dict = get_current_prices_dict(three_wigs_tickers)\n",
    "new_max = get_new_maxs(max_ser, today_price_dict)\n",
    "today = datetime.today().strftime('%Y-%m-%d')\n",
    "update_log_file(max_ser, today_price_dict, new_max)\n",
    "f'There is new {x_years} years max for: {new_max}'"
   ]
  }
 ],
 "metadata": {
  "kernelspec": {
   "display_name": "Python 3",
   "language": "python",
   "name": "python3"
  },
  "language_info": {
   "codemirror_mode": {
    "name": "ipython",
    "version": 3
   },
   "file_extension": ".py",
   "mimetype": "text/x-python",
   "name": "python",
   "nbconvert_exporter": "python",
   "pygments_lexer": "ipython3",
   "version": "3.7.6"
  }
 },
 "nbformat": 4,
 "nbformat_minor": 5
}
