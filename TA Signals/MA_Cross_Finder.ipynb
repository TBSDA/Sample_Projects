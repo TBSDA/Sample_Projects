{
 "cells": [
  {
   "cell_type": "markdown",
   "id": "greek-spirit",
   "metadata": {},
   "source": [
    "# MA Crossing Finder"
   ]
  },
  {
   "cell_type": "markdown",
   "id": "boxed-magnitude",
   "metadata": {},
   "source": [
    "The purpose of this script is finding the asset(s) which price crossed a particular MA value. The WIG20, mWIG40 and sWIG80 are taken as an examples of tickers."
   ]
  },
  {
   "cell_type": "code",
   "execution_count": 1,
   "id": "surprised-aberdeen",
   "metadata": {},
   "outputs": [],
   "source": [
    "import pandas as pd\n",
    "from yahoofinancials import YahooFinancials\n",
    "import numpy as np\n",
    "import os\n",
    "from datetime import datetime"
   ]
  },
  {
   "cell_type": "markdown",
   "id": "intelligent-labor",
   "metadata": {},
   "source": [
    "Read the tickers from file (MA_Cross_Data/WIG_tickers.txt)."
   ]
  },
  {
   "cell_type": "code",
   "execution_count": 2,
   "id": "executed-insert",
   "metadata": {},
   "outputs": [],
   "source": [
    "with open(\"MA_Cross_Data/WIG_tickers.txt\", \"r\") as file:\n",
    "    three_wigs_tickers = file.read().splitlines()"
   ]
  },
  {
   "cell_type": "code",
   "execution_count": 3,
   "id": "hungry-coral",
   "metadata": {},
   "outputs": [
    {
     "data": {
      "text/plain": [
       "140"
      ]
     },
     "execution_count": 3,
     "metadata": {},
     "output_type": "execute_result"
    }
   ],
   "source": [
    "len(three_wigs_tickers)"
   ]
  },
  {
   "cell_type": "markdown",
   "id": "handled-conspiracy",
   "metadata": {},
   "source": [
    "Get data from today. Make sure the market is already closed."
   ]
  },
  {
   "cell_type": "code",
   "execution_count": 4,
   "id": "decimal-chemical",
   "metadata": {},
   "outputs": [],
   "source": [
    "def get_current_prices_dict(tickers):\n",
    "    yahoo_financials = YahooFinancials(tickers)\n",
    "    return yahoo_financials.get_current_price()"
   ]
  },
  {
   "cell_type": "code",
   "execution_count": 5,
   "id": "minute-tablet",
   "metadata": {},
   "outputs": [],
   "source": [
    "today_price_dict = get_current_prices_dict(three_wigs_tickers)"
   ]
  },
  {
   "cell_type": "code",
   "execution_count": 6,
   "id": "pressing-prior",
   "metadata": {},
   "outputs": [
    {
     "data": {
      "text/plain": [
       "140"
      ]
     },
     "execution_count": 6,
     "metadata": {},
     "output_type": "execute_result"
    }
   ],
   "source": [
    "len(today_price_dict)"
   ]
  },
  {
   "cell_type": "code",
   "execution_count": 7,
   "id": "biblical-israel",
   "metadata": {},
   "outputs": [],
   "source": [
    "def get_moving_avg_dict(tickers, ma=50):\n",
    "    ''' At the moment only ma 50 and 200 is supported by yahoo finance '''\n",
    "    yahoo_financials = YahooFinancials(tickers)\n",
    "    if ma == 50:\n",
    "        return yahoo_financials.get_50day_moving_avg()\n",
    "    elif ma == 200:\n",
    "        return yahoo_financials.get_200day_moving_avg()\n",
    "    else:\n",
    "        print(f'Wrong ma value {ma}. Only 50 and 200 are supported')"
   ]
  },
  {
   "cell_type": "code",
   "execution_count": 8,
   "id": "norwegian-chrome",
   "metadata": {},
   "outputs": [],
   "source": [
    "ma = 50\n",
    "today_ma_dict = get_moving_avg_dict(three_wigs_tickers)"
   ]
  },
  {
   "cell_type": "markdown",
   "id": "featured-literature",
   "metadata": {},
   "source": [
    "First step - check if prices are above or below ma. We will need to have two files per ma: 1. With yeasterday data (save every day after checking the changes) 2. Change log"
   ]
  },
  {
   "cell_type": "code",
   "execution_count": 19,
   "id": "black-married",
   "metadata": {},
   "outputs": [
    {
     "name": "stdout",
     "output_type": "stream",
     "text": [
      "For ALE.WA the price 22.575 is below ma 29.6525\n",
      "For ACP.WA the price 76.5 is below ma 77.389\n",
      "For CCC.WA the price 51.54 is below ma 55.5866\n",
      "For CDR.WA the price 123.06 is below ma 161.9468\n",
      "For CPS.WA the price 24.34 is below ma 27.4188\n",
      "For DNP.WA the price 281.1 is below ma 309.11\n",
      "For JSW.WA the price 69.6 is above ma 66.4794\n",
      "For KGH.WA the price 139.05 is below ma 166.178\n",
      "For LTS.WA the price 66.52 is above ma 60.682\n",
      "For LPP.WA the price 8885 is below ma 10487.3\n",
      "For MBK.WA the price 285.4 is below ma 351.608\n",
      "For OPL.WA the price 6.68 is below ma 7.71654\n",
      "For PEO.WA the price 92.94 is below ma 108.9524\n",
      "For PCO.WA the price 41.48 is below ma 43.1985\n",
      "For PGE.WA the price 9.658 is above ma 9.07252\n",
      "For PGN.WA the price 6.21 is below ma 6.3872\n",
      "For PKN.WA the price 74 is below ma 75.5464\n",
      "For PKO.WA the price 31.62 is below ma 38.3712\n",
      "For PZU.WA the price 30.71 is below ma 32.7624\n",
      "For SPL.WA the price 258.2 is below ma 293.878\n",
      "For 11B.WA the price 530 is below ma 537.33\n",
      "For ALR.WA the price 34.49 is below ma 43.5882\n",
      "For EAT.WA the price 17.5 is below ma 19.991\n",
      "For ASB.WA the price 13.39 is above ma 12.4568\n",
      "For ASE.WA the price 48.3 is below ma 49.134\n",
      "For BFT.WA the price 590 is below ma 590.1\n",
      "For BML.WA the price 3.25 is below ma 3.45822\n",
      "For BDX.WA the price 208 is below ma 218.96\n",
      "For CIE.WA the price 39.98 is below ma 40.9338\n",
      "For CLN.WA the price 22.3 is below ma 24.775\n",
      "For CMR.WA the price 172 is below ma 178.974\n",
      "For DAT.WA the price 176.2 is above ma 173.9848\n",
      "For DVL.WA the price 3.545 is above ma 3.2372\n",
      "For DOM.WA the price 90 is below ma 98.07\n",
      "For ENA.WA the price 9.23 is above ma 8.9118\n",
      "For EUR.WA the price 12.46 is above ma 11.7306\n",
      "For FMF.WA the price 2.766 is below ma 2.78808\n",
      "For GPW.WA the price 38.62 is below ma 39.6348\n",
      "For ATT.WA the price 40.78 is above ma 38.9532\n",
      "For BHW.WA the price 57.1 is below ma 60.232\n",
      "For HUG.WA the price 17.97 is below ma 18.27624\n",
      "For ING.WA the price 195 is below ma 233.186\n",
      "For CAR.WA the price 415.5 is below ma 424.99\n",
      "For KER.WA the price 25.38 is below ma 30.8384\n",
      "For KTY.WA the price 622 is above ma 602.94\n",
      "For KRU.WA the price 247.8 is below ma 282.656\n",
      "For LVC.WA the price 95 is below ma 95.268\n",
      "For MAB.WA the price 29.8 is below ma 30.5582\n",
      "For MRC.WA the price 80.78 is above ma 70.1348\n",
      "For MIL.WA the price 4.99 is below ma 6.3486\n",
      "For MBR.WA the price 343.5 is below ma 384.92\n",
      "For NEU.WA the price 752 is below ma 777.84\n",
      "For PEP.WA the price 66.5 is below ma 67.672\n",
      "For PKP.WA the price 11.72 is below ma 12.0468\n",
      "For PLW.WA the price 278.5 is below ma 306.93\n",
      "For SLV.WA the price 75 is above ma 71.578\n",
      "For TPE.WA the price 3.398 is above ma 2.8168\n",
      "For TEN.WA the price 166 is below ma 193.55\n",
      "For WPL.WA the price 96.9 is below ma 112.288\n",
      "For XTB.WA the price 18.93 is above ma 18.5458\n",
      "For ABE.WA the price 46 is below ma 46.206\n",
      "For ACG.WA the price 28.9 is below ma 29.558\n",
      "For ACT.WA the price 11.32 is below ma 12.1016\n",
      "For AGO.WA the price 5.56 is below ma 6.7606\n",
      "For AML.WA the price 69.6 is above ma 69.238\n",
      "For AMB.WA the price 21 is below ma 22.224\n",
      "For AMC.WA the price 90 is below ma 97.052\n",
      "For ANR.WA the price 24.6 is below ma 25.504\n",
      "For APT.WA the price 17.04 is below ma 18.6442\n",
      "For ATC.WA the price 12.1 is above ma 9.7048\n",
      "For ABS.WA the price 41.3 is below ma 41.56\n",
      "For AST.WA the price 23.85 is below ma 24.024\n",
      "For 1AT.WA the price 41.5 is above ma 40.706\n",
      "For ATG.WA the price 3.9 is below ma 4.0532\n",
      "For APR.WA the price 14.86 is above ma 14.6844\n",
      "For BIO.WA the price 4.05 is below ma 4.1475\n",
      "For BNP.WA the price 68.8 is below ma 72.52\n",
      "For LWB.WA the price 54.95 is above ma 50.135\n",
      "For BRS.WA the price 6.36 is above ma 3.3955\n",
      "For BOS.WA the price 8.66 is above ma 8.4394\n",
      "For BOW.WA the price 12.14 is above ma 9.9736\n",
      "For BMC.WA the price 29.9 is above ma 26.084\n",
      "For CTX.WA the price 153 is below ma 163.866\n",
      "For CAV.WA the price 20.7 is below ma 21.31182\n",
      "For CIG.WA the price 1.466 is below ma 1.5483\n",
      "For CLE.WA the price 1.264 is below ma 1.4811\n",
      "For COG.WA the price 5.99 is above ma 5.6521\n",
      "For CMP.WA the price 48.9 is above ma 48.098\n",
      "For CRJ.WA the price 661 is below ma 713.56\n",
      "For DCR.WA the price 34.6 is above ma 34.564\n",
      "For ECH.WA the price 3.37 is below ma 3.5703\n",
      "For ENT.WA the price 27 is below ma 29.311\n",
      "For ERB.WA the price 34.55 is below ma 40.522\n",
      "For FRO.WA the price 28.6 is below ma 30.214\n",
      "For FTE.WA the price 37.8 is below ma 39.008\n",
      "For GTN.WA the price 0.994 is below ma 1.0576\n",
      "For GNB.WA the price 0.208 is below ma 0.3308\n",
      "For GRN.WA the price 18.42 is above ma 17.4948\n",
      "For IMC.WA the price 17.75 is below ma 18.776\n",
      "For INK.WA the price 35.7 is above ma 34.924\n",
      "For KGN.WA the price 26 is below ma 26.044\n",
      "For MCI.WA the price 18.75 is below ma 19.102\n",
      "For MFO.WA the price 48.1 is above ma 45.862\n",
      "For MRB.WA the price 3.315 is below ma 3.588\n",
      "For MLS.WA the price 70.75 is above ma 68.53\n",
      "For MOC.WA the price 26.4 is below ma 29.545\n",
      "For NWG.WA the price 20 is below ma 20.62\n",
      "For OND.WA the price 13.92 is below ma 18.06308\n",
      "For OPN.WA the price 45.5 is below ma 48.584\n",
      "For PCR.WA the price 91.4 is below ma 91.47\n",
      "For PCF.WA the price 56.4 is below ma 57.4692\n",
      "For PBX.WA the price 15.2 is below ma 16.241\n",
      "For PHN.WA the price 13.7 is above ma 13.358\n",
      "For PEN.WA the price 10.12 is above ma 8.12576\n",
      "For PCE.WA the price 11.45 is below ma 11.715\n",
      "For PXM.WA the price 3.56 is below ma 3.58776\n",
      "For R22.WA the price 38.5 is below ma 43.824\n",
      "For RFK.WA the price 1.796 is above ma 1.62516\n",
      "For RBW.WA the price 22.65 is below ma 23.265\n",
      "For RWL.WA the price 15.6 is below ma 16.137\n",
      "For RVU.WA the price 39 is below ma 45.437\n",
      "For SNK.WA the price 12.1 is below ma 13.5368\n",
      "For SEN.WA the price 0.83 is below ma 0.878322\n",
      "For SHO.WA the price 43.45 is below ma 51.5462\n",
      "For SKA.WA the price 75.4 is below ma 77.72\n",
      "For STX.WA the price 3.135 is below ma 3.3573\n",
      "For STP.WA the price 337.5 is above ma 333.91\n",
      "For SNT.WA the price 27.5 is below ma 27.98\n",
      "For TIM.WA the price 35.7 is above ma 34.897\n",
      "For TOR.WA the price 15.18 is above ma 13.952\n",
      "For TOA.WA the price 5.8 is below ma 6.5056\n",
      "For TRK.WA the price 1.614 is below ma 1.67984\n",
      "For UNT.WA the price 45.2 is above ma 42.716\n",
      "For VRC.WA the price 41 is below ma 42.8625\n",
      "For VGO.WA the price 666 is below ma 689.52\n",
      "For VOX.WA the price 38.5 is below ma 40.604\n",
      "For VRG.WA the price 3.67 is below ma 3.7239\n",
      "For WWL.WA the price 473 is above ma 472.66\n",
      "For WLT.WA the price 6.93 is below ma 7.7928\n",
      "For ZEP.WA the price 16.16 is below ma 16.7088\n"
     ]
    }
   ],
   "source": [
    "ma_position_list = []\n",
    "for ticker, price in  today_price_dict.items():\n",
    "    ma_value = today_ma_dict[ticker]\n",
    "    if price > ma_value:\n",
    "        print(f'For {ticker} the price {price} is above ma {ma_value}')\n",
    "        ma_position_list.append('above')\n",
    "    elif price < ma_value:\n",
    "        print(f'For {ticker} the price {price} is below ma {ma_value}')\n",
    "        ma_position_list.append('below')\n",
    "    else:\n",
    "        print(f'Wow mate {ticker} is just on the line! {price} = {ma_value}')\n",
    "        ma_position_list.append('equal')"
   ]
  },
  {
   "cell_type": "code",
   "execution_count": 20,
   "id": "traditional-eugene",
   "metadata": {},
   "outputs": [
    {
     "data": {
      "text/plain": [
       "['below', 'below', 'below']"
      ]
     },
     "execution_count": 20,
     "metadata": {},
     "output_type": "execute_result"
    }
   ],
   "source": [
    "ma_position_list[:3]"
   ]
  },
  {
   "cell_type": "markdown",
   "id": "promising-pizza",
   "metadata": {},
   "source": [
    "Second step - create the data frame with current data."
   ]
  },
  {
   "cell_type": "code",
   "execution_count": 21,
   "id": "complimentary-haiti",
   "metadata": {},
   "outputs": [],
   "source": [
    "price_ma_df = pd.DataFrame(columns=['Ticker', 'Price', 'MA', 'Position'])"
   ]
  },
  {
   "cell_type": "code",
   "execution_count": 22,
   "id": "radical-lesson",
   "metadata": {},
   "outputs": [],
   "source": [
    "price_ma_df['Ticker'] = today_price_dict.keys()\n",
    "price_ma_df['Price'] = today_price_dict.values()\n",
    "price_ma_df['MA'] = today_ma_dict.values()\n",
    "price_ma_df['Position'] = ma_position_list"
   ]
  },
  {
   "cell_type": "code",
   "execution_count": 23,
   "id": "cultural-campbell",
   "metadata": {},
   "outputs": [
    {
     "data": {
      "text/html": [
       "<div>\n",
       "<style scoped>\n",
       "    .dataframe tbody tr th:only-of-type {\n",
       "        vertical-align: middle;\n",
       "    }\n",
       "\n",
       "    .dataframe tbody tr th {\n",
       "        vertical-align: top;\n",
       "    }\n",
       "\n",
       "    .dataframe thead th {\n",
       "        text-align: right;\n",
       "    }\n",
       "</style>\n",
       "<table border=\"1\" class=\"dataframe\">\n",
       "  <thead>\n",
       "    <tr style=\"text-align: right;\">\n",
       "      <th></th>\n",
       "      <th>Ticker</th>\n",
       "      <th>Price</th>\n",
       "      <th>MA</th>\n",
       "      <th>Position</th>\n",
       "    </tr>\n",
       "  </thead>\n",
       "  <tbody>\n",
       "    <tr>\n",
       "      <th>0</th>\n",
       "      <td>ALE.WA</td>\n",
       "      <td>22.575</td>\n",
       "      <td>29.6525</td>\n",
       "      <td>below</td>\n",
       "    </tr>\n",
       "    <tr>\n",
       "      <th>1</th>\n",
       "      <td>ACP.WA</td>\n",
       "      <td>76.500</td>\n",
       "      <td>77.3890</td>\n",
       "      <td>below</td>\n",
       "    </tr>\n",
       "    <tr>\n",
       "      <th>2</th>\n",
       "      <td>CCC.WA</td>\n",
       "      <td>51.540</td>\n",
       "      <td>55.5866</td>\n",
       "      <td>below</td>\n",
       "    </tr>\n",
       "    <tr>\n",
       "      <th>3</th>\n",
       "      <td>CDR.WA</td>\n",
       "      <td>123.060</td>\n",
       "      <td>161.9468</td>\n",
       "      <td>below</td>\n",
       "    </tr>\n",
       "    <tr>\n",
       "      <th>4</th>\n",
       "      <td>CPS.WA</td>\n",
       "      <td>24.340</td>\n",
       "      <td>27.4188</td>\n",
       "      <td>below</td>\n",
       "    </tr>\n",
       "    <tr>\n",
       "      <th>...</th>\n",
       "      <td>...</td>\n",
       "      <td>...</td>\n",
       "      <td>...</td>\n",
       "      <td>...</td>\n",
       "    </tr>\n",
       "    <tr>\n",
       "      <th>135</th>\n",
       "      <td>VOX.WA</td>\n",
       "      <td>38.500</td>\n",
       "      <td>40.6040</td>\n",
       "      <td>below</td>\n",
       "    </tr>\n",
       "    <tr>\n",
       "      <th>136</th>\n",
       "      <td>VRG.WA</td>\n",
       "      <td>3.670</td>\n",
       "      <td>3.7239</td>\n",
       "      <td>below</td>\n",
       "    </tr>\n",
       "    <tr>\n",
       "      <th>137</th>\n",
       "      <td>WWL.WA</td>\n",
       "      <td>473.000</td>\n",
       "      <td>472.6600</td>\n",
       "      <td>above</td>\n",
       "    </tr>\n",
       "    <tr>\n",
       "      <th>138</th>\n",
       "      <td>WLT.WA</td>\n",
       "      <td>6.930</td>\n",
       "      <td>7.7928</td>\n",
       "      <td>below</td>\n",
       "    </tr>\n",
       "    <tr>\n",
       "      <th>139</th>\n",
       "      <td>ZEP.WA</td>\n",
       "      <td>16.160</td>\n",
       "      <td>16.7088</td>\n",
       "      <td>below</td>\n",
       "    </tr>\n",
       "  </tbody>\n",
       "</table>\n",
       "<p>140 rows × 4 columns</p>\n",
       "</div>"
      ],
      "text/plain": [
       "     Ticker    Price        MA Position\n",
       "0    ALE.WA   22.575   29.6525    below\n",
       "1    ACP.WA   76.500   77.3890    below\n",
       "2    CCC.WA   51.540   55.5866    below\n",
       "3    CDR.WA  123.060  161.9468    below\n",
       "4    CPS.WA   24.340   27.4188    below\n",
       "..      ...      ...       ...      ...\n",
       "135  VOX.WA   38.500   40.6040    below\n",
       "136  VRG.WA    3.670    3.7239    below\n",
       "137  WWL.WA  473.000  472.6600    above\n",
       "138  WLT.WA    6.930    7.7928    below\n",
       "139  ZEP.WA   16.160   16.7088    below\n",
       "\n",
       "[140 rows x 4 columns]"
      ]
     },
     "execution_count": 23,
     "metadata": {},
     "output_type": "execute_result"
    }
   ],
   "source": [
    "price_ma_df"
   ]
  },
  {
   "cell_type": "markdown",
   "id": "southeast-uncle",
   "metadata": {},
   "source": [
    "Third step - read last session data."
   ]
  },
  {
   "cell_type": "code",
   "execution_count": 14,
   "id": "bridal-substitute",
   "metadata": {},
   "outputs": [],
   "source": [
    "last_price_ma_df = pd.read_csv(f'MA_Cross_Data/WIG_price_ma{ma}_position.csv')\n",
    "# last_price_ma_df = price_ma_df.copy()\n",
    "# last_price_ma_df.loc[1, 'Position'] = 'below'"
   ]
  },
  {
   "cell_type": "markdown",
   "id": "signal-battlefield",
   "metadata": {},
   "source": [
    "Fourth step - compare the 'Position' columns and return the ticker for which it changed."
   ]
  },
  {
   "cell_type": "code",
   "execution_count": 24,
   "id": "contrary-european",
   "metadata": {},
   "outputs": [],
   "source": [
    "mask = (last_price_ma_df['Position'] != price_ma_df['Position'])"
   ]
  },
  {
   "cell_type": "code",
   "execution_count": 25,
   "id": "first-contents",
   "metadata": {},
   "outputs": [
    {
     "data": {
      "text/plain": [
       "0      False\n",
       "1      False\n",
       "2      False\n",
       "3      False\n",
       "4      False\n",
       "       ...  \n",
       "135    False\n",
       "136     True\n",
       "137     True\n",
       "138    False\n",
       "139     True\n",
       "Name: Position, Length: 140, dtype: bool"
      ]
     },
     "execution_count": 25,
     "metadata": {},
     "output_type": "execute_result"
    }
   ],
   "source": [
    "mask"
   ]
  },
  {
   "cell_type": "code",
   "execution_count": 26,
   "id": "capital-cable",
   "metadata": {},
   "outputs": [],
   "source": [
    "tickers_ser = price_ma_df[mask]['Ticker']"
   ]
  },
  {
   "cell_type": "code",
   "execution_count": 27,
   "id": "advanced-destination",
   "metadata": {},
   "outputs": [
    {
     "data": {
      "text/plain": [
       "23     ASB.WA\n",
       "25     BFT.WA\n",
       "31     DAT.WA\n",
       "36     FMF.WA\n",
       "52     PEP.WA\n",
       "70     ABS.WA\n",
       "74     APR.WA\n",
       "104    MLS.WA\n",
       "110    PCF.WA\n",
       "136    VRG.WA\n",
       "137    WWL.WA\n",
       "139    ZEP.WA\n",
       "Name: Ticker, dtype: object"
      ]
     },
     "execution_count": 27,
     "metadata": {},
     "output_type": "execute_result"
    }
   ],
   "source": [
    "tickers_ser"
   ]
  },
  {
   "cell_type": "markdown",
   "id": "coupled-offer",
   "metadata": {},
   "source": [
    "Print the changes of the positions."
   ]
  },
  {
   "cell_type": "code",
   "execution_count": 28,
   "id": "exterior-listening",
   "metadata": {},
   "outputs": [
    {
     "name": "stdout",
     "output_type": "stream",
     "text": [
      "ASB.WA BEAT the MA\n",
      "BFT.WA LOST the MA\n",
      "DAT.WA BEAT the MA\n",
      "FMF.WA LOST the MA\n",
      "PEP.WA LOST the MA\n",
      "ABS.WA LOST the MA\n",
      "APR.WA BEAT the MA\n",
      "MLS.WA BEAT the MA\n",
      "PCF.WA LOST the MA\n",
      "VRG.WA LOST the MA\n",
      "WWL.WA BEAT the MA\n",
      "ZEP.WA LOST the MA\n"
     ]
    }
   ],
   "source": [
    "for i in tickers_ser.index:\n",
    "    if (last_price_ma_df.loc[i]['Position'] == 'above') & (price_ma_df.loc[i]['Position'] == 'below'):\n",
    "        print(price_ma_df.loc[i]['Ticker'], 'LOST the MA')\n",
    "    elif (last_price_ma_df.loc[i]['Position'] == 'above') & (price_ma_df.loc[i]['Position'] == 'equal'):\n",
    "        print(price_ma_df.loc[i]['Ticker'], 'DROPPED perfectly on the MA')\n",
    "    elif (last_price_ma_df.loc[i]['Position'] == 'below') & (price_ma_df.loc[i]['Position'] == 'above'):\n",
    "        print(price_ma_df.loc[i]['Ticker'], 'BEAT the MA')\n",
    "    elif (last_price_ma_df.loc[i]['Position'] == 'below') & (price_ma_df.loc[i]['Position'] == 'equal'):\n",
    "        print(price_ma_df.loc[i]['Ticker'], 'REACHED perfectly the MA')\n",
    "    elif (last_price_ma_df.loc[i]['Position'] == 'equal') & (price_ma_df.loc[i]['Position'] == 'above'):\n",
    "        print(price_ma_df.loc[i]['Ticker'], 'BEAT (from prev. eq) the MA')\n",
    "    elif (last_price_ma_df.loc[i]['Position'] == 'equal') & (price_ma_df.loc[i]['Position'] == 'below'):\n",
    "        print(price_ma_df.loc[i]['Ticker'], 'LOST (from prev. eq) the MA')"
   ]
  },
  {
   "cell_type": "markdown",
   "id": "gorgeous-bolivia",
   "metadata": {},
   "source": [
    "Fifth step - Update the change log (if any changes)."
   ]
  },
  {
   "cell_type": "code",
   "execution_count": 34,
   "id": "following-basin",
   "metadata": {},
   "outputs": [],
   "source": [
    "change_log_df = pd.read_csv(f'MA_Cross_Data/WIG_price_ma{ma}_change_log.csv')\n",
    "# change_log_df = pd.DataFrame(columns=['Index', 'Date', 'Ticker', 'Prev. Price', 'Curr. Price', 'Prev. MA', 'Curr. MA', 'Prev. Position', 'Curr. Position'])"
   ]
  },
  {
   "cell_type": "code",
   "execution_count": 36,
   "id": "accessible-strength",
   "metadata": {},
   "outputs": [],
   "source": [
    "today = datetime.today().strftime('%Y-%m-%d')\n",
    "for idx in tickers_ser.index:\n",
    "#     print(today, price_ma_df.loc[idx]['Ticker'])\n",
    "#     print(last_price_ma_df.loc[idx]['Price'], price_ma_df.loc[idx]['Price'])\n",
    "#     print(last_price_ma_df.loc[idx]['MA'], price_ma_df.loc[idx]['MA'])\n",
    "#     print(last_price_ma_df.loc[idx]['Position'], price_ma_df.loc[idx]['Position'])\n",
    "    change_log_df.loc[len(change_log_df)] = [change_log_df.last_valid_index()+1, today, price_ma_df.loc[idx]['Ticker'], \n",
    "                                             last_price_ma_df.loc[idx]['Price'], price_ma_df.loc[idx]['Price'],\n",
    "                                             last_price_ma_df.loc[idx]['MA'], price_ma_df.loc[idx]['MA'], \n",
    "                                             last_price_ma_df.loc[idx]['Position'], price_ma_df.loc[idx]['Position']]"
   ]
  },
  {
   "cell_type": "code",
   "execution_count": 37,
   "id": "optimum-characterization",
   "metadata": {},
   "outputs": [
    {
     "data": {
      "text/html": [
       "<div>\n",
       "<style scoped>\n",
       "    .dataframe tbody tr th:only-of-type {\n",
       "        vertical-align: middle;\n",
       "    }\n",
       "\n",
       "    .dataframe tbody tr th {\n",
       "        vertical-align: top;\n",
       "    }\n",
       "\n",
       "    .dataframe thead th {\n",
       "        text-align: right;\n",
       "    }\n",
       "</style>\n",
       "<table border=\"1\" class=\"dataframe\">\n",
       "  <thead>\n",
       "    <tr style=\"text-align: right;\">\n",
       "      <th></th>\n",
       "      <th>Date</th>\n",
       "      <th>Ticker</th>\n",
       "      <th>Prev. Price</th>\n",
       "      <th>Curr. Price</th>\n",
       "      <th>Prev. MA</th>\n",
       "      <th>Curr. MA</th>\n",
       "      <th>Prev. Position</th>\n",
       "      <th>Curr. Position</th>\n",
       "    </tr>\n",
       "  </thead>\n",
       "  <tbody>\n",
       "    <tr>\n",
       "      <th>0</th>\n",
       "      <td>2022-05-04</td>\n",
       "      <td>ASB.WA</td>\n",
       "      <td>12.41</td>\n",
       "      <td>13.390</td>\n",
       "      <td>12.45680</td>\n",
       "      <td>12.45680</td>\n",
       "      <td>below</td>\n",
       "      <td>above</td>\n",
       "    </tr>\n",
       "    <tr>\n",
       "      <th>1</th>\n",
       "      <td>2022-05-04</td>\n",
       "      <td>BFT.WA</td>\n",
       "      <td>602.00</td>\n",
       "      <td>590.000</td>\n",
       "      <td>590.10000</td>\n",
       "      <td>590.10000</td>\n",
       "      <td>above</td>\n",
       "      <td>below</td>\n",
       "    </tr>\n",
       "    <tr>\n",
       "      <th>2</th>\n",
       "      <td>2022-05-04</td>\n",
       "      <td>DAT.WA</td>\n",
       "      <td>173.70</td>\n",
       "      <td>176.200</td>\n",
       "      <td>173.98480</td>\n",
       "      <td>173.98480</td>\n",
       "      <td>below</td>\n",
       "      <td>above</td>\n",
       "    </tr>\n",
       "    <tr>\n",
       "      <th>3</th>\n",
       "      <td>2022-05-04</td>\n",
       "      <td>FMF.WA</td>\n",
       "      <td>2.80</td>\n",
       "      <td>2.766</td>\n",
       "      <td>2.78808</td>\n",
       "      <td>2.78808</td>\n",
       "      <td>above</td>\n",
       "      <td>below</td>\n",
       "    </tr>\n",
       "    <tr>\n",
       "      <th>4</th>\n",
       "      <td>2022-05-04</td>\n",
       "      <td>PEP.WA</td>\n",
       "      <td>68.80</td>\n",
       "      <td>66.500</td>\n",
       "      <td>67.67200</td>\n",
       "      <td>67.67200</td>\n",
       "      <td>above</td>\n",
       "      <td>below</td>\n",
       "    </tr>\n",
       "    <tr>\n",
       "      <th>5</th>\n",
       "      <td>2022-05-04</td>\n",
       "      <td>ABS.WA</td>\n",
       "      <td>41.80</td>\n",
       "      <td>41.300</td>\n",
       "      <td>41.56000</td>\n",
       "      <td>41.56000</td>\n",
       "      <td>above</td>\n",
       "      <td>below</td>\n",
       "    </tr>\n",
       "    <tr>\n",
       "      <th>6</th>\n",
       "      <td>2022-05-04</td>\n",
       "      <td>APR.WA</td>\n",
       "      <td>14.40</td>\n",
       "      <td>14.860</td>\n",
       "      <td>14.68440</td>\n",
       "      <td>14.68440</td>\n",
       "      <td>below</td>\n",
       "      <td>above</td>\n",
       "    </tr>\n",
       "    <tr>\n",
       "      <th>7</th>\n",
       "      <td>2022-05-04</td>\n",
       "      <td>MLS.WA</td>\n",
       "      <td>67.60</td>\n",
       "      <td>70.750</td>\n",
       "      <td>68.53000</td>\n",
       "      <td>68.53000</td>\n",
       "      <td>below</td>\n",
       "      <td>above</td>\n",
       "    </tr>\n",
       "    <tr>\n",
       "      <th>8</th>\n",
       "      <td>2022-05-04</td>\n",
       "      <td>PCF.WA</td>\n",
       "      <td>58.50</td>\n",
       "      <td>56.400</td>\n",
       "      <td>57.46920</td>\n",
       "      <td>57.46920</td>\n",
       "      <td>above</td>\n",
       "      <td>below</td>\n",
       "    </tr>\n",
       "    <tr>\n",
       "      <th>9</th>\n",
       "      <td>2022-05-04</td>\n",
       "      <td>VRG.WA</td>\n",
       "      <td>3.75</td>\n",
       "      <td>3.670</td>\n",
       "      <td>3.72390</td>\n",
       "      <td>3.72390</td>\n",
       "      <td>above</td>\n",
       "      <td>below</td>\n",
       "    </tr>\n",
       "    <tr>\n",
       "      <th>10</th>\n",
       "      <td>2022-05-04</td>\n",
       "      <td>WWL.WA</td>\n",
       "      <td>465.00</td>\n",
       "      <td>473.000</td>\n",
       "      <td>472.66000</td>\n",
       "      <td>472.66000</td>\n",
       "      <td>below</td>\n",
       "      <td>above</td>\n",
       "    </tr>\n",
       "    <tr>\n",
       "      <th>11</th>\n",
       "      <td>2022-05-04</td>\n",
       "      <td>ZEP.WA</td>\n",
       "      <td>16.80</td>\n",
       "      <td>16.160</td>\n",
       "      <td>16.70880</td>\n",
       "      <td>16.70880</td>\n",
       "      <td>above</td>\n",
       "      <td>below</td>\n",
       "    </tr>\n",
       "  </tbody>\n",
       "</table>\n",
       "</div>"
      ],
      "text/plain": [
       "          Date  Ticker  Prev. Price  Curr. Price   Prev. MA   Curr. MA  \\\n",
       "0   2022-05-04  ASB.WA        12.41       13.390   12.45680   12.45680   \n",
       "1   2022-05-04  BFT.WA       602.00      590.000  590.10000  590.10000   \n",
       "2   2022-05-04  DAT.WA       173.70      176.200  173.98480  173.98480   \n",
       "3   2022-05-04  FMF.WA         2.80        2.766    2.78808    2.78808   \n",
       "4   2022-05-04  PEP.WA        68.80       66.500   67.67200   67.67200   \n",
       "5   2022-05-04  ABS.WA        41.80       41.300   41.56000   41.56000   \n",
       "6   2022-05-04  APR.WA        14.40       14.860   14.68440   14.68440   \n",
       "7   2022-05-04  MLS.WA        67.60       70.750   68.53000   68.53000   \n",
       "8   2022-05-04  PCF.WA        58.50       56.400   57.46920   57.46920   \n",
       "9   2022-05-04  VRG.WA         3.75        3.670    3.72390    3.72390   \n",
       "10  2022-05-04  WWL.WA       465.00      473.000  472.66000  472.66000   \n",
       "11  2022-05-04  ZEP.WA        16.80       16.160   16.70880   16.70880   \n",
       "\n",
       "   Prev. Position Curr. Position  \n",
       "0           below          above  \n",
       "1           above          below  \n",
       "2           below          above  \n",
       "3           above          below  \n",
       "4           above          below  \n",
       "5           above          below  \n",
       "6           below          above  \n",
       "7           below          above  \n",
       "8           above          below  \n",
       "9           above          below  \n",
       "10          below          above  \n",
       "11          above          below  "
      ]
     },
     "execution_count": 37,
     "metadata": {},
     "output_type": "execute_result"
    }
   ],
   "source": [
    "change_log_df"
   ]
  },
  {
   "cell_type": "markdown",
   "id": "ongoing-convenience",
   "metadata": {},
   "source": [
    "Sixth step - Save both log files."
   ]
  },
  {
   "cell_type": "code",
   "execution_count": 38,
   "id": "eleven-pierce",
   "metadata": {},
   "outputs": [],
   "source": [
    "price_ma_df.to_csv(f'MA_Cross_Data/WIG_price_ma{ma}_position.csv')\n",
    "change_log_df.to_csv(f'MA_Cross_Data/WIG_price_ma{ma}_change_log.csv')"
   ]
  },
  {
   "cell_type": "code",
   "execution_count": null,
   "id": "handed-designer",
   "metadata": {},
   "outputs": [],
   "source": []
  }
 ],
 "metadata": {
  "kernelspec": {
   "display_name": "Python 3",
   "language": "python",
   "name": "python3"
  },
  "language_info": {
   "codemirror_mode": {
    "name": "ipython",
    "version": 3
   },
   "file_extension": ".py",
   "mimetype": "text/x-python",
   "name": "python",
   "nbconvert_exporter": "python",
   "pygments_lexer": "ipython3",
   "version": "3.7.6"
  }
 },
 "nbformat": 4,
 "nbformat_minor": 5
}
