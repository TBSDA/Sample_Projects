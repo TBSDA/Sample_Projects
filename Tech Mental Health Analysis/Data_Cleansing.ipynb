{
 "cells": [
  {
   "cell_type": "markdown",
   "id": "institutional-virtue",
   "metadata": {},
   "source": [
    "# Mental Health in the Tech Industry Data Cleansing"
   ]
  },
  {
   "cell_type": "markdown",
   "id": "equipped-documentation",
   "metadata": {},
   "source": [
    "Source: https://www.kaggle.com/datasets/anth7310/mental-health-in-the-tech-industry"
   ]
  },
  {
   "cell_type": "markdown",
   "id": "competent-scale",
   "metadata": {},
   "source": [
    "Let's build the data cleaning class for further reference. In case of next year survey that can be used but before the data need to be review to check if some adaptations are required of course."
   ]
  },
  {
   "cell_type": "markdown",
   "id": "frank-handle",
   "metadata": {},
   "source": [
    "The supported questions are: 1, 2, 3, 4, 5, 6, 7, 8, 9, 12, 13, 22, 28, 30, 32, 33, 34, 48, 49, 50, 51, 54, 55, 56, 78, 79, 89, 93, 118"
   ]
  },
  {
   "cell_type": "code",
   "execution_count": 1,
   "id": "activated-irrigation",
   "metadata": {},
   "outputs": [],
   "source": [
    "import sqlite3\n",
    "import shutil"
   ]
  },
  {
   "cell_type": "code",
   "execution_count": 2,
   "id": "clinical-extra",
   "metadata": {},
   "outputs": [],
   "source": [
    "class SurveyCleaning:\n",
    "    ''' The class suppors data cleaning for the Mental Health in the Tech Industry Database \n",
    "        for the following questions: 1, 2, 3, 4, 5, 6, 7, 8, 9, 12, 13, 22, 28, 30, 32, 33, \n",
    "        34, 48, 49, 50, 51, 54, 55, 56, 78, 79, 89, 93, 118 \n",
    "        The changes are done directly on provided database so please make sure the backup is done.\n",
    "        The backup function can be used for that.\n",
    "        The path is the directory where the database is stored e.g. DB/ \n",
    "        The db_name is the database name'''\n",
    "    \n",
    "    def __init__(self, path, db_name):\n",
    "        self.path = path\n",
    "        self.db_name = db_name\n",
    "        self.supported_questions = [1, 2, 3, 4, 5, 6, 7, 8, 9, 12, 13, 22, 28, 30, 32, 33, \n",
    "        34, 48, 49, 50, 51, 54, 55, 56, 78, 79, 89, 93, 118]\n",
    "        \n",
    "    def backup(self):\n",
    "        ''' Create a backup for the database. '''\n",
    "        # Copy the contents (no metadata) of the file named src to a file named dst.\n",
    "        # https://docs.python.org/2/library/shutil.html\n",
    "        try:\n",
    "            shutil.copyfile(f'{self.path}{self.db_name}.sqlite', f'{self.path}{self.db_name}_backup.sqlite')\n",
    "            print(f'Backup saved successfully in {self.path} directory.')\n",
    "            print(f'Saved as {self.db_name}_backup.sqlite')\n",
    "        except:\n",
    "            raise\n",
    "    \n",
    "    def clear_all_at_once(self, questions_list):\n",
    "        ''' The cleaning is done according to Overview conclusions which are the following:\n",
    "            Update -1 --> 'n/a' for the questions: 2, 4, 5, 8, 9, 13, 28, 32, 34, 50, 51, 54, 55, 56, 78, 79, 89\n",
    "            Update 'DC' --> 'Washington' for question 4\n",
    "            Update female --> Female; MALE, I have a penis --> Male; Non binary, Nonbinary, non-binary --> Non-binary for question 2\n",
    "            Update -1, 43, \\- and all below quantity of five answers going to be 'Other' for question 2\n",
    "            Update Delete user with answers for these below 18 and above 100.\n",
    "            The questions_list is a list of the questions ids to be cleared.\n",
    "            The supported questions are 1, 2, 3, 4, 5, 6, 7, 8, 9, 12, 13, 22, 28, 30, 32, 33, \n",
    "            34, 48, 49, 50, 51, 54, 55, 56, 78, 79, 89, 93, 118. \n",
    "            To clean other please use dedicated functions. '''\n",
    "        \n",
    "        # verify if questions_list fits the self.supported_questions (supported questions)\n",
    "        self.verify_questions_list(questions_list)\n",
    "        \n",
    "        # -1 --> 'n/a'\n",
    "        questions_ids = [2, 4, 5, 8, 9, 13, 28, 32, 34, 50, 51, 54, 55, 56, 78, 79, 89]\n",
    "        supp_questions = self.get_question_from_supported(questions_ids, questions_list)\n",
    "        if supp_questions:\n",
    "            self.change_answer_value(supp_questions, '-1', 'n/a')\n",
    "            print(f'For following questions: {self.convert_list_to_string(supp_questions)}.')\n",
    "            print('\"-1\" has been changed to \"n/a\".')\n",
    "        \n",
    "        # 'DC' --> 'Washington'\n",
    "        questions_ids = [4]\n",
    "        supp_questions = self.get_question_from_supported(questions_ids, questions_list)\n",
    "        if supp_questions:\n",
    "            self.change_answer_value(supp_questions, 'DC', 'Washington')\n",
    "            print(f'For following questions: {self.convert_list_to_string(supp_questions)}.')\n",
    "            print('\"DC\" has been changed to \"Washington\".')\n",
    "            \n",
    "        # A couple changes for question 2\n",
    "        question_ids = [2]\n",
    "        supp_questions = self.get_question_from_supported(question_ids, questions_list)\n",
    "        if supp_questions:\n",
    "            \n",
    "            # Female, Male and Non binary adjustment\n",
    "            female = ['female']\n",
    "            male = ['MALE', 'I have a penis', 'male']\n",
    "            non_binary = ['Non binary', 'Nonbinary', 'non-binary']\n",
    "            self.change_answer_values(supp_questions, Female = female, Male = male, Non_binary = non_binary)\n",
    "            print(f'For following questions: {self.convert_list_to_string(supp_questions)}.')\n",
    "            print('\"female\" has been changed to \"Female\".')\n",
    "            print('\"MALE\", \"male\" and \"I have a penis\" has been changed to \"Male\".')\n",
    "            print('\"Non binary\", \"Nonbinary\" and \"non-binary\" has been changed to \"Non-binary\".')\n",
    "        \n",
    "            # all below quantity of five answers going to be Other\n",
    "            t_value = 'Other'\n",
    "            qty = 5\n",
    "            self.change_answer_for_qs_smaller(question_ids, t_value, qty)\n",
    "            print(f'''All answers with quantity below {qty} have been changed to \"{t_value}\".''')\n",
    "        \n",
    "            # delete users (with their answers) for these below 18 and above 100 years old\n",
    "            age_range = [18, 100] # delete below [0] and above [1]\n",
    "            self.delete_participant_out_of_age_range(age_range)\n",
    "            print(f'All users (with their answers) for these below {age_range[0]} and above {age_range[1]} years old have been deleted.')\n",
    "        \n",
    "        # 'Maybe' --> 'Possibly'\n",
    "        questions_ids = [32, 33]\n",
    "        supp_questions = self.get_question_from_supported(questions_ids, questions_list)\n",
    "        if supp_questions:\n",
    "            self.change_answer_value(supp_questions, 'Maybe', 'Possibly')\n",
    "            print(f'For following questions: {self.convert_list_to_string(supp_questions)}.')\n",
    "            print('\"Maybe\" has been changed to \"Possibly\".')\n",
    "    \n",
    "    def verify_questions_list(self, requested_questions):\n",
    "        supported_q_set = set(self.supported_questions)\n",
    "        requested_q_set = set(requested_questions)\n",
    "        not_supported = requested_q_set.difference(supported_q_set) # cannot be supported\n",
    "        supported = supported_q_set - supported_q_set.difference(requested_q_set) # can be supported\n",
    "        if not_supported:\n",
    "            print(f'The following questions cannot be supported: {self.convert_list_to_string(not_supported)} due to implementation limitation.')\n",
    "        if supported:\n",
    "            print(f'The following questions are supported: {self.convert_list_to_string(supported)}. Cleansing of these questions started. ')\n",
    "        else:\n",
    "            print(f'None of the {self.convert_list_to_string(requested_questions)} are supported')\n",
    "        \n",
    "    @staticmethod\n",
    "    def get_question_from_supported(supported, requested):\n",
    "        return list(set(supported) - set(supported).difference(set(requested)))\n",
    "    \n",
    "    @staticmethod\n",
    "    def convert_list_to_string(list_in):\n",
    "        return \", \".join(str(e) for e in list_in)\n",
    "    \n",
    "    def change_answer_value(self, q_ids, v1, v2):\n",
    "        ''' Update the answer value for the list of question provided in list.\n",
    "            v1 is a value which will be change.\n",
    "            v2 is a target value. '''\n",
    "        values_no = ('?, '*len(q_ids))[:-2]\n",
    "        conn = sqlite3.connect(f'{self.path}{self.db_name}.sqlite')\n",
    "        c = conn.cursor()\n",
    "        c.execute(f\"UPDATE Answer SET AnswerText = ? WHERE AnswerText = ? and QuestionID IN ({values_no})\", (v2, v1, *q_ids))\n",
    "        conn.commit()\n",
    "        conn.close()\n",
    "        \n",
    "    def change_answer_values(self, q_ids, **kwargs):\n",
    "        ''' Update the answer values for the list of question provided in list.\n",
    "            Can be use for mapping a couple answer values to another one value. '''\n",
    "        for key, values in kwargs.items():\n",
    "            target_value = key.replace('_','-')\n",
    "            for prev_value in values:\n",
    "                self.change_answer_value(q_ids, prev_value, target_value)\n",
    "    \n",
    "    def change_answer_for_qs_smaller(self, q_ids, t_value, qty):\n",
    "        ''' Change answer for provided questions q_ids to t_value where occurency is lower than qty. '''\n",
    "        for q_id in q_ids:\n",
    "            self.change_answer_for_q_smaller(q_id, t_value, qty)\n",
    "\n",
    "    def change_answer_for_q_smaller(self, q_id, t_value, qty):\n",
    "        ''' Change answer for provided question q_id to t_value where occurency is lower than qty. '''\n",
    "        conn = sqlite3.connect(f'{self.path}{self.db_name}.sqlite')\n",
    "        c = conn.cursor()\n",
    "        c.execute(f'SELECT AnswerText, count(UserID) as UNo FROM Answer WHERE QuestionID = ? GROUP BY AnswerText HAVING UNo > ?', \n",
    "                  (q_id, qty))\n",
    "        sel = c.fetchall()\n",
    "        sel = [k for k, _ in sel]\n",
    "        values_no = ('?, '*len(sel))[:-2]\n",
    "        c.execute(f'UPDATE Answer SET AnswerText = ? WHERE QuestionID = ? and AnswerText NOT IN ({values_no})', \n",
    "                  (t_value, q_id, *sel))\n",
    "        conn.commit()\n",
    "        conn.close()\n",
    "    \n",
    "    def delete_participant_out_of_age_range(self, age_range):\n",
    "        ''' Delete users with their answers which age is out of the provided range.\n",
    "            age_range is a list. The deletion is done below [0] and above [1]. '''\n",
    "        conn = sqlite3.connect(f'{self.path}{self.db_name}.sqlite')\n",
    "        c = conn.cursor()\n",
    "        c.execute(f\"DELETE FROM Answer WHERE QuestionID = 1 and (CAST(AnswerText AS INTEGER) < ? or CAST(AnswerText AS INTEGER) > ?)\", (age_range[0], age_range[1]))\n",
    "        conn.commit()\n",
    "        conn.close()\n",
    "        \n",
    "    def change_column_value(self, column, v1, v2):\n",
    "        ''' Change v1 value to v2 for particular column. '''\n",
    "        conn = sqlite3.connect(f'{self.path}{self.db_name}.sqlite')\n",
    "        c = conn.cursor()\n",
    "        c.execute(f\"UPDATE Answer SET {column} = ? WHERE {column} = ?\", (v2, v1))\n",
    "        conn.commit()\n",
    "        conn.close()"
   ]
  },
  {
   "cell_type": "code",
   "execution_count": 3,
   "id": "searching-johnson",
   "metadata": {},
   "outputs": [],
   "source": [
    "answer_cleansing = SurveyCleaning('DB/', 'mental_health')"
   ]
  },
  {
   "cell_type": "code",
   "execution_count": 31,
   "id": "sufficient-vietnam",
   "metadata": {},
   "outputs": [
    {
     "name": "stdout",
     "output_type": "stream",
     "text": [
      "Backup saved successfully in DB/ directory.\n",
      "Saved as mental_health_backup.sqlite\n"
     ]
    }
   ],
   "source": [
    "answer_cleansing.backup()"
   ]
  },
  {
   "cell_type": "code",
   "execution_count": 4,
   "id": "everyday-renaissance",
   "metadata": {},
   "outputs": [],
   "source": [
    "all_questions = [1, 2, 3, 4, 5, 6, 7, 8, 9, 12, 13, 22, 28, 30, 32, 33, \n",
    "        34, 48, 49, 50, 51, 54, 55, 56, 78, 79, 89, 93, 118]"
   ]
  },
  {
   "cell_type": "code",
   "execution_count": 5,
   "id": "another-friendly",
   "metadata": {},
   "outputs": [
    {
     "name": "stdout",
     "output_type": "stream",
     "text": [
      "The following questions are supported: 1, 2, 3, 4, 5, 6, 7, 8, 9, 12, 13, 78, 79, 22, 89, 28, 93, 30, 32, 33, 34, 48, 49, 50, 51, 54, 55, 56, 118. Cleansing of these questions started. \n",
      "For following questions: 2, 4, 5, 8, 9, 13, 78, 79, 89, 28, 32, 34, 50, 51, 54, 55, 56.\n",
      "\"-1\" has been changed to \"n/a\".\n",
      "For following questions: 4.\n",
      "\"DC\" has been changed to \"Washington\".\n",
      "For following questions: 2.\n",
      "\"female\" has been changed to \"Female\".\n",
      "\"MALE\", \"male\" and \"I have a penis\" has been changed to \"Male\".\n",
      "\"Non binary\", \"Nonbinary\" and \"non-binary\" has been changed to \"Non-binary\".\n",
      "All answers with quantity below 5 have been changed to \"Other\".\n",
      "All users (with their answers) for these below 18 and above 100 years old have been deleted.\n",
      "For following questions: 32, 33.\n",
      "\"Maybe\" has been changed to \"Possibly\".\n"
     ]
    }
   ],
   "source": [
    "answer_cleansing.clear_all_at_once(all_questions)"
   ]
  }
 ],
 "metadata": {
  "kernelspec": {
   "display_name": "Python 3",
   "language": "python",
   "name": "python3"
  },
  "language_info": {
   "codemirror_mode": {
    "name": "ipython",
    "version": 3
   },
   "file_extension": ".py",
   "mimetype": "text/x-python",
   "name": "python",
   "nbconvert_exporter": "python",
   "pygments_lexer": "ipython3",
   "version": "3.7.6"
  }
 },
 "nbformat": 4,
 "nbformat_minor": 5
}
