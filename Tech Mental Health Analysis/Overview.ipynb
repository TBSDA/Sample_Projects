{
 "cells": [
  {
   "cell_type": "markdown",
   "id": "vietnamese-anniversary",
   "metadata": {},
   "source": [
    "# Mental Health in the Tech Industry Overview"
   ]
  },
  {
   "cell_type": "markdown",
   "id": "brazilian-florence",
   "metadata": {},
   "source": [
    "Source: https://www.kaggle.com/datasets/anth7310/mental-health-in-the-tech-industry"
   ]
  },
  {
   "cell_type": "markdown",
   "id": "invalid-bradley",
   "metadata": {},
   "source": [
    "Let's go through the database to see what it is about and do some cleaning. Please treat it as a scratchpad. Remember to do the database backup before applying any changes."
   ]
  },
  {
   "cell_type": "code",
   "execution_count": 1,
   "id": "occupied-leonard",
   "metadata": {},
   "outputs": [],
   "source": [
    "import sqlite3"
   ]
  },
  {
   "cell_type": "markdown",
   "id": "earned-promise",
   "metadata": {},
   "source": [
    "Check the tables names in the database."
   ]
  },
  {
   "cell_type": "code",
   "execution_count": 2,
   "id": "backed-device",
   "metadata": {},
   "outputs": [],
   "source": [
    "def get_tables(db_name):\n",
    "    ''' Get tables names from the database. '''\n",
    "    conn = sqlite3.connect(f'DB/{db_name}.sqlite')\n",
    "    c = conn.cursor()\n",
    "    c.execute('SELECT name FROM sqlite_master WHERE type=\"table\"')\n",
    "    tables = c.fetchall()\n",
    "    conn.commit()\n",
    "    conn.close()\n",
    "    return tables"
   ]
  },
  {
   "cell_type": "code",
   "execution_count": 3,
   "id": "stretch-arthur",
   "metadata": {},
   "outputs": [
    {
     "data": {
      "text/plain": [
       "[('Answer',), ('Question',), ('Survey',)]"
      ]
     },
     "execution_count": 3,
     "metadata": {},
     "output_type": "execute_result"
    }
   ],
   "source": [
    "get_tables('mental_health')"
   ]
  },
  {
   "cell_type": "markdown",
   "id": "virgin-tennis",
   "metadata": {},
   "source": [
    "Check the tables' content."
   ]
  },
  {
   "cell_type": "code",
   "execution_count": 4,
   "id": "fitting-negotiation",
   "metadata": {},
   "outputs": [],
   "source": [
    "def get_columns(db_name, table):\n",
    "    ''' Get table columns names from the database. '''\n",
    "    conn = sqlite3.connect(f'DB/{db_name}.sqlite')\n",
    "    c = conn.cursor()\n",
    "    c.execute(f\"SELECT * FROM {table} LIMIT 1\")\n",
    "    cols = [x[0] for x in c.description]\n",
    "    conn.commit()\n",
    "    conn.close()\n",
    "    return cols"
   ]
  },
  {
   "cell_type": "code",
   "execution_count": 5,
   "id": "funny-background",
   "metadata": {},
   "outputs": [],
   "source": [
    "def get_table(db_name, table):\n",
    "    ''' Get table content from the database. '''\n",
    "    conn = sqlite3.connect(f'DB/{db_name}.sqlite')\n",
    "    c = conn.cursor()\n",
    "    c.execute(f\"SELECT * FROM {table}\")\n",
    "    table = c.fetchall()\n",
    "    conn.commit()\n",
    "    conn.close()\n",
    "    return table"
   ]
  },
  {
   "cell_type": "code",
   "execution_count": 6,
   "id": "adequate-implement",
   "metadata": {},
   "outputs": [
    {
     "data": {
      "text/plain": [
       "['AnswerText', 'SurveyID', 'UserID', 'QuestionID']"
      ]
     },
     "execution_count": 6,
     "metadata": {},
     "output_type": "execute_result"
    }
   ],
   "source": [
    "get_columns('mental_health', 'Answer')"
   ]
  },
  {
   "cell_type": "code",
   "execution_count": 7,
   "id": "pregnant-institution",
   "metadata": {},
   "outputs": [
    {
     "data": {
      "text/plain": [
       "[('37', 2014, 1, 1),\n",
       " ('44', 2014, 2, 1),\n",
       " ('32', 2014, 3, 1),\n",
       " ('31', 2014, 4, 1),\n",
       " ('31', 2014, 5, 1),\n",
       " ('33', 2014, 6, 1),\n",
       " ('35', 2014, 7, 1),\n",
       " ('39', 2014, 8, 1),\n",
       " ('42', 2014, 9, 1),\n",
       " ('23', 2014, 10, 1)]"
      ]
     },
     "execution_count": 7,
     "metadata": {},
     "output_type": "execute_result"
    }
   ],
   "source": [
    "get_table('mental_health', 'Answer')[:10]"
   ]
  },
  {
   "cell_type": "code",
   "execution_count": 8,
   "id": "yellow-timber",
   "metadata": {},
   "outputs": [
    {
     "data": {
      "text/plain": [
       "['questiontext', 'questionid']"
      ]
     },
     "execution_count": 8,
     "metadata": {},
     "output_type": "execute_result"
    }
   ],
   "source": [
    "get_columns('mental_health', 'Question')"
   ]
  },
  {
   "cell_type": "code",
   "execution_count": 14,
   "id": "aging-exclusion",
   "metadata": {},
   "outputs": [
    {
     "data": {
      "text/plain": [
       "[('What is your age?', 1),\n",
       " ('What is your gender?', 2),\n",
       " ('What country do you live in?', 3),\n",
       " ('If you live in the United States, which state or territory do you live in?',\n",
       "  4),\n",
       " ('Are you self-employed?', 5),\n",
       " ('Do you have a family history of mental illness?', 6),\n",
       " ('Have you ever sought treatment for a mental health disorder from a mental health professional?',\n",
       "  7),\n",
       " ('How many employees does your company or organization have?', 8),\n",
       " ('Is your employer primarily a tech company/organization?', 9),\n",
       " ('Does your employer provide mental health benefits as part of healthcare coverage?',\n",
       "  10),\n",
       " ('Is your anonymity protected if you choose to take advantage of mental health or substance abuse treatment resources provided by your employer?',\n",
       "  11),\n",
       " ('Would you bring up a mental health issue with a potential employer in an interview?',\n",
       "  12),\n",
       " ('Is your primary role within your company related to tech/IT?', 13),\n",
       " ('Do you know the options for mental health care available under your employer-provided health coverage?',\n",
       "  14),\n",
       " ('Has your employer ever formally discussed mental health (for example, as part of a wellness campaign or other official communication)?',\n",
       "  15),\n",
       " ('Does your employer offer resources to learn more about mental health disorders and options for seeking help?',\n",
       "  16),\n",
       " ('If a mental health issue prompted you to request a medical leave from work, how easy or difficult would it be to ask for that leave?',\n",
       "  17),\n",
       " ('Would you feel comfortable discussing a mental health issue with your coworkers?',\n",
       "  18),\n",
       " ('Would you feel comfortable discussing a mental health issue with your direct supervisor(s)?',\n",
       "  19),\n",
       " ('Do you have medical coverage (private insurance or state-provided) that includes treatment of mental health disorders?',\n",
       "  20),\n",
       " ('Do you know local or online resources to seek help for a mental health issue?',\n",
       "  21),\n",
       " ('Do you have previous employers?', 22),\n",
       " ('Have your previous employers provided mental health benefits?', 23),\n",
       " ('Were you aware of the options for mental health care provided by your previous employers?',\n",
       "  24),\n",
       " ('Did your previous employers ever formally discuss mental health (as part of a wellness campaign or other official communication)?',\n",
       "  25),\n",
       " ('Did your previous employers provide resources to learn more about mental health disorders and how to seek help?',\n",
       "  26),\n",
       " ('Was your anonymity protected if you chose to take advantage of mental health or substance abuse treatment resources with previous employers?',\n",
       "  27),\n",
       " ('Would you have been willing to discuss your mental health with your direct supervisor(s)?',\n",
       "  28),\n",
       " ('Would you be willing to bring up a physical health issue with a potential employer in an interview?',\n",
       "  29),\n",
       " ('How willing would you be to share with friends and family that you have a mental illness?',\n",
       "  30),\n",
       " ('Have your observations of how another individual who discussed a mental health disorder made you less likely to reveal a mental health issue yourself in your current workplace?',\n",
       "  31),\n",
       " ('Have you had a mental health disorder in the past?', 32),\n",
       " ('Do you currently have a mental health disorder?', 33),\n",
       " ('Have you ever been diagnosed with a mental health disorder?', 34),\n",
       " ('If you have a mental health disorder, how often do you feel that it interferes with your work when being treated effectively?',\n",
       "  48),\n",
       " ('If you have a mental health disorder, how often do you feel that it interferes with your work when not being treated effectively (i.e., when you are experiencing symptoms)?',\n",
       "  49),\n",
       " ('What country do you work in?', 50),\n",
       " ('What US state or territory do you work in?', 51),\n",
       " ('If you have been diagnosed or treated for a mental health disorder, do you ever reveal this to clients or business contacts?',\n",
       "  52),\n",
       " ('If you have been diagnosed or treated for a mental health disorder, do you ever reveal this to coworkers or employees?',\n",
       "  53),\n",
       " ('Do you believe your productivity is ever affected by a mental health issue?',\n",
       "  54),\n",
       " ('If yes, what percentage of your work time (time performing primary or secondary job functions) is affected by a mental health issue?',\n",
       "  55),\n",
       " ('Have you observed or experienced an unsupportive or badly handled response to a mental health issue in your current or previous workplace?',\n",
       "  56),\n",
       " ('Would you feel more comfortable talking to your coworkers about your physical health or your mental health?',\n",
       "  57),\n",
       " ('Have you ever discussed your mental health with your employer?', 58),\n",
       " ('Describe the conversation you had with your employer about your mental health, including their reactions and what actions were taken to address your mental health issue/questions.',\n",
       "  59),\n",
       " ('Have you ever discussed your mental health with coworkers?', 60),\n",
       " ('Describe the conversation with coworkers you had about your mental health including their reactions.',\n",
       "  61),\n",
       " (\"Have you ever had a coworker discuss their or another coworker's mental health with you?\",\n",
       "  62),\n",
       " ('Describe the conversation your coworker had with you about their mental health (please do not use names).',\n",
       "  63),\n",
       " ('Overall, how much importance does your employer place on physical health?',\n",
       "  64),\n",
       " ('Overall, how much importance does your employer place on mental health?',\n",
       "  65),\n",
       " ('If you have revealed a mental health disorder to a client or business contact, how has this affected you or the relationship?',\n",
       "  66),\n",
       " ('If you have revealed a mental health disorder to a coworker or employee, how has this impacted you or the relationship?',\n",
       "  67),\n",
       " ('Was your employer primarily a tech company/organization?', 68),\n",
       " ('Would you have felt more comfortable talking to your previous employer about your physical health or your mental health?',\n",
       "  69),\n",
       " ('Did you ever discuss your mental health with your previous employer?', 70),\n",
       " ('Describe the conversation you had with your previous employer about your mental health, including their reactions and actions taken to address your mental health issue/questions.',\n",
       "  71),\n",
       " ('Did you ever discuss your mental health with a previous coworker(s)?', 72),\n",
       " ('Describe the conversation you had with your previous coworkers about your mental health including their reactions.',\n",
       "  73),\n",
       " (\"Did you ever have a previous coworker discuss their or another coworker's mental health with you?\",\n",
       "  74),\n",
       " ('Describe the conversation your coworker had with you about their mental health (please do not use names)..1',\n",
       "  75),\n",
       " ('Overall, how much importance did your previous employer place on physical health?',\n",
       "  76),\n",
       " ('Overall, how much importance did your previous employer place on mental health?',\n",
       "  77),\n",
       " ('Are you openly identified at work as a person with a mental health issue?',\n",
       "  78),\n",
       " ('Has being identified as a person with a mental health issue affected your career?',\n",
       "  79),\n",
       " ('How has it affected your career?', 80),\n",
       " ('If they knew you suffered from a mental health disorder, how do you think that your team members/co-workers would react?',\n",
       "  81),\n",
       " ('Describe the circumstances of the badly handled or unsupportive response.',\n",
       "  82),\n",
       " ('Have you observed or experienced supportive or well handled response to a mental health issue in your current or previous workplace?',\n",
       "  83),\n",
       " ('Describe the circumstances of the supportive or well handled response.',\n",
       "  84),\n",
       " ('Overall, how well do you think the tech industry supports employees with mental health issues?',\n",
       "  85),\n",
       " ('Briefly describe what you think the industry as a whole and/or employers could do to improve mental health support for employees.',\n",
       "  86),\n",
       " ('If there is anything else you would like to tell us that has not been covered by the survey questions, please use this space to do so.',\n",
       "  87),\n",
       " ('Would you be willing to talk to one of us more extensively about your experiences with mental health issues in the tech industry? (Note that all interview responses would be used _anonymously_ and only with your permission.)',\n",
       "  88),\n",
       " ('What is your race?', 89),\n",
       " ('Do you think that discussing a physical health issue with your employer would have negative consequences?',\n",
       "  90),\n",
       " ('Do you feel that your employer takes mental health as seriously as physical health?',\n",
       "  91),\n",
       " ('If you have a mental health condition, do you feel that it interferes with your work?',\n",
       "  92),\n",
       " ('Do you work remotely (outside of an office) at least 50% of the time?', 93),\n",
       " ('Do you know the options for mental health care your employer provides?',\n",
       "  94),\n",
       " ('Has your employer ever discussed mental health as part of an employee wellness program?',\n",
       "  95),\n",
       " ('Does your employer provide resources to learn more about mental health issues and how to seek help?',\n",
       "  96),\n",
       " ('How easy is it for you to take medical leave for a mental health condition?',\n",
       "  97),\n",
       " ('Do you think that discussing a mental health issue with your employer would have negative consequences?',\n",
       "  98),\n",
       " ('Would you be willing to discuss a mental health issue with your coworkers?',\n",
       "  99),\n",
       " ('Would you be willing to discuss a mental health issue with your direct supervisor(s)?',\n",
       "  100),\n",
       " ('Would you bring up a physical health issue with a potential employer in an interview?',\n",
       "  101),\n",
       " ('Have you heard of or observed negative consequences for coworkers with mental health conditions in your workplace?',\n",
       "  102),\n",
       " ('Any additional notes or comments', 103),\n",
       " ('Do you think that discussing a mental health disorder with your employer would have negative consequences?',\n",
       "  104),\n",
       " ('Have you heard of or observed negative consequences for co-workers who have been open about mental health issues in your workplace?',\n",
       "  105),\n",
       " ('If you have revealed a mental health issue to a client or business contact, do you believe this has impacted you negatively?',\n",
       "  106),\n",
       " ('If you have revealed a mental health issue to a coworker or employee, do you believe this has impacted you negatively?',\n",
       "  107),\n",
       " ('Do you think that discussing a mental health disorder with previous employers would have negative consequences?',\n",
       "  108),\n",
       " ('Do you think that discussing a physical health issue with previous employers would have negative consequences?',\n",
       "  109),\n",
       " ('Would you have been willing to discuss a mental health issue with your previous co-workers?',\n",
       "  110),\n",
       " ('Did you feel that your previous employers took mental health as seriously as physical health?',\n",
       "  111),\n",
       " ('Did you hear of or observe negative consequences for co-workers with mental health issues in your previous workplaces?',\n",
       "  112),\n",
       " ('Do you feel that being identified as a person with a mental health issue would hurt your career?',\n",
       "  113),\n",
       " ('Do you think that team members/co-workers would view you more negatively if they knew you suffered from a mental health issue?',\n",
       "  114),\n",
       " ('If yes, what condition(s) have you been diagnosed with?', 115),\n",
       " ('If maybe, what condition(s) do you believe you have?', 116),\n",
       " ('Which of the following best describes your work position?', 117),\n",
       " ('Do you work remotely?', 118)]"
      ]
     },
     "execution_count": 14,
     "metadata": {},
     "output_type": "execute_result"
    }
   ],
   "source": [
    "get_table('mental_health', 'Question')"
   ]
  },
  {
   "cell_type": "code",
   "execution_count": 19,
   "id": "indian-series",
   "metadata": {},
   "outputs": [
    {
     "data": {
      "text/plain": [
       "['SurveyID', 'Description']"
      ]
     },
     "execution_count": 19,
     "metadata": {},
     "output_type": "execute_result"
    }
   ],
   "source": [
    "get_columns('mental_health', 'Survey')"
   ]
  },
  {
   "cell_type": "code",
   "execution_count": 15,
   "id": "daily-entrepreneur",
   "metadata": {},
   "outputs": [
    {
     "data": {
      "text/plain": [
       "[(2014, 'mental health survey for 2014'),\n",
       " (2016, 'mental health survey for 2016'),\n",
       " (2017, 'mental health survey for 2017'),\n",
       " (2018, 'mental health survey for 2018'),\n",
       " (2019, 'mental health survey for 2019')]"
      ]
     },
     "execution_count": 15,
     "metadata": {},
     "output_type": "execute_result"
    }
   ],
   "source": [
    "get_table('mental_health', 'Survey')"
   ]
  },
  {
   "cell_type": "markdown",
   "id": "indoor-creator",
   "metadata": {},
   "source": [
    "Let's limit the research to a few questions for this exercise (There is 118 questions!). "
   ]
  },
  {
   "cell_type": "code",
   "execution_count": 6,
   "id": "wanted-contents",
   "metadata": {},
   "outputs": [],
   "source": [
    "def get_all_answers_per_q(q_no):\n",
    "    ''' Get all answers from Answer table for particular question \n",
    "        represented by QuestionID number from the Question table. '''\n",
    "    conn = sqlite3.connect('DB/mental_health.sqlite')\n",
    "    c = conn.cursor()\n",
    "    c.execute(\"SELECT AnswerText FROM Answer WHERE QuestionID = ?\", (q_no,))\n",
    "    answers = set(c.fetchall())\n",
    "    conn.commit()\n",
    "    conn.close()\n",
    "    return answers"
   ]
  },
  {
   "cell_type": "code",
   "execution_count": 32,
   "id": "constitutional-closing",
   "metadata": {},
   "outputs": [
    {
     "data": {
      "text/plain": [
       "{('-1',),\n",
       " ('Afghanistan',),\n",
       " ('Algeria',),\n",
       " ('Argentina',),\n",
       " ('Australia',),\n",
       " ('Austria',),\n",
       " ('Bahamas, The',),\n",
       " ('Bangladesh',),\n",
       " ('Belarus',),\n",
       " ('Belgium',),\n",
       " ('Bosnia and Herzegovina',),\n",
       " ('Brazil',),\n",
       " ('Brunei',),\n",
       " ('Bulgaria',),\n",
       " ('Canada',),\n",
       " ('Chile',),\n",
       " ('China',),\n",
       " ('Colombia',),\n",
       " ('Costa Rica',),\n",
       " ('Croatia',),\n",
       " ('Czech Republic',),\n",
       " ('Denmark',),\n",
       " ('Ecuador',),\n",
       " ('Estonia',),\n",
       " ('Ethiopia',),\n",
       " ('Finland',),\n",
       " ('France',),\n",
       " ('Georgia',),\n",
       " ('Germany',),\n",
       " ('Ghana',),\n",
       " ('Greece',),\n",
       " ('Guatemala',),\n",
       " ('Hong Kong',),\n",
       " ('Hungary',),\n",
       " ('Iceland',),\n",
       " ('India',),\n",
       " ('Indonesia',),\n",
       " ('Iran',),\n",
       " ('Ireland',),\n",
       " ('Israel',),\n",
       " ('Italy',),\n",
       " ('Japan',),\n",
       " ('Jordan',),\n",
       " ('Kenya',),\n",
       " ('Latvia',),\n",
       " ('Lithuania',),\n",
       " ('Macedonia',),\n",
       " ('Mauritius',),\n",
       " ('Mexico',),\n",
       " ('Moldova',),\n",
       " ('Netherlands',),\n",
       " ('New Zealand',),\n",
       " ('Nigeria',),\n",
       " ('Norway',),\n",
       " ('Other',),\n",
       " ('Pakistan',),\n",
       " ('Philippines',),\n",
       " ('Poland',),\n",
       " ('Portugal',),\n",
       " ('Romania',),\n",
       " ('Russia',),\n",
       " ('Saudi Arabia',),\n",
       " ('Serbia',),\n",
       " ('Singapore',),\n",
       " ('Slovakia',),\n",
       " ('Slovenia',),\n",
       " ('South Africa',),\n",
       " ('Spain',),\n",
       " ('Sweden',),\n",
       " ('Switzerland',),\n",
       " ('Taiwan',),\n",
       " ('Thailand',),\n",
       " ('Turkey',),\n",
       " ('Ukraine',),\n",
       " ('United Kingdom',),\n",
       " ('United States',),\n",
       " ('United States of America',),\n",
       " ('Uruguay',),\n",
       " ('Venezuela',),\n",
       " ('Vietnam',),\n",
       " ('Zimbabwe',)}"
      ]
     },
     "execution_count": 32,
     "metadata": {},
     "output_type": "execute_result"
    }
   ],
   "source": [
    "get_all_answers_per_q(3)"
   ]
  },
  {
   "cell_type": "markdown",
   "id": "organic-irrigation",
   "metadata": {},
   "source": [
    "How many survey participants there are for particular country? "
   ]
  },
  {
   "cell_type": "code",
   "execution_count": 7,
   "id": "effective-banner",
   "metadata": {},
   "outputs": [],
   "source": [
    "def get_users_no_for_q_and_answer(q_no, answer):\n",
    "    ''' Get number of users from Answer table for particular question number (QuestionID) and answer (AnswerText). '''\n",
    "    conn = sqlite3.connect('DB/mental_health.sqlite')\n",
    "    c = conn.cursor()\n",
    "    c.execute(\"SELECT UserID FROM Answer WHERE QuestionID = ? and AnswerText = ?\", (q_no, answer))\n",
    "    user_no = len(c.fetchall())\n",
    "    conn.commit()\n",
    "    conn.close()\n",
    "    return user_no"
   ]
  },
  {
   "cell_type": "code",
   "execution_count": 36,
   "id": "stuffed-health",
   "metadata": {},
   "outputs": [
    {
     "data": {
      "text/plain": [
       "21"
      ]
     },
     "execution_count": 36,
     "metadata": {},
     "output_type": "execute_result"
    }
   ],
   "source": [
    "get_users_no_for_q_and_answer(3, 'Poland')"
   ]
  },
  {
   "cell_type": "markdown",
   "id": "average-cabinet",
   "metadata": {},
   "source": [
    "Let's check the numbers of participants per country to find some better example."
   ]
  },
  {
   "cell_type": "code",
   "execution_count": 2,
   "id": "numerical-classic",
   "metadata": {},
   "outputs": [],
   "source": [
    "def get_users_no_per_answer(q_no):\n",
    "    ''' Get number of users from Answer table for particular question number (QuestionID) grouped by answer. '''\n",
    "    conn = sqlite3.connect('DB/mental_health.sqlite')\n",
    "    c = conn.cursor()\n",
    "    c.execute(\"SELECT AnswerText, count(UserID) FROM Answer WHERE QuestionID = ? GROUP BY AnswerText\", (q_no,))\n",
    "    user_no = c.fetchall()\n",
    "    conn.commit()\n",
    "    conn.close()\n",
    "    return user_no"
   ]
  },
  {
   "cell_type": "code",
   "execution_count": 47,
   "id": "essential-involvement",
   "metadata": {},
   "outputs": [
    {
     "data": {
      "text/plain": [
       "[('-1', 2),\n",
       " ('Afghanistan', 3),\n",
       " ('Algeria', 2),\n",
       " ('Argentina', 4),\n",
       " ('Australia', 73),\n",
       " ('Austria', 10),\n",
       " ('Bahamas, The', 1),\n",
       " ('Bangladesh', 3),\n",
       " ('Belarus', 1),\n",
       " ('Belgium', 17),\n",
       " ('Bosnia and Herzegovina', 3),\n",
       " ('Brazil', 37),\n",
       " ('Brunei', 1),\n",
       " ('Bulgaria', 13),\n",
       " ('Canada', 199),\n",
       " ('Chile', 3),\n",
       " ('China', 2),\n",
       " ('Colombia', 6),\n",
       " ('Costa Rica', 2),\n",
       " ('Croatia', 4),\n",
       " ('Czech Republic', 6),\n",
       " ('Denmark', 9),\n",
       " ('Ecuador', 1),\n",
       " ('Estonia', 5),\n",
       " ('Ethiopia', 1),\n",
       " ('Finland', 13),\n",
       " ('France', 51),\n",
       " ('Georgia', 2),\n",
       " ('Germany', 136),\n",
       " ('Ghana', 1),\n",
       " ('Greece', 7),\n",
       " ('Guatemala', 1),\n",
       " ('Hong Kong', 2),\n",
       " ('Hungary', 4),\n",
       " ('Iceland', 2),\n",
       " ('India', 50),\n",
       " ('Indonesia', 3),\n",
       " ('Iran', 1),\n",
       " ('Ireland', 51),\n",
       " ('Israel', 9),\n",
       " ('Italy', 19),\n",
       " ('Japan', 9),\n",
       " ('Jordan', 1),\n",
       " ('Kenya', 1),\n",
       " ('Latvia', 2),\n",
       " ('Lithuania', 2),\n",
       " ('Macedonia', 1),\n",
       " ('Mauritius', 1),\n",
       " ('Mexico', 12),\n",
       " ('Moldova', 1),\n",
       " ('Netherlands', 98),\n",
       " ('New Zealand', 24),\n",
       " ('Nigeria', 2),\n",
       " ('Norway', 12),\n",
       " ('Other', 2),\n",
       " ('Pakistan', 7),\n",
       " ('Philippines', 1),\n",
       " ('Poland', 21),\n",
       " ('Portugal', 23),\n",
       " ('Romania', 9),\n",
       " ('Russia', 16),\n",
       " ('Saudi Arabia', 1),\n",
       " ('Serbia', 4),\n",
       " ('Singapore', 5),\n",
       " ('Slovakia', 2),\n",
       " ('Slovenia', 1),\n",
       " ('South Africa', 16),\n",
       " ('Spain', 26),\n",
       " ('Sweden', 29),\n",
       " ('Switzerland', 28),\n",
       " ('Taiwan', 1),\n",
       " ('Thailand', 1),\n",
       " ('Turkey', 5),\n",
       " ('Ukraine', 3),\n",
       " ('United Kingdom', 482),\n",
       " ('United States', 751),\n",
       " ('United States of America', 1853),\n",
       " ('Uruguay', 2),\n",
       " ('Venezuela', 1),\n",
       " ('Vietnam', 1),\n",
       " ('Zimbabwe', 1)]"
      ]
     },
     "execution_count": 47,
     "metadata": {},
     "output_type": "execute_result"
    }
   ],
   "source": [
    "get_users_no_per_answer(3)"
   ]
  },
  {
   "cell_type": "markdown",
   "id": "composite-prediction",
   "metadata": {},
   "source": [
    "There are two names 'United States' and 'United States of America' for USA. The 'United States' will be replaced by 'United States of America'."
   ]
  },
  {
   "cell_type": "code",
   "execution_count": 9,
   "id": "incomplete-gather",
   "metadata": {},
   "outputs": [],
   "source": [
    "def change_table_value(db_name, table, column, v1, v2):\n",
    "    ''' Change v1 from table in db_name database to v2. '''\n",
    "    conn = sqlite3.connect(f'DB/{db_name}.sqlite')\n",
    "    c = conn.cursor()\n",
    "    c.execute(f\"UPDATE {table} SET {column} = ? WHERE {column} = ?\", (v2, v1))\n",
    "    conn.commit()\n",
    "    conn.close()"
   ]
  },
  {
   "cell_type": "code",
   "execution_count": 52,
   "id": "pediatric-smart",
   "metadata": {},
   "outputs": [],
   "source": [
    "change_table_value('mental_health', 'Answer', 'AnswerText', 'United States', 'United States of America')"
   ]
  },
  {
   "cell_type": "markdown",
   "id": "advised-leeds",
   "metadata": {},
   "source": [
    "Verify the change."
   ]
  },
  {
   "cell_type": "code",
   "execution_count": 53,
   "id": "elementary-small",
   "metadata": {},
   "outputs": [
    {
     "data": {
      "text/plain": [
       "[('-1', 2),\n",
       " ('Afghanistan', 3),\n",
       " ('Algeria', 2),\n",
       " ('Argentina', 4),\n",
       " ('Australia', 73),\n",
       " ('Austria', 10),\n",
       " ('Bahamas, The', 1),\n",
       " ('Bangladesh', 3),\n",
       " ('Belarus', 1),\n",
       " ('Belgium', 17),\n",
       " ('Bosnia and Herzegovina', 3),\n",
       " ('Brazil', 37),\n",
       " ('Brunei', 1),\n",
       " ('Bulgaria', 13),\n",
       " ('Canada', 199),\n",
       " ('Chile', 3),\n",
       " ('China', 2),\n",
       " ('Colombia', 6),\n",
       " ('Costa Rica', 2),\n",
       " ('Croatia', 4),\n",
       " ('Czech Republic', 6),\n",
       " ('Denmark', 9),\n",
       " ('Ecuador', 1),\n",
       " ('Estonia', 5),\n",
       " ('Ethiopia', 1),\n",
       " ('Finland', 13),\n",
       " ('France', 51),\n",
       " ('Georgia', 2),\n",
       " ('Germany', 136),\n",
       " ('Ghana', 1),\n",
       " ('Greece', 7),\n",
       " ('Guatemala', 1),\n",
       " ('Hong Kong', 2),\n",
       " ('Hungary', 4),\n",
       " ('Iceland', 2),\n",
       " ('India', 50),\n",
       " ('Indonesia', 3),\n",
       " ('Iran', 1),\n",
       " ('Ireland', 51),\n",
       " ('Israel', 9),\n",
       " ('Italy', 19),\n",
       " ('Japan', 9),\n",
       " ('Jordan', 1),\n",
       " ('Kenya', 1),\n",
       " ('Latvia', 2),\n",
       " ('Lithuania', 2),\n",
       " ('Macedonia', 1),\n",
       " ('Mauritius', 1),\n",
       " ('Mexico', 12),\n",
       " ('Moldova', 1),\n",
       " ('Netherlands', 98),\n",
       " ('New Zealand', 24),\n",
       " ('Nigeria', 2),\n",
       " ('Norway', 12),\n",
       " ('Other', 2),\n",
       " ('Pakistan', 7),\n",
       " ('Philippines', 1),\n",
       " ('Poland', 21),\n",
       " ('Portugal', 23),\n",
       " ('Romania', 9),\n",
       " ('Russia', 16),\n",
       " ('Saudi Arabia', 1),\n",
       " ('Serbia', 4),\n",
       " ('Singapore', 5),\n",
       " ('Slovakia', 2),\n",
       " ('Slovenia', 1),\n",
       " ('South Africa', 16),\n",
       " ('Spain', 26),\n",
       " ('Sweden', 29),\n",
       " ('Switzerland', 28),\n",
       " ('Taiwan', 1),\n",
       " ('Thailand', 1),\n",
       " ('Turkey', 5),\n",
       " ('Ukraine', 3),\n",
       " ('United Kingdom', 482),\n",
       " ('United States of America', 2604),\n",
       " ('Uruguay', 2),\n",
       " ('Venezuela', 1),\n",
       " ('Vietnam', 1),\n",
       " ('Zimbabwe', 1)]"
      ]
     },
     "execution_count": 53,
     "metadata": {},
     "output_type": "execute_result"
    }
   ],
   "source": [
    "get_users_no_per_answer(3)"
   ]
  },
  {
   "cell_type": "markdown",
   "id": "rotary-diagnosis",
   "metadata": {},
   "source": [
    "Let's choose a couple question and review them. "
   ]
  },
  {
   "cell_type": "code",
   "execution_count": null,
   "id": "serious-performance",
   "metadata": {},
   "outputs": [],
   "source": [
    "# Ok, \"a couple\" is a wrong statement. Perhaps some of them will be eliminated during the process.\n",
    "# q_no (29): 1, 2, 3, 4, 5, 6, 7, 8, 9, 12, 13, 22, 28, 30, 32, 33, 34, 48, 49, 50, 51, 54, 55, 56, 78, 79, 89, 93, 118\n",
    "\n",
    "# ('What is your age?', 1),\n",
    "# ('What is your gender?', 2),\n",
    "# ('What country do you live in?', 3),\n",
    "# ('If you live in the United States, which state or territory do you live in?', 4),\n",
    "# ('Are you self-employed?', 5),\n",
    "# ('Do you have a family history of mental illness?', 6),\n",
    "# ('Have you ever sought treatment for a mental health disorder from a mental health professional?', 7),\n",
    "# ('How many employees does your company or organization have?', 8),\n",
    "# ('Is your employer primarily a tech company/organization?', 9),\n",
    "# ('Would you bring up a mental health issue with a potential employer in an interview?', 12),\n",
    "# ('Is your primary role within your company related to tech/IT?', 13),\n",
    "# ('Do you have previous employers?', 22),\n",
    "# ('Would you have been willing to discuss your mental health with your direct supervisor(s)?', 28),\n",
    "# ('How willing would you be to share with friends and family that you have a mental illness?', 30),\n",
    "# ('Have you had a mental health disorder in the past?', 32),\n",
    "# ('Do you currently have a mental health disorder?', 33),\n",
    "# ('Have you ever been diagnosed with a mental health disorder?', 34),\n",
    "# ('If you have a mental health disorder, how often do you feel that it interferes with your work when being treated effectively?', 48),\n",
    "# ('If you have a mental health disorder, how often do you feel that it interferes with your work when not being treated effectively (i.e., when you are experiencing symptoms)?', 49),\n",
    "# ('What country do you work in?', 50),\n",
    "# ('What US state or territory do you work in?', 51),\n",
    "# ('Do you believe your productivity is ever affected by a mental health issue?', 54),\n",
    "# ('If yes, what percentage of your work time (time performing primary or secondary job functions) is affected by a mental health issue?', 55),\n",
    "# ('Have you observed or experienced an unsupportive or badly handled response to a mental health issue in your current or previous workplace?', 56),\n",
    "# ('Are you openly identified at work as a person with a mental health issue?', 78),\n",
    "# ('Has being identified as a person with a mental health issue affected your career?', 79),\n",
    "# ('What is your race?', 89),\n",
    "# ('Do you work remotely (outside of an office) at least 50% of the time?', 93),\n",
    "# ('Do you work remotely?', 118)"
   ]
  },
  {
   "cell_type": "markdown",
   "id": "excited-egypt",
   "metadata": {},
   "source": [
    "Check the answer for all questions one by one."
   ]
  },
  {
   "cell_type": "code",
   "execution_count": 54,
   "id": "moderate-triangle",
   "metadata": {},
   "outputs": [
    {
     "data": {
      "text/plain": [
       "[('-1', 5),\n",
       " ('-29', 1),\n",
       " ('0', 1),\n",
       " ('11', 1),\n",
       " ('15', 1),\n",
       " ('17', 1),\n",
       " ('18', 9),\n",
       " ('19', 20),\n",
       " ('20', 17),\n",
       " ('21', 39),\n",
       " ('22', 74),\n",
       " ('23', 107),\n",
       " ('24', 128),\n",
       " ('25', 147),\n",
       " ('26', 194),\n",
       " ('27', 197),\n",
       " ('28', 220),\n",
       " ('29', 229),\n",
       " ('3', 1),\n",
       " ('30', 250),\n",
       " ('31', 223),\n",
       " ('32', 227),\n",
       " ('323', 1),\n",
       " ('329', 1),\n",
       " ('33', 201),\n",
       " ('34', 202),\n",
       " ('35', 201),\n",
       " ('36', 147),\n",
       " ('37', 184),\n",
       " ('38', 160),\n",
       " ('39', 137),\n",
       " ('40', 122),\n",
       " ('41', 88),\n",
       " ('42', 100),\n",
       " ('43', 82),\n",
       " ('44', 68),\n",
       " ('45', 74),\n",
       " ('46', 58),\n",
       " ('47', 38),\n",
       " ('48', 29),\n",
       " ('49', 36),\n",
       " ('5', 1),\n",
       " ('50', 30),\n",
       " ('51', 22),\n",
       " ('52', 17),\n",
       " ('53', 15),\n",
       " ('54', 17),\n",
       " ('55', 22),\n",
       " ('56', 13),\n",
       " ('57', 14),\n",
       " ('58', 5),\n",
       " ('59', 6),\n",
       " ('60', 5),\n",
       " ('61', 7),\n",
       " ('62', 3),\n",
       " ('63', 5),\n",
       " ('64', 3),\n",
       " ('65', 3),\n",
       " ('66', 2),\n",
       " ('67', 2),\n",
       " ('70', 1),\n",
       " ('72', 1),\n",
       " ('74', 1),\n",
       " ('8', 1),\n",
       " ('99', 1)]"
      ]
     },
     "execution_count": 54,
     "metadata": {},
     "output_type": "execute_result"
    }
   ],
   "source": [
    "get_users_no_per_answer(1)"
   ]
  },
  {
   "cell_type": "markdown",
   "id": "ordered-metro",
   "metadata": {},
   "source": [
    "Let's delete users younger than 18 and older than 100. It is hard to believe that someone 99 years old is still working, but could be. If that is true - respect sir! "
   ]
  },
  {
   "cell_type": "markdown",
   "id": "sunset-custody",
   "metadata": {},
   "source": [
    "Wait a moment. Should be deleted only the answers for this question or whole user with all answers? To not lose too much data let's proceed with the checks and then decide. Deletion of user with all answer can be harsh for dataset. Deleting only particular answer can lead to inconsistency in data. Perhaps changing these answer to 'n/a' be a better solution?"
   ]
  },
  {
   "cell_type": "code",
   "execution_count": 55,
   "id": "acquired-baker",
   "metadata": {},
   "outputs": [
    {
     "data": {
      "text/plain": [
       "[('-1', 24),\n",
       " ('43', 1),\n",
       " ('A little about you', 1),\n",
       " ('AFAB', 1),\n",
       " ('Agender', 4),\n",
       " ('Agender trans woman', 1),\n",
       " ('Agender/genderfluid', 1),\n",
       " ('All', 1),\n",
       " ('Androgyne', 1),\n",
       " ('Androgynous', 1),\n",
       " ('Bigender', 1),\n",
       " ('Cishet male', 1),\n",
       " ('Contextual', 1),\n",
       " ('Demiguy', 1),\n",
       " ('Enby', 2),\n",
       " ('Female', 914),\n",
       " ('Female (trans)', 2),\n",
       " ('Female assigned at birth', 1),\n",
       " ('Female or Multi-Gender Femme', 1),\n",
       " ('Female-identified', 1),\n",
       " ('Female-ish', 1),\n",
       " ('Female/gender non-binary.', 1),\n",
       " ('Fluid', 1),\n",
       " ('Genderfluid', 3),\n",
       " ('Genderfluid (born female)', 1),\n",
       " ('Genderflux demi-girl', 1),\n",
       " ('Genderqueer', 4),\n",
       " ('Genderqueer demigirl', 1),\n",
       " ('Genderqueer/non-binary', 1),\n",
       " ('God King of the Valajar', 1),\n",
       " ('Guy (-ish) ^_^', 1),\n",
       " ('Human', 1),\n",
       " ('I am a Wookie', 1),\n",
       " ('I have a penis', 1),\n",
       " ('MALE', 1),\n",
       " ('Male', 2830),\n",
       " ('Male (or female, or both)', 1),\n",
       " ('Male (trans, FtM)', 1),\n",
       " ('Male-ish', 2),\n",
       " ('Male/genderqueer', 1),\n",
       " ('Masculine', 1),\n",
       " ('NB', 1),\n",
       " ('Nah', 1),\n",
       " ('Neuter', 1),\n",
       " ('Non binary', 2),\n",
       " ('Non-binary', 3),\n",
       " ('Non-binary and gender fluid', 1),\n",
       " ('Nonbinary', 8),\n",
       " ('Nonbinary/femme', 1),\n",
       " ('None', 3),\n",
       " ('Ostensibly Male', 1),\n",
       " ('Other', 2),\n",
       " ('Other/Transfeminine', 1),\n",
       " ('Queer', 1),\n",
       " ('Questioning', 1),\n",
       " ('SWM', 1),\n",
       " ('She/her/they/them', 1),\n",
       " ('Trans female', 1),\n",
       " ('Trans man', 2),\n",
       " ('Trans non-binary/genderfluid', 1),\n",
       " ('Trans woman', 2),\n",
       " ('Trans-female', 1),\n",
       " ('Transfeminine', 1),\n",
       " ('Transgender woman', 1),\n",
       " ('Transitioned, M2F', 1),\n",
       " ('Unicorn', 1),\n",
       " ('Woman-identified', 1),\n",
       " ('\\\\-', 1),\n",
       " ('agender', 2),\n",
       " ('female', 110),\n",
       " ('female-bodied; no feelings about gender', 1),\n",
       " ('femmina', 1),\n",
       " ('fluid', 1),\n",
       " ('fm', 1),\n",
       " ('gender non-conforming woman', 1),\n",
       " ('genderfluid', 1),\n",
       " ('genderqueer', 1),\n",
       " ('genderqueer woman', 1),\n",
       " ('human', 1),\n",
       " ('male', 212),\n",
       " ('male 9:1 female, roughly', 1),\n",
       " ('male leaning androgynous', 1),\n",
       " ('male/androgynous', 1),\n",
       " ('masculino', 1),\n",
       " ('mtf', 1),\n",
       " ('nb masculine', 1),\n",
       " ('non binary', 1),\n",
       " ('non-binary', 6),\n",
       " ('nonbinary', 1),\n",
       " ('none', 1),\n",
       " ('none of your business', 1),\n",
       " ('ostensibly male, unsure what that really means', 1),\n",
       " ('p', 1),\n",
       " ('queer', 1),\n",
       " ('queer/she/they', 1),\n",
       " ('rr', 1),\n",
       " ('something kinda male?', 1),\n",
       " ('sometimes', 1),\n",
       " ('trans woman', 1),\n",
       " ('transgender', 1),\n",
       " ('uhhhhhhhhh fem genderqueer?', 1)]"
      ]
     },
     "execution_count": 55,
     "metadata": {},
     "output_type": "execute_result"
    }
   ],
   "source": [
    "get_users_no_per_answer(2)"
   ]
  },
  {
   "cell_type": "markdown",
   "id": "otherwise-insulin",
   "metadata": {},
   "source": [
    "-1, 43, \\\\- and all below quantity of five answers going to be Other. However before that some answers have to be combined. "
   ]
  },
  {
   "cell_type": "code",
   "execution_count": null,
   "id": "violent-longer",
   "metadata": {},
   "outputs": [],
   "source": [
    "# Female <-- female\n",
    "# Male <-- MALE, I have a penis\n",
    "# Non-binary <-- Non binary, Nonbinary"
   ]
  },
  {
   "cell_type": "code",
   "execution_count": 56,
   "id": "explicit-practice",
   "metadata": {},
   "outputs": [
    {
     "data": {
      "text/plain": [
       "[('-1', 1622),\n",
       " ('Alabama', 19),\n",
       " ('Alaska', 4),\n",
       " ('Arizona', 19),\n",
       " ('California', 382),\n",
       " ('Colorado', 60),\n",
       " ('Connecticut', 13),\n",
       " ('DC', 4),\n",
       " ('Delaware', 1),\n",
       " ('District of Columbia', 7),\n",
       " ('Florida', 52),\n",
       " ('Georgia', 49),\n",
       " ('Idaho', 8),\n",
       " ('Illinois', 223),\n",
       " ('Indiana', 96),\n",
       " ('Iowa', 18),\n",
       " ('Kansas', 27),\n",
       " ('Kentucky', 14),\n",
       " ('Louisiana', 7),\n",
       " ('Maine', 9),\n",
       " ('Maryland', 42),\n",
       " ('Massachusetts', 76),\n",
       " ('Michigan', 108),\n",
       " ('Minnesota', 101),\n",
       " ('Mississippi', 1),\n",
       " ('Missouri', 42),\n",
       " ('Montana', 2),\n",
       " ('Nebraska', 61),\n",
       " ('Nevada', 9),\n",
       " ('New Hampshire', 15),\n",
       " ('New Jersey', 27),\n",
       " ('New Mexico', 9),\n",
       " ('New York', 146),\n",
       " ('North Carolina', 51),\n",
       " ('North Dakota', 7),\n",
       " ('Ohio', 109),\n",
       " ('Oklahoma', 20),\n",
       " ('Oregon', 99),\n",
       " ('Pennsylvania', 94),\n",
       " ('Rhode Island', 6),\n",
       " ('South Carolina', 10),\n",
       " ('South Dakota', 8),\n",
       " ('Tennessee', 121),\n",
       " ('Texas', 119),\n",
       " ('Utah', 29),\n",
       " ('Vermont', 9),\n",
       " ('Virginia', 46),\n",
       " ('Washington', 168),\n",
       " ('West Virginia', 3),\n",
       " ('Wisconsin', 43),\n",
       " ('Wyoming', 3)]"
      ]
     },
     "execution_count": 56,
     "metadata": {},
     "output_type": "execute_result"
    }
   ],
   "source": [
    "get_users_no_per_answer(4)"
   ]
  },
  {
   "cell_type": "markdown",
   "id": "blank-receiver",
   "metadata": {},
   "source": [
    "-1 --> 'n/a' and DC --> Washington"
   ]
  },
  {
   "cell_type": "code",
   "execution_count": 57,
   "id": "daily-dollar",
   "metadata": {},
   "outputs": [
    {
     "data": {
      "text/plain": [
       "[('-1', 18), ('0', 3550), ('1', 650)]"
      ]
     },
     "execution_count": 57,
     "metadata": {},
     "output_type": "execute_result"
    }
   ],
   "source": [
    "get_users_no_per_answer(5)"
   ]
  },
  {
   "cell_type": "markdown",
   "id": "elect-philippines",
   "metadata": {},
   "source": [
    "-1 --> 'n/a'"
   ]
  },
  {
   "cell_type": "code",
   "execution_count": 58,
   "id": "mighty-montana",
   "metadata": {},
   "outputs": [
    {
     "data": {
      "text/plain": [
       "[(\"I don't know\", 649), ('No', 1701), ('Yes', 1868)]"
      ]
     },
     "execution_count": 58,
     "metadata": {},
     "output_type": "execute_result"
    }
   ],
   "source": [
    "get_users_no_per_answer(6)"
   ]
  },
  {
   "cell_type": "code",
   "execution_count": 59,
   "id": "suffering-pharmacology",
   "metadata": {},
   "outputs": [
    {
     "data": {
      "text/plain": [
       "[('0', 1806), ('1', 2412)]"
      ]
     },
     "execution_count": 59,
     "metadata": {},
     "output_type": "execute_result"
    }
   ],
   "source": [
    "get_users_no_per_answer(7)"
   ]
  },
  {
   "cell_type": "code",
   "execution_count": 60,
   "id": "cloudy-smith",
   "metadata": {},
   "outputs": [
    {
     "data": {
      "text/plain": [
       "[('-1', 504),\n",
       " ('1-5', 254),\n",
       " ('100-500', 788),\n",
       " ('26-100', 824),\n",
       " ('500-1000', 247),\n",
       " ('6-25', 689),\n",
       " ('More than 1000', 912)]"
      ]
     },
     "execution_count": 60,
     "metadata": {},
     "output_type": "execute_result"
    }
   ],
   "source": [
    "get_users_no_per_answer(8)"
   ]
  },
  {
   "cell_type": "markdown",
   "id": "lonely-spelling",
   "metadata": {},
   "source": [
    "-1 --> 'n/a'"
   ]
  },
  {
   "cell_type": "code",
   "execution_count": 61,
   "id": "palestinian-textbook",
   "metadata": {},
   "outputs": [
    {
     "data": {
      "text/plain": [
       "[('-1', 504), ('0', 826), ('1', 2888)]"
      ]
     },
     "execution_count": 61,
     "metadata": {},
     "output_type": "execute_result"
    }
   ],
   "source": [
    "get_users_no_per_answer(9)"
   ]
  },
  {
   "cell_type": "markdown",
   "id": "asian-poultry",
   "metadata": {},
   "source": [
    "-1 --> 'n/a'"
   ]
  },
  {
   "cell_type": "code",
   "execution_count": 62,
   "id": "removable-fence",
   "metadata": {},
   "outputs": [
    {
     "data": {
      "text/plain": [
       "[('Maybe', 1036), ('No', 2951), ('Yes', 231)]"
      ]
     },
     "execution_count": 62,
     "metadata": {},
     "output_type": "execute_result"
    }
   ],
   "source": [
    "get_users_no_per_answer(12)"
   ]
  },
  {
   "cell_type": "code",
   "execution_count": 63,
   "id": "rental-aerospace",
   "metadata": {},
   "outputs": [
    {
     "data": {
      "text/plain": [
       "[('-1', 1387), ('0', 100), ('1', 1471)]"
      ]
     },
     "execution_count": 63,
     "metadata": {},
     "output_type": "execute_result"
    }
   ],
   "source": [
    "get_users_no_per_answer(13)"
   ]
  },
  {
   "cell_type": "markdown",
   "id": "naughty-warner",
   "metadata": {},
   "source": [
    "-1 --> 'n/a'"
   ]
  },
  {
   "cell_type": "code",
   "execution_count": 64,
   "id": "linear-clinic",
   "metadata": {},
   "outputs": [
    {
     "data": {
      "text/plain": [
       "[('0', 368), ('1', 2590)]"
      ]
     },
     "execution_count": 64,
     "metadata": {},
     "output_type": "execute_result"
    }
   ],
   "source": [
    "get_users_no_per_answer(22)"
   ]
  },
  {
   "cell_type": "code",
   "execution_count": 65,
   "id": "demanding-knitting",
   "metadata": {},
   "outputs": [
    {
     "data": {
      "text/plain": [
       "[('-1', 368),\n",
       " (\"I don't know\", 190),\n",
       " ('No, at none of my previous employers', 416),\n",
       " ('No, none of my previous supervisors', 485),\n",
       " ('Some of my previous employers', 654),\n",
       " ('Some of my previous supervisors', 654),\n",
       " ('Yes, all of my previous supervisors', 98),\n",
       " ('Yes, at all of my previous employers', 93)]"
      ]
     },
     "execution_count": 65,
     "metadata": {},
     "output_type": "execute_result"
    }
   ],
   "source": [
    "get_users_no_per_answer(28)"
   ]
  },
  {
   "cell_type": "markdown",
   "id": "present-classroom",
   "metadata": {},
   "source": [
    "-1 --> 'n/a'"
   ]
  },
  {
   "cell_type": "code",
   "execution_count": 66,
   "id": "vocal-power",
   "metadata": {},
   "outputs": [
    {
     "data": {
      "text/plain": [
       "[('Neutral', 329),\n",
       " ('Not applicable to me (I do not have a mental illness)', 112),\n",
       " ('Not open at all', 332),\n",
       " ('Somewhat not open', 290),\n",
       " ('Somewhat open', 791),\n",
       " ('Very open', 1104)]"
      ]
     },
     "execution_count": 66,
     "metadata": {},
     "output_type": "execute_result"
    }
   ],
   "source": [
    "get_users_no_per_answer(30)"
   ]
  },
  {
   "cell_type": "code",
   "execution_count": 67,
   "id": "serial-marriage",
   "metadata": {},
   "outputs": [
    {
     "data": {
      "text/plain": [
       "[('-1', 15),\n",
       " (\"Don't Know\", 109),\n",
       " ('Maybe', 246),\n",
       " ('No', 896),\n",
       " ('Possibly', 275),\n",
       " ('Yes', 1417)]"
      ]
     },
     "execution_count": 67,
     "metadata": {},
     "output_type": "execute_result"
    }
   ],
   "source": [
    "get_users_no_per_answer(32)"
   ]
  },
  {
   "cell_type": "markdown",
   "id": "medium-replica",
   "metadata": {},
   "source": [
    "-1 --> 'n/a'"
   ]
  },
  {
   "cell_type": "code",
   "execution_count": 68,
   "id": "featured-executive",
   "metadata": {},
   "outputs": [
    {
     "data": {
      "text/plain": [
       "[(\"Don't Know\", 124),\n",
       " ('Maybe', 327),\n",
       " ('No', 969),\n",
       " ('Possibly', 301),\n",
       " ('Yes', 1237)]"
      ]
     },
     "execution_count": 68,
     "metadata": {},
     "output_type": "execute_result"
    }
   ],
   "source": [
    "get_users_no_per_answer(33)"
   ]
  },
  {
   "cell_type": "code",
   "execution_count": 69,
   "id": "indie-cooper",
   "metadata": {},
   "outputs": [
    {
     "data": {
      "text/plain": [
       "[('-1', 863), ('No', 732), ('Yes', 1363)]"
      ]
     },
     "execution_count": 69,
     "metadata": {},
     "output_type": "execute_result"
    }
   ],
   "source": [
    "get_users_no_per_answer(34)"
   ]
  },
  {
   "cell_type": "markdown",
   "id": "scheduled-developer",
   "metadata": {},
   "source": [
    "-1 --> 'n/a'"
   ]
  },
  {
   "cell_type": "code",
   "execution_count": 70,
   "id": "graphic-arbitration",
   "metadata": {},
   "outputs": [
    {
     "data": {
      "text/plain": [
       "[('Never', 165),\n",
       " ('Not applicable to me', 1119),\n",
       " ('Often', 166),\n",
       " ('Rarely', 700),\n",
       " ('Sometimes', 808)]"
      ]
     },
     "execution_count": 70,
     "metadata": {},
     "output_type": "execute_result"
    }
   ],
   "source": [
    "get_users_no_per_answer(48)"
   ]
  },
  {
   "cell_type": "code",
   "execution_count": 14,
   "id": "loose-still",
   "metadata": {},
   "outputs": [
    {
     "data": {
      "text/plain": [
       "[('Never', 24),\n",
       " ('Not applicable to me', 966),\n",
       " ('Often', 1183),\n",
       " ('Rarely', 113),\n",
       " ('Sometimes', 672)]"
      ]
     },
     "execution_count": 14,
     "metadata": {},
     "output_type": "execute_result"
    }
   ],
   "source": [
    "get_users_no_per_answer(49)"
   ]
  },
  {
   "cell_type": "code",
   "execution_count": 15,
   "id": "spare-detection",
   "metadata": {},
   "outputs": [
    {
     "data": {
      "text/plain": [
       "[('-1', 2),\n",
       " ('Afghanistan', 3),\n",
       " ('Algeria', 1),\n",
       " ('Argentina', 3),\n",
       " ('Australia', 50),\n",
       " ('Austria', 8),\n",
       " ('Bangladesh', 3),\n",
       " ('Belgium', 9),\n",
       " ('Bosnia and Herzegovina', 2),\n",
       " ('Botswana', 1),\n",
       " ('Brazil', 30),\n",
       " ('Brunei', 1),\n",
       " ('Bulgaria', 9),\n",
       " ('Canada', 122),\n",
       " ('Chile', 3),\n",
       " ('China', 1),\n",
       " ('Colombia', 4),\n",
       " ('Costa Rica', 1),\n",
       " ('Croatia', 2),\n",
       " ('Czech Republic', 4),\n",
       " ('Denmark', 7),\n",
       " ('Ecuador', 1),\n",
       " ('Eritrea', 1),\n",
       " ('Estonia', 5),\n",
       " ('Ethiopia', 1),\n",
       " ('Finland', 10),\n",
       " ('France', 34),\n",
       " ('Georgia', 1),\n",
       " ('Germany', 90),\n",
       " ('Ghana', 1),\n",
       " ('Greece', 4),\n",
       " ('Guatemala', 1),\n",
       " ('Hong Kong', 2),\n",
       " ('Hungary', 2),\n",
       " ('Iceland', 2),\n",
       " ('India', 39),\n",
       " ('Indonesia', 3),\n",
       " ('Iran', 1),\n",
       " ('Ireland', 23),\n",
       " ('Israel', 4),\n",
       " ('Italy', 10),\n",
       " ('Japan', 6),\n",
       " ('Jordan', 1),\n",
       " ('Kenya', 1),\n",
       " ('Latvia', 1),\n",
       " ('Lithuania', 1),\n",
       " ('Luxembourg', 1),\n",
       " ('Macedonia', 1),\n",
       " ('Mauritius', 1),\n",
       " ('Mexico', 10),\n",
       " ('Netherlands', 70),\n",
       " ('New Zealand', 16),\n",
       " ('Nigeria', 1),\n",
       " ('Norway', 11),\n",
       " ('Other', 3),\n",
       " ('Pakistan', 6),\n",
       " ('Poland', 13),\n",
       " ('Portugal', 22),\n",
       " ('Romania', 7),\n",
       " ('Russia', 13),\n",
       " ('Saudi Arabia', 1),\n",
       " ('Serbia', 4),\n",
       " ('Singapore', 1),\n",
       " ('Slovakia', 2),\n",
       " ('South Africa', 10),\n",
       " ('Spain', 24),\n",
       " ('Swaziland', 1),\n",
       " ('Sweden', 23),\n",
       " ('Switzerland', 21),\n",
       " ('Turkey', 6),\n",
       " ('Ukraine', 3),\n",
       " ('United Arab Emirates', 1),\n",
       " ('United Kingdom', 300),\n",
       " ('United States of America', 1872),\n",
       " ('Uruguay', 1),\n",
       " ('Venezuela', 1),\n",
       " ('Vietnam', 1)]"
      ]
     },
     "execution_count": 15,
     "metadata": {},
     "output_type": "execute_result"
    }
   ],
   "source": [
    "get_users_no_per_answer(50)"
   ]
  },
  {
   "cell_type": "markdown",
   "id": "subtle-reviewer",
   "metadata": {},
   "source": [
    "-1 --> 'n/a'"
   ]
  },
  {
   "cell_type": "code",
   "execution_count": 16,
   "id": "casual-capital",
   "metadata": {},
   "outputs": [
    {
     "data": {
      "text/plain": [
       "[('-1', 1087),\n",
       " ('Alabama', 10),\n",
       " ('Alaska', 4),\n",
       " ('Arizona', 14),\n",
       " ('California', 269),\n",
       " ('Colorado', 54),\n",
       " ('Connecticut', 10),\n",
       " ('Delaware', 1),\n",
       " ('District of Columbia', 15),\n",
       " ('Florida', 36),\n",
       " ('Georgia', 35),\n",
       " ('Hawaii', 1),\n",
       " ('Idaho', 6),\n",
       " ('Illinois', 197),\n",
       " ('Indiana', 67),\n",
       " ('Iowa', 15),\n",
       " ('Kansas', 23),\n",
       " ('Kentucky', 10),\n",
       " ('Louisiana', 5),\n",
       " ('Maine', 7),\n",
       " ('Maryland', 28),\n",
       " ('Massachusetts', 61),\n",
       " ('Michigan', 84),\n",
       " ('Minnesota', 81),\n",
       " ('Mississippi', 1),\n",
       " ('Missouri', 27),\n",
       " ('Montana', 2),\n",
       " ('Nebraska', 58),\n",
       " ('Nevada', 6),\n",
       " ('New Hampshire', 8),\n",
       " ('New Jersey', 20),\n",
       " ('New Mexico', 6),\n",
       " ('New York', 101),\n",
       " ('North Carolina', 37),\n",
       " ('North Dakota', 7),\n",
       " ('Ohio', 78),\n",
       " ('Oklahoma', 15),\n",
       " ('Oregon', 64),\n",
       " ('Pennsylvania', 63),\n",
       " ('Rhode Island', 4),\n",
       " ('South Carolina', 5),\n",
       " ('South Dakota', 5),\n",
       " ('Tennessee', 74),\n",
       " ('Texas', 75),\n",
       " ('Utah', 17),\n",
       " ('Vermont', 6),\n",
       " ('Virginia', 31),\n",
       " ('Washington', 96),\n",
       " ('West Virginia', 1),\n",
       " ('Wisconsin', 30),\n",
       " ('Wyoming', 1)]"
      ]
     },
     "execution_count": 16,
     "metadata": {},
     "output_type": "execute_result"
    }
   ],
   "source": [
    "get_users_no_per_answer(51)"
   ]
  },
  {
   "cell_type": "markdown",
   "id": "numeric-story",
   "metadata": {},
   "source": [
    "-1 --> 'n/a'"
   ]
  },
  {
   "cell_type": "code",
   "execution_count": 17,
   "id": "authorized-bleeding",
   "metadata": {},
   "outputs": [
    {
     "data": {
      "text/plain": [
       "[('-1', 2454),\n",
       " ('No', 26),\n",
       " ('Not applicable to me', 51),\n",
       " ('Unsure', 60),\n",
       " ('Yes', 367)]"
      ]
     },
     "execution_count": 17,
     "metadata": {},
     "output_type": "execute_result"
    }
   ],
   "source": [
    "get_users_no_per_answer(54)"
   ]
  },
  {
   "cell_type": "markdown",
   "id": "general-principal",
   "metadata": {},
   "source": [
    "-1 --> 'n/a'"
   ]
  },
  {
   "cell_type": "code",
   "execution_count": 18,
   "id": "balanced-spencer",
   "metadata": {},
   "outputs": [
    {
     "data": {
      "text/plain": [
       "[('-1', 2591),\n",
       " ('1-25%', 164),\n",
       " ('26-50%', 125),\n",
       " ('51-75%', 53),\n",
       " ('76-100%', 25)]"
      ]
     },
     "execution_count": 18,
     "metadata": {},
     "output_type": "execute_result"
    }
   ],
   "source": [
    "get_users_no_per_answer(55)"
   ]
  },
  {
   "cell_type": "markdown",
   "id": "acute-prayer",
   "metadata": {},
   "source": [
    "-1 --> 'n/a'"
   ]
  },
  {
   "cell_type": "code",
   "execution_count": 19,
   "id": "acquired-merchandise",
   "metadata": {},
   "outputs": [
    {
     "data": {
      "text/plain": [
       "[('-1', 91),\n",
       " (\"I've always been self-employed\", 15),\n",
       " ('Maybe/Not sure', 748),\n",
       " ('No', 1207),\n",
       " ('Yes, I experienced', 356),\n",
       " ('Yes, I observed', 541)]"
      ]
     },
     "execution_count": 19,
     "metadata": {},
     "output_type": "execute_result"
    }
   ],
   "source": [
    "get_users_no_per_answer(56)"
   ]
  },
  {
   "cell_type": "markdown",
   "id": "neutral-newfoundland",
   "metadata": {},
   "source": [
    "-1 --> 'n/a'"
   ]
  },
  {
   "cell_type": "code",
   "execution_count": 20,
   "id": "lesbian-russian",
   "metadata": {},
   "outputs": [
    {
     "data": {
      "text/plain": [
       "[('-1', 2), ('0', 1340), ('1', 183)]"
      ]
     },
     "execution_count": 20,
     "metadata": {},
     "output_type": "execute_result"
    }
   ],
   "source": [
    "get_users_no_per_answer(78)"
   ]
  },
  {
   "cell_type": "markdown",
   "id": "equipped-viewer",
   "metadata": {},
   "source": [
    "-1 --> 'n/a'"
   ]
  },
  {
   "cell_type": "code",
   "execution_count": 21,
   "id": "cleared-vocabulary",
   "metadata": {},
   "outputs": [
    {
     "data": {
      "text/plain": [
       "[('-1', 1345), ('0', 119), ('1', 61)]"
      ]
     },
     "execution_count": 21,
     "metadata": {},
     "output_type": "execute_result"
    }
   ],
   "source": [
    "get_users_no_per_answer(79)"
   ]
  },
  {
   "cell_type": "markdown",
   "id": "laughing-float",
   "metadata": {},
   "source": [
    "-1 --> 'n/a'"
   ]
  },
  {
   "cell_type": "code",
   "execution_count": 22,
   "id": "unexpected-ozone",
   "metadata": {},
   "outputs": [
    {
     "data": {
      "text/plain": [
       "[('-1', 537),\n",
       " ('American Indian or Alaska Native', 1),\n",
       " ('Asian', 31),\n",
       " ('Black or African American', 15),\n",
       " ('Caucasian', 1),\n",
       " ('European American', 1),\n",
       " ('Hispanic', 1),\n",
       " ('I prefer not to answer', 29),\n",
       " ('More than one of the above', 35),\n",
       " ('White', 873),\n",
       " ('White Hispanic', 1)]"
      ]
     },
     "execution_count": 22,
     "metadata": {},
     "output_type": "execute_result"
    }
   ],
   "source": [
    "get_users_no_per_answer(89)"
   ]
  },
  {
   "cell_type": "markdown",
   "id": "casual-award",
   "metadata": {},
   "source": [
    "-1 --> 'n/a'"
   ]
  },
  {
   "cell_type": "code",
   "execution_count": 23,
   "id": "conscious-organization",
   "metadata": {},
   "outputs": [
    {
     "data": {
      "text/plain": [
       "[('No', 884), ('Yes', 376)]"
      ]
     },
     "execution_count": 23,
     "metadata": {},
     "output_type": "execute_result"
    }
   ],
   "source": [
    "get_users_no_per_answer(93)"
   ]
  },
  {
   "cell_type": "code",
   "execution_count": 24,
   "id": "expensive-commissioner",
   "metadata": {},
   "outputs": [
    {
     "data": {
      "text/plain": [
       "[('Always', 343), ('Never', 333), ('Sometimes', 757)]"
      ]
     },
     "execution_count": 24,
     "metadata": {},
     "output_type": "execute_result"
    }
   ],
   "source": [
    "get_users_no_per_answer(118)"
   ]
  },
  {
   "cell_type": "markdown",
   "id": "illegal-radius",
   "metadata": {},
   "source": [
    "Change the values for above questions. Many of them have the same fix to be done - (-1 --> 'n/a'). That can be achieved by replacing '-1' in entire column, but for safety let's specify the question ids."
   ]
  },
  {
   "cell_type": "code",
   "execution_count": 49,
   "id": "korean-ceramic",
   "metadata": {},
   "outputs": [],
   "source": [
    "question_ids = [2, 4, 5, 8, 9, 13, 28, 32, 34, 50, 51, 54, 55, 56, 78, 79, 89]"
   ]
  },
  {
   "cell_type": "code",
   "execution_count": 10,
   "id": "innocent-roller",
   "metadata": {},
   "outputs": [],
   "source": [
    "def change_answer_value(q_ids, v1, v2):\n",
    "    ''' Update the answer value for the list of question provided in list.\n",
    "        v1 is a value which will be change.\n",
    "        v2 is a target value. '''\n",
    "    values_no = ('?, '*len(q_ids))[:-2]\n",
    "    conn = sqlite3.connect('DB/mental_health.sqlite')\n",
    "    c = conn.cursor()\n",
    "    c.execute(f\"UPDATE Answer SET AnswerText = ? WHERE AnswerText = ? and QuestionID IN ({values_no})\", (v2, v1, *q_ids))\n",
    "    conn.commit()\n",
    "    conn.close()"
   ]
  },
  {
   "cell_type": "code",
   "execution_count": 29,
   "id": "southwest-avenue",
   "metadata": {},
   "outputs": [],
   "source": [
    "change_answer_value(question_ids, '-1', 'n/a')"
   ]
  },
  {
   "cell_type": "markdown",
   "id": "handled-cursor",
   "metadata": {},
   "source": [
    "Verify the changes."
   ]
  },
  {
   "cell_type": "code",
   "execution_count": 50,
   "id": "wooden-schema",
   "metadata": {},
   "outputs": [
    {
     "name": "stdout",
     "output_type": "stream",
     "text": [
      "('Female', 1024)\n",
      "('Alabama', 19)\n",
      "('0', 3550)\n",
      "('1-5', 254)\n",
      "('0', 826)\n",
      "('0', 100)\n",
      "(\"I don't know\", 190)\n",
      "(\"Don't Know\", 109)\n",
      "('No', 732)\n",
      "('Afghanistan', 3)\n",
      "('Alabama', 10)\n",
      "('No', 26)\n",
      "('1-25%', 164)\n",
      "(\"I've always been self-employed\", 15)\n",
      "('0', 1340)\n",
      "('0', 119)\n",
      "('American Indian or Alaska Native', 1)\n"
     ]
    }
   ],
   "source": [
    "for q in question_ids:\n",
    "    print(get_users_no_per_answer(q)[0]) # -1 was always as a first row"
   ]
  },
  {
   "cell_type": "markdown",
   "id": "stopped-parking",
   "metadata": {},
   "source": [
    "Change the 'DC' to 'Washington'. That can be done in entire table."
   ]
  },
  {
   "cell_type": "code",
   "execution_count": 34,
   "id": "saved-lease",
   "metadata": {},
   "outputs": [],
   "source": [
    "change_table_value('mental_health', 'Answer', 'AnswerText', 'DC', 'Washington')"
   ]
  },
  {
   "cell_type": "markdown",
   "id": "governing-dairy",
   "metadata": {},
   "source": [
    "Verify the change."
   ]
  },
  {
   "cell_type": "code",
   "execution_count": 11,
   "id": "confused-furniture",
   "metadata": {},
   "outputs": [],
   "source": [
    "def get_value_from_column(table, column, value):\n",
    "    ''' Get particular answer from defined table. '''\n",
    "    conn = sqlite3.connect('DB/mental_health.sqlite')\n",
    "    c = conn.cursor()\n",
    "    c.execute(f\"SELECT {column} FROM {table} WHERE {column} = ?\", (value,))\n",
    "    value = c.fetchall()\n",
    "    conn.commit()\n",
    "    conn.close()\n",
    "    return value"
   ]
  },
  {
   "cell_type": "code",
   "execution_count": 36,
   "id": "protecting-posting",
   "metadata": {},
   "outputs": [
    {
     "data": {
      "text/plain": [
       "[]"
      ]
     },
     "execution_count": 36,
     "metadata": {},
     "output_type": "execute_result"
    }
   ],
   "source": [
    "get_value_from_column('Answer', 'AnswerText', 'DC')"
   ]
  },
  {
   "cell_type": "markdown",
   "id": "continuous-biography",
   "metadata": {},
   "source": [
    "For question 2:  -1 --> 'n/a and all below quantity of five answers going to be Other. However before that the following answers have to be combined:"
   ]
  },
  {
   "cell_type": "code",
   "execution_count": null,
   "id": "cognitive-section",
   "metadata": {},
   "outputs": [],
   "source": [
    "# Female <-- female\n",
    "# Male <-- MALE, I have a penis, male\n",
    "# Non-binary <-- Non binary, Nonbinary"
   ]
  },
  {
   "cell_type": "code",
   "execution_count": 48,
   "id": "medical-index",
   "metadata": {},
   "outputs": [],
   "source": [
    "# change_answer_value('2', '-1', 'n/a') # already done above"
   ]
  },
  {
   "cell_type": "code",
   "execution_count": 37,
   "id": "bound-accountability",
   "metadata": {},
   "outputs": [],
   "source": [
    "# in case of more value that could be solved by dict (.keys, .values)\n",
    "change_table_value('mental_health', 'Answer', 'AnswerText', 'female', 'Female')\n",
    "change_table_value('mental_health', 'Answer', 'AnswerText', 'MALE', 'Male')\n",
    "change_table_value('mental_health', 'Answer', 'AnswerText', 'I have a penis', 'Male')\n",
    "change_table_value('mental_health', 'Answer', 'AnswerText', 'male', 'Male')\n",
    "change_table_value('mental_health', 'Answer', 'AnswerText', 'Non binary', 'Non-binary')\n",
    "change_table_value('mental_health', 'Answer', 'AnswerText', 'Nonbinary', 'Non-binary')"
   ]
  },
  {
   "cell_type": "code",
   "execution_count": 45,
   "id": "worse-jordan",
   "metadata": {},
   "outputs": [],
   "source": [
    "def change_answer_for_q_smaller(q_id, t_value, qty):\n",
    "    ''' Change answer for provided question q_id to t_value where occurency is lower than qty. '''\n",
    "    conn = sqlite3.connect('DB/mental_health.sqlite')\n",
    "    c = conn.cursor()\n",
    "    c.execute(f'SELECT AnswerText, count(UserID) as UNo FROM Answer WHERE QuestionID = ? GROUP BY AnswerText HAVING UNo > ?', \n",
    "              (q_id, qty))\n",
    "    sel = c.fetchall()\n",
    "    sel = [k for k, _ in sel]\n",
    "    values_no = ('?, '*len(sel))[:-2]\n",
    "    c.execute(f'UPDATE Answer SET AnswerText = ? WHERE QuestionID = ? and AnswerText NOT IN ({values_no})', \n",
    "              (t_value, q_id, *sel))\n",
    "    conn.commit()\n",
    "    conn.close()"
   ]
  },
  {
   "cell_type": "code",
   "execution_count": 46,
   "id": "forward-timer",
   "metadata": {},
   "outputs": [],
   "source": [
    "change_answer_for_q_smaller(2, 'Other', 5)"
   ]
  },
  {
   "cell_type": "markdown",
   "id": "detailed-chance",
   "metadata": {},
   "source": [
    "Verify the result."
   ]
  },
  {
   "cell_type": "code",
   "execution_count": 3,
   "id": "lasting-excellence",
   "metadata": {},
   "outputs": [
    {
     "data": {
      "text/plain": [
       "[('Female', 1024),\n",
       " ('Male', 3044),\n",
       " ('Non-binary', 13),\n",
       " ('Other', 107),\n",
       " ('n/a', 24),\n",
       " ('non-binary', 6)]"
      ]
     },
     "execution_count": 3,
     "metadata": {},
     "output_type": "execute_result"
    }
   ],
   "source": [
    "get_users_no_per_answer(2)"
   ]
  },
  {
   "cell_type": "markdown",
   "id": "uniform-campbell",
   "metadata": {},
   "source": [
    "Regarding the question 1, the age. The decision is to delete user with answers for these below 18 and above 100. That 15/4218 so less than 0.4% "
   ]
  },
  {
   "cell_type": "code",
   "execution_count": 78,
   "id": "inclusive-makeup",
   "metadata": {},
   "outputs": [],
   "source": [
    "def delete_participant_out_of_age_range(age_range):\n",
    "    ''' Delete users with their answers which age is out of the provided range.\n",
    "        age_range is a list. The deletion is done below [0] and above [1]. '''\n",
    "    conn = sqlite3.connect('DB/mental_health.sqlite')\n",
    "    c = conn.cursor()\n",
    "    c.execute(f\"DELETE FROM Answer WHERE QuestionID = 1 and (CAST(AnswerText AS INTEGER) < ? or CAST(AnswerText AS INTEGER) > ?)\", (age_range[0], age_range[1]))\n",
    "    conn.commit()\n",
    "    conn.close()"
   ]
  },
  {
   "cell_type": "code",
   "execution_count": 79,
   "id": "formal-elizabeth",
   "metadata": {},
   "outputs": [],
   "source": [
    "delete_participant_out_of_age_range([18, 100])"
   ]
  },
  {
   "cell_type": "markdown",
   "id": "defensive-workplace",
   "metadata": {},
   "source": [
    "Verify the changes."
   ]
  },
  {
   "cell_type": "code",
   "execution_count": 83,
   "id": "funded-wesley",
   "metadata": {},
   "outputs": [
    {
     "data": {
      "text/plain": [
       "[('18', 9),\n",
       " ('19', 20),\n",
       " ('20', 17),\n",
       " ('21', 39),\n",
       " ('22', 74),\n",
       " ('23', 107),\n",
       " ('24', 128),\n",
       " ('25', 147),\n",
       " ('26', 194),\n",
       " ('27', 197),\n",
       " ('28', 220),\n",
       " ('29', 229),\n",
       " ('30', 250),\n",
       " ('31', 223),\n",
       " ('32', 227),\n",
       " ('33', 201),\n",
       " ('34', 202),\n",
       " ('35', 201),\n",
       " ('36', 147),\n",
       " ('37', 184),\n",
       " ('38', 160),\n",
       " ('39', 137),\n",
       " ('40', 122),\n",
       " ('41', 88),\n",
       " ('42', 100),\n",
       " ('43', 82),\n",
       " ('44', 68),\n",
       " ('45', 74),\n",
       " ('46', 58),\n",
       " ('47', 38),\n",
       " ('48', 29),\n",
       " ('49', 36),\n",
       " ('50', 30),\n",
       " ('51', 22),\n",
       " ('52', 17),\n",
       " ('53', 15),\n",
       " ('54', 17),\n",
       " ('55', 22),\n",
       " ('56', 13),\n",
       " ('57', 14),\n",
       " ('58', 5),\n",
       " ('59', 6),\n",
       " ('60', 5),\n",
       " ('61', 7),\n",
       " ('62', 3),\n",
       " ('63', 5),\n",
       " ('64', 3),\n",
       " ('65', 3),\n",
       " ('66', 2),\n",
       " ('67', 2),\n",
       " ('70', 1),\n",
       " ('72', 1),\n",
       " ('74', 1),\n",
       " ('99', 1)]"
      ]
     },
     "execution_count": 83,
     "metadata": {},
     "output_type": "execute_result"
    }
   ],
   "source": [
    "get_users_no_per_answer(1)"
   ]
  },
  {
   "cell_type": "markdown",
   "id": "incorporated-presence",
   "metadata": {},
   "source": [
    "The overview and cleaning for chosen questions can be closed here. Let's go to the next step where the pipeline will be build for cleaning (only chosen questions supported). Then the next steps will be classes for gathering data and visualization."
   ]
  }
 ],
 "metadata": {
  "kernelspec": {
   "display_name": "Python 3",
   "language": "python",
   "name": "python3"
  },
  "language_info": {
   "codemirror_mode": {
    "name": "ipython",
    "version": 3
   },
   "file_extension": ".py",
   "mimetype": "text/x-python",
   "name": "python",
   "nbconvert_exporter": "python",
   "pygments_lexer": "ipython3",
   "version": "3.7.6"
  }
 },
 "nbformat": 4,
 "nbformat_minor": 5
}
